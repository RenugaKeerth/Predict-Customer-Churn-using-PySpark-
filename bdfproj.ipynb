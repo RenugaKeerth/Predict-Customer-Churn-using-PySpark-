{
 "cells": [
  {
   "cell_type": "markdown",
   "metadata": {
    "id": "BDZ_m6j3qsi8"
   },
   "source": [
    "# Predict Customer Churn using PySpark Machine Learning"
   ]
  },
  {
   "cell_type": "code",
   "execution_count": null,
   "metadata": {
    "colab": {
     "base_uri": "https://localhost:8080/"
    },
    "id": "Z3dG1ZHjNGh-",
    "outputId": "0587e14a-894c-40d8-f149-e899a3fd1d91"
   },
   "outputs": [
    {
     "name": "stdout",
     "output_type": "stream",
     "text": [
      "Requirement already satisfied: pyspark in /usr/local/lib/python3.6/dist-packages (3.0.1)\n",
      "Requirement already satisfied: py4j==0.10.9 in /usr/local/lib/python3.6/dist-packages (from pyspark) (0.10.9)\n",
      "openjdk-8-jdk-headless is already the newest version (8u272-b10-0ubuntu1~18.04).\n",
      "0 upgraded, 0 newly installed, 0 to remove and 11 not upgraded.\n"
     ]
    }
   ],
   "source": [
    "!pip install pyspark\n",
    "\n",
    "!pip install -U -q PyDrive\n",
    "\n",
    "!apt install openjdk-8-jdk-headless -qq\n",
    "\n",
    "import os\n",
    "\n",
    "os.environ[\"JAVA_HOME\"] = \"/usr/lib/jvm/java-8-openjdk-amd64\""
   ]
  },
  {
   "cell_type": "markdown",
   "metadata": {
    "id": "lySUdoZnY7I1"
   },
   "source": [
    "## Sparkify Project Workspace"
   ]
  },
  {
   "cell_type": "code",
   "execution_count": null,
   "metadata": {
    "id": "ZYxd1OTzQ7nP"
   },
   "outputs": [],
   "source": [
    "# import libraries\n",
    "from pyspark.sql import SparkSession\n",
    "from pyspark.sql.functions import add_months, avg, count, countDistinct, col, datediff,\\\n",
    "desc, expr, from_unixtime, floor, isnan, lag, lit, month, months_between,\\\n",
    "min, max, split, sum, udf, unix_timestamp, when, year\n",
    "from pyspark.sql.types import IntegerType, DateType\n",
    "from pyspark.sql.window import Window\n",
    "\n",
    "from pyspark.ml import Pipeline\n",
    "from pyspark.ml.classification import LogisticRegression, GBTClassifier, LinearSVC\n",
    "from pyspark.ml.evaluation import BinaryClassificationEvaluator, MulticlassClassificationEvaluator\n",
    "from pyspark.ml.feature import StandardScaler, VectorAssembler\n",
    "from pyspark.ml.regression import LinearRegression\n",
    "from pyspark.ml.tuning import CrossValidator, ParamGridBuilder\n",
    "\n",
    "import matplotlib.pyplot as plt\n",
    "\n",
    "import pandas as pd\n",
    "import numpy as np\n",
    "\n",
    "from datetime import datetime"
   ]
  },
  {
   "cell_type": "code",
   "execution_count": null,
   "metadata": {
    "id": "ChqZs900Q7rA"
   },
   "outputs": [],
   "source": [
    "# create a Spark session\n",
    "spark = SparkSession.builder \\\n",
    "    .master(\"local\") \\\n",
    "    .appName(\"Sparkify\") \\\n",
    "    .getOrCreate()"
   ]
  },
  {
   "cell_type": "markdown",
   "metadata": {
    "id": "ioxBM1htZLCl"
   },
   "source": [
    "# Load and Clean Dataset"
   ]
  },
  {
   "cell_type": "code",
   "execution_count": null,
   "metadata": {
    "colab": {
     "base_uri": "https://localhost:8080/"
    },
    "id": "9MhPz_OcQ7uA",
    "outputId": "d210fb1c-650c-46fa-93c8-2211e68cbb3f"
   },
   "outputs": [
    {
     "data": {
      "text/plain": [
       "Row(_corrupt_record='e\":\"Alexander\",\"registration\":1536817381000,\"gender\":\"M\",\"artist\":\"Intocable\",\"song\":\"Tiempo\",\"length\":207.0722}', artist=None, auth=None, firstName=None, gender=None, itemInSession=None, lastName=None, length=None, level=None, location=None, method=None, page=None, registration=None, sessionId=None, song=None, status=None, ts=None, userAgent=None, userId=None)"
      ]
     },
     "execution_count": 56,
     "metadata": {
      "tags": []
     },
     "output_type": "execute_result"
    }
   ],
   "source": [
    "df = spark.read.json('/content/mini_sparkify_event_data.json')\n",
    "df.head()"
   ]
  },
  {
   "cell_type": "code",
   "execution_count": null,
   "metadata": {
    "colab": {
     "base_uri": "https://localhost:8080/"
    },
    "id": "YmHM31KNQ7w0",
    "outputId": "cdca98ff-0677-4259-f54c-f49ec0ef6538"
   },
   "outputs": [
    {
     "name": "stdout",
     "output_type": "stream",
     "text": [
      "root\n",
      " |-- _corrupt_record: string (nullable = true)\n",
      " |-- artist: string (nullable = true)\n",
      " |-- auth: string (nullable = true)\n",
      " |-- firstName: string (nullable = true)\n",
      " |-- gender: string (nullable = true)\n",
      " |-- itemInSession: long (nullable = true)\n",
      " |-- lastName: string (nullable = true)\n",
      " |-- length: double (nullable = true)\n",
      " |-- level: string (nullable = true)\n",
      " |-- location: string (nullable = true)\n",
      " |-- method: string (nullable = true)\n",
      " |-- page: string (nullable = true)\n",
      " |-- registration: long (nullable = true)\n",
      " |-- sessionId: long (nullable = true)\n",
      " |-- song: string (nullable = true)\n",
      " |-- status: long (nullable = true)\n",
      " |-- ts: long (nullable = true)\n",
      " |-- userAgent: string (nullable = true)\n",
      " |-- userId: string (nullable = true)\n",
      "\n"
     ]
    }
   ],
   "source": [
    "df.printSchema()"
   ]
  },
  {
   "cell_type": "code",
   "execution_count": null,
   "metadata": {
    "colab": {
     "base_uri": "https://localhost:8080/"
    },
    "id": "ZzLNfLKpQ70i",
    "outputId": "e7a247f4-7535-4720-82a6-8a8fdaa64270"
   },
   "outputs": [
    {
     "data": {
      "text/plain": [
       "Row(_corrupt_record='e\":\"Alexander\",\"registration\":1536817381000,\"gender\":\"M\",\"artist\":\"Intocable\",\"song\":\"Tiempo\",\"length\":207.0722}', artist=None, auth=None, firstName=None, gender=None, itemInSession=None, lastName=None, length=None, level=None, location=None, method=None, page=None, registration=None, sessionId=None, song=None, status=None, ts=None, userAgent=None, userId=None)"
      ]
     },
     "execution_count": 58,
     "metadata": {
      "tags": []
     },
     "output_type": "execute_result"
    }
   ],
   "source": [
    "df.head()"
   ]
  },
  {
   "cell_type": "markdown",
   "metadata": {
    "id": "JxKSWz6nZSRf"
   },
   "source": [
    "# Investigate timestamps"
   ]
  },
  {
   "cell_type": "code",
   "execution_count": null,
   "metadata": {
    "colab": {
     "base_uri": "https://localhost:8080/"
    },
    "id": "MJ8SgJVXQ73w",
    "outputId": "c97267af-0d7d-4fed-d6f5-9e4261df30eb"
   },
   "outputs": [
    {
     "name": "stdout",
     "output_type": "stream",
     "text": [
      "+-------+--------------------+\n",
      "|summary|                  ts|\n",
      "+-------+--------------------+\n",
      "|  count|              279402|\n",
      "|   mean|1.541020348015104...|\n",
      "| stddev|1.4723451594213476E9|\n",
      "|    min|       1538374371000|\n",
      "|    max|       1543799476000|\n",
      "+-------+--------------------+\n",
      "\n"
     ]
    }
   ],
   "source": [
    "df.describe(\"ts\").show()"
   ]
  },
  {
   "cell_type": "code",
   "execution_count": null,
   "metadata": {
    "colab": {
     "base_uri": "https://localhost:8080/"
    },
    "id": "TZqwEtPmQ7-T",
    "outputId": "54bf263c-2dd2-4912-a4df-7cd1d5e06d3e"
   },
   "outputs": [
    {
     "name": "stdout",
     "output_type": "stream",
     "text": [
      "Start Time: 2018-10-01 00:01:57\n",
      "End Time: 2018-12-03 01:11:16\n"
     ]
    }
   ],
   "source": [
    "ts = int(1538352117000)\n",
    "ts /= 1000\n",
    "print(\"Start Time: {}\".format(datetime.utcfromtimestamp(ts).strftime('%Y-%m-%d %H:%M:%S')))\n",
    "\n",
    "ts = int(1543799476000)\n",
    "ts /= 1000\n",
    "print(\"End Time: {}\".format(datetime.utcfromtimestamp(ts).strftime('%Y-%m-%d %H:%M:%S')))"
   ]
  },
  {
   "cell_type": "markdown",
   "metadata": {
    "id": "kLDKsq5hZaOP"
   },
   "source": [
    "# Investigate pages"
   ]
  },
  {
   "cell_type": "code",
   "execution_count": null,
   "metadata": {
    "colab": {
     "base_uri": "https://localhost:8080/"
    },
    "id": "nzLh3I3-jP8T",
    "outputId": "73ad6a10-8843-499e-d6c9-0041661b2506"
   },
   "outputs": [
    {
     "name": "stdout",
     "output_type": "stream",
     "text": [
      "+--------------------+\n",
      "|                page|\n",
      "+--------------------+\n",
      "|              Cancel|\n",
      "|    Submit Downgrade|\n",
      "|         Thumbs Down|\n",
      "|                Home|\n",
      "|           Downgrade|\n",
      "|         Roll Advert|\n",
      "|                null|\n",
      "|              Logout|\n",
      "|       Save Settings|\n",
      "|Cancellation Conf...|\n",
      "|               About|\n",
      "| Submit Registration|\n",
      "|            Settings|\n",
      "|               Login|\n",
      "|            Register|\n",
      "|     Add to Playlist|\n",
      "|          Add Friend|\n",
      "|            NextSong|\n",
      "|           Thumbs Up|\n",
      "|                Help|\n",
      "+--------------------+\n",
      "only showing top 20 rows\n",
      "\n"
     ]
    }
   ],
   "source": [
    "df.select(\"page\").dropDuplicates().show()"
   ]
  },
  {
   "cell_type": "code",
   "execution_count": null,
   "metadata": {
    "colab": {
     "base_uri": "https://localhost:8080/"
    },
    "id": "OfIu-3CdjP_8",
    "outputId": "aef0c71a-270a-49a3-bc0a-12dea3eaf9b1"
   },
   "outputs": [
    {
     "name": "stdout",
     "output_type": "stream",
     "text": [
      "+---------------+------+---------+---------+------+-------------+--------+------+-----+--------------------+------+------+-------------+---------+----+------+-------------+--------------------+------+\n",
      "|_corrupt_record|artist|     auth|firstName|gender|itemInSession|lastName|length|level|            location|method|  page| registration|sessionId|song|status|           ts|           userAgent|userId|\n",
      "+---------------+------+---------+---------+------+-------------+--------+------+-----+--------------------+------+------+-------------+---------+----+------+-------------+--------------------+------+\n",
      "|           null|  null|Logged In|   Adriel|     M|          103| Mendoza|  null| paid|  Kansas City, MO-KS|   PUT|Cancel|1535623466000|      514|null|   307|1538943740000|\"Mozilla/5.0 (Mac...|    18|\n",
      "|           null|  null|Logged In|    Diego|     M|           55|   Mckee|  null| paid|Phoenix-Mesa-Scot...|   PUT|Cancel|1537167593000|      540|null|   307|1539033031000|\"Mozilla/5.0 (iPh...|    32|\n",
      "|           null|  null|Logged In|    Mason|     M|            9|    Hart|  null| free|  Corpus Christi, TX|   PUT|Cancel|1533157139000|      174|null|   307|1539318918000|\"Mozilla/5.0 (Mac...|   125|\n",
      "|           null|  null|Logged In|Alexander|     M|          331|  Garcia|  null| paid|Indianapolis-Carm...|   PUT|Cancel|1536817381000|      508|null|   307|1539375378000|Mozilla/5.0 (Wind...|   105|\n",
      "+---------------+------+---------+---------+------+-------------+--------+------+-----+--------------------+------+------+-------------+---------+----+------+-------------+--------------------+------+\n",
      "only showing top 4 rows\n",
      "\n"
     ]
    }
   ],
   "source": [
    "df.filter(df.page==\"Cancel\").show(4)"
   ]
  },
  {
   "cell_type": "code",
   "execution_count": null,
   "metadata": {
    "colab": {
     "base_uri": "https://localhost:8080/"
    },
    "id": "A1fcYeu7jQDD",
    "outputId": "de0e80df-7309-47c2-f271-ec0106c9cc1c"
   },
   "outputs": [
    {
     "name": "stdout",
     "output_type": "stream",
     "text": [
      "+---------------+------+---------+---------+------+-------------+--------+------+-----+--------------------+------+----------------+-------------+---------+----+------+-------------+--------------------+------+\n",
      "|_corrupt_record|artist|     auth|firstName|gender|itemInSession|lastName|length|level|            location|method|            page| registration|sessionId|song|status|           ts|           userAgent|userId|\n",
      "+---------------+------+---------+---------+------+-------------+--------+------+-----+--------------------+------+----------------+-------------+---------+----+------+-------------+--------------------+------+\n",
      "|           null|  null|Logged In|  Kaylenn|     F|          354| Jenkins|  null| paid|           Price, UT|   PUT|Submit Downgrade|1535903878000|      479|null|   307|1538835479000|\"Mozilla/5.0 (Mac...|   141|\n",
      "|           null|  null|Logged In|    Colin|     M|          214| Freeman|  null| paid|     Bakersfield, CA|   PUT|Submit Downgrade|1538173362000|      532|null|   307|1538995454000|Mozilla/5.0 (Wind...|    30|\n",
      "|           null|  null|Logged In|  Destiny|     F|            2| Herring|  null| paid|Miami-Fort Lauder...|   PUT|Submit Downgrade|1536844410000|      378|null|   307|1538997356000|\"Mozilla/5.0 (Win...|    20|\n",
      "|           null|  null|Logged In|   Sophia|     F|           42|   Perry|  null| paid|Los Angeles-Long ...|   PUT|Submit Downgrade|1533885783000|      632|null|   307|1539144047000|Mozilla/5.0 (Wind...|    12|\n",
      "+---------------+------+---------+---------+------+-------------+--------+------+-----+--------------------+------+----------------+-------------+---------+----+------+-------------+--------------------+------+\n",
      "only showing top 4 rows\n",
      "\n"
     ]
    }
   ],
   "source": [
    "df.filter(df.page==\"Submit Downgrade\").show(4)"
   ]
  },
  {
   "cell_type": "code",
   "execution_count": null,
   "metadata": {
    "colab": {
     "base_uri": "https://localhost:8080/"
    },
    "id": "6FaIqs72jQFd",
    "outputId": "0a1cdc4e-4026-46d2-aa46-591c231a42bd"
   },
   "outputs": [
    {
     "name": "stdout",
     "output_type": "stream",
     "text": [
      "+---------------+------+---------+---------+------+-------------+--------+------+-----+--------------------+------+--------------------+-------------+---------+----+------+-------------+--------------------+------+\n",
      "|_corrupt_record|artist|     auth|firstName|gender|itemInSession|lastName|length|level|            location|method|                page| registration|sessionId|song|status|           ts|           userAgent|userId|\n",
      "+---------------+------+---------+---------+------+-------------+--------+------+-----+--------------------+------+--------------------+-------------+---------+----+------+-------------+--------------------+------+\n",
      "|           null|  null|Cancelled|   Adriel|     M|          104| Mendoza|  null| paid|  Kansas City, MO-KS|   GET|Cancellation Conf...|1535623466000|      514|null|   200|1538943990000|\"Mozilla/5.0 (Mac...|    18|\n",
      "|           null|  null|Cancelled|    Diego|     M|           56|   Mckee|  null| paid|Phoenix-Mesa-Scot...|   GET|Cancellation Conf...|1537167593000|      540|null|   200|1539033046000|\"Mozilla/5.0 (iPh...|    32|\n",
      "|           null|  null|Cancelled|    Mason|     M|           10|    Hart|  null| free|  Corpus Christi, TX|   GET|Cancellation Conf...|1533157139000|      174|null|   200|1539318918000|\"Mozilla/5.0 (Mac...|   125|\n",
      "|           null|  null|Cancelled|Alexander|     M|          332|  Garcia|  null| paid|Indianapolis-Carm...|   GET|Cancellation Conf...|1536817381000|      508|null|   200|1539375441000|Mozilla/5.0 (Wind...|   105|\n",
      "+---------------+------+---------+---------+------+-------------+--------+------+-----+--------------------+------+--------------------+-------------+---------+----+------+-------------+--------------------+------+\n",
      "only showing top 4 rows\n",
      "\n"
     ]
    }
   ],
   "source": [
    "df.filter(df.page==\"Cancellation Confirmation\").show(4)"
   ]
  },
  {
   "cell_type": "code",
   "execution_count": null,
   "metadata": {
    "colab": {
     "base_uri": "https://localhost:8080/"
    },
    "id": "C5-xR_vNjQKN",
    "outputId": "2c87344d-f3b2-4cb3-eb43-02c421cac42c"
   },
   "outputs": [
    {
     "name": "stdout",
     "output_type": "stream",
     "text": [
      "+---------------+------+---------+---------+------+-------------+---------+------+-----+--------------------+------+-----------+-------------+---------+----+------+-------------+--------------------+------+\n",
      "|_corrupt_record|artist|     auth|firstName|gender|itemInSession| lastName|length|level|            location|method|       page| registration|sessionId|song|status|           ts|           userAgent|userId|\n",
      "+---------------+------+---------+---------+------+-------------+---------+------+-----+--------------------+------+-----------+-------------+---------+----+------+-------------+--------------------+------+\n",
      "|           null|  null|Logged In|    Jaxon|     M|           21|   Reilly|  null| free|    Jacksonville, FL|   GET|Roll Advert|1531760527000|      226|null|   200|1538561090000|Mozilla/5.0 (Wind...|    86|\n",
      "|           null|  null|Logged In|  Miracle|     F|           23|       Ho|  null| free|Atlanta-Sandy Spr...|   GET|Roll Advert|1534613601000|      318|null|   200|1538562360000|Mozilla/5.0 (Wind...|    52|\n",
      "|           null|  null|Logged In|  Nikolas|     M|            7|    Olsen|  null| free|Oxnard-Thousand O...|   GET|Roll Advert|1528403713000|      371|null|   200|1538563036000|Mozilla/5.0 (X11;...|   121|\n",
      "|           null|  null|Logged In|   Jaleel|     M|           27|Maldonado|  null| free|         Boulder, CO|   GET|Roll Advert|1537890437000|      284|null|   200|1538563795000|Mozilla/5.0 (Wind...|    59|\n",
      "+---------------+------+---------+---------+------+-------------+---------+------+-----+--------------------+------+-----------+-------------+---------+----+------+-------------+--------------------+------+\n",
      "only showing top 4 rows\n",
      "\n"
     ]
    }
   ],
   "source": [
    "# both free and premium have adverts\n",
    "df.filter(df.page==\"Roll Advert\").show(4)"
   ]
  },
  {
   "cell_type": "code",
   "execution_count": null,
   "metadata": {
    "colab": {
     "base_uri": "https://localhost:8080/"
    },
    "id": "Yc-K1dPBjQNs",
    "outputId": "c260bdc9-5955-4079-ed09-1a1083f4e0e4"
   },
   "outputs": [
    {
     "name": "stdout",
     "output_type": "stream",
     "text": [
      "+---------------+------+---------+---------+------+-------------+--------+------+-----+--------------------+------+-------------+-------------+---------+----+------+-------------+--------------------+------+\n",
      "|_corrupt_record|artist|     auth|firstName|gender|itemInSession|lastName|length|level|            location|method|         page| registration|sessionId|song|status|           ts|           userAgent|userId|\n",
      "+---------------+------+---------+---------+------+-------------+--------+------+-----+--------------------+------+-------------+-------------+---------+----+------+-------------+--------------------+------+\n",
      "|           null|  null|Logged In|  Madelyn|     F|           47|  Henson|  null| paid|Charlotte-Concord...|   PUT|Save Settings|1532920994000|      366|null|   307|1538589858000|\"Mozilla/5.0 (Mac...|   113|\n",
      "|           null|  null|Logged In|Alexander|     M|           72|  Garcia|  null| paid|Indianapolis-Carm...|   PUT|Save Settings|1536817381000|      390|null|   307|1538633152000|Mozilla/5.0 (Wind...|   105|\n",
      "|           null|  null|Logged In|     Lily|     F|           32| Barnett|  null| free|Washington-Arling...|   PUT|Save Settings|1537053412000|      353|null|   307|1538655474000|\"Mozilla/5.0 (Mac...|    35|\n",
      "|           null|  null|Logged In|    Molly|     F|           28|Harrison|  null| free|Virginia Beach-No...|   PUT|Save Settings|1534255113000|      306|null|   307|1538668766000|\"Mozilla/5.0 (Mac...|   143|\n",
      "+---------------+------+---------+---------+------+-------------+--------+------+-----+--------------------+------+-------------+-------------+---------+----+------+-------------+--------------------+------+\n",
      "only showing top 4 rows\n",
      "\n"
     ]
    }
   ],
   "source": [
    "df.filter(df.page==\"Save Settings\").show(4)"
   ]
  },
  {
   "cell_type": "code",
   "execution_count": null,
   "metadata": {
    "colab": {
     "base_uri": "https://localhost:8080/"
    },
    "id": "u-xWPFp2jQRF",
    "outputId": "ff32a1c4-6edb-46ae-b841-7b0f205d609f"
   },
   "outputs": [
    {
     "name": "stdout",
     "output_type": "stream",
     "text": [
      "+---------------+---------------+---------+---------+------+-------------+---------+---------+-----+--------------------+------+--------+-------------+---------+-------------------+------+-------------+--------------------+------+\n",
      "|_corrupt_record|         artist|     auth|firstName|gender|itemInSession| lastName|   length|level|            location|method|    page| registration|sessionId|               song|status|           ts|           userAgent|userId|\n",
      "+---------------+---------------+---------+---------+------+-------------+---------+---------+-----+--------------------+------+--------+-------------+---------+-------------------+------+-------------+--------------------+------+\n",
      "|           null|       Four Tet|Logged In|   Rachel|     F|           93|   Bailey|341.15873| paid|Albany-Schenectad...|   PUT|NextSong|1536102943000|       72|              Hands|   200|1538561108000|Mozilla/5.0 (Wind...|    73|\n",
      "|           null|Ricchi E Poveri|Logged In|   Jaleel|     M|           17|Maldonado|256.13016| free|         Boulder, CO|   PUT|NextSong|1537890437000|      284|La Prima Cosa Bella|   200|1538561243000|Mozilla/5.0 (Wind...|    59|\n",
      "|           null|   Shania Twain|Logged In|Alexander|     M|          256|   Garcia|250.51383| paid|Indianapolis-Carm...|   PUT|NextSong|1536817381000|      104|               Nah!|   200|1538561268000|Mozilla/5.0 (Wind...|   105|\n",
      "|           null|   Simon Harris|Logged In|    Panav|     M|           11|    Myers|195.83955| paid|      Morgantown, WV|   PUT|NextSong|1538239045000|      287|     Sample Track 2|   200|1538561306000|\"Mozilla/5.0 (Win...|    15|\n",
      "+---------------+---------------+---------+---------+------+-------------+---------+---------+-----+--------------------+------+--------+-------------+---------+-------------------+------+-------------+--------------------+------+\n",
      "only showing top 4 rows\n",
      "\n"
     ]
    }
   ],
   "source": [
    "df.filter(df.page==\"NextSong\").show(4)"
   ]
  },
  {
   "cell_type": "code",
   "execution_count": null,
   "metadata": {
    "colab": {
     "base_uri": "https://localhost:8080/"
    },
    "id": "jYn5QSkCjQT0",
    "outputId": "0f9de58b-5421-4d06-b00d-bbcf26ac2c5d"
   },
   "outputs": [
    {
     "name": "stdout",
     "output_type": "stream",
     "text": [
      "+---------------+------+---------+---------+------+-------------+--------+------+-----+--------------------+------+---------------+-------------+---------+----+------+-------------+--------------------+------+\n",
      "|_corrupt_record|artist|     auth|firstName|gender|itemInSession|lastName|length|level|            location|method|           page| registration|sessionId|song|status|           ts|           userAgent|userId|\n",
      "+---------------+------+---------+---------+------+-------------+--------+------+-----+--------------------+------+---------------+-------------+---------+----+------+-------------+--------------------+------+\n",
      "|           null|  null|Logged In|Alexander|     M|          255|  Garcia|  null| paid|Indianapolis-Carm...|   PUT|Add to Playlist|1536817381000|      104|null|   200|1538561248000|Mozilla/5.0 (Wind...|   105|\n",
      "|           null|  null|Logged In|  Freedom|     F|            2| Aguilar|  null| free|Charlotte-Concord...|   PUT|Add to Playlist|1537034286000|      381|null|   200|1538564546000|\"Mozilla/5.0 (Mac...|   136|\n",
      "|           null|  null|Logged In|   Payton|     F|           22|Campbell|  null| free|Los Angeles-Long ...|   PUT|Add to Playlist|1529027541000|      382|null|   200|1538570882000|\"Mozilla/5.0 (Win...|    39|\n",
      "|           null|  null|Logged In|    Panav|     M|           68|   Myers|  null| paid|      Morgantown, WV|   PUT|Add to Playlist|1538239045000|      287|null|   200|1538571679000|\"Mozilla/5.0 (Win...|    15|\n",
      "+---------------+------+---------+---------+------+-------------+--------+------+-----+--------------------+------+---------------+-------------+---------+----+------+-------------+--------------------+------+\n",
      "only showing top 4 rows\n",
      "\n"
     ]
    }
   ],
   "source": [
    "df.filter(df.page==\"Add to Playlist\").show(4)"
   ]
  },
  {
   "cell_type": "code",
   "execution_count": null,
   "metadata": {
    "colab": {
     "base_uri": "https://localhost:8080/"
    },
    "id": "Bf_2lqOZjQXM",
    "outputId": "5759e57c-6722-4787-e8bf-ab706326e586"
   },
   "outputs": [
    {
     "name": "stdout",
     "output_type": "stream",
     "text": [
      "+---------------+------+---------+---------+------+-------------+--------+------+-----+--------------------+------+----------+-------------+---------+----+------+-------------+--------------------+------+\n",
      "|_corrupt_record|artist|     auth|firstName|gender|itemInSession|lastName|length|level|            location|method|      page| registration|sessionId|song|status|           ts|           userAgent|userId|\n",
      "+---------------+------+---------+---------+------+-------------+--------+------+-----+--------------------+------+----------+-------------+---------+----+------+-------------+--------------------+------+\n",
      "|           null|  null|Logged In|    Panav|     M|           13|   Myers|  null| paid|      Morgantown, WV|   PUT|Add Friend|1538239045000|      287|null|   307|1538561352000|\"Mozilla/5.0 (Win...|    15|\n",
      "|           null|  null|Logged In|    Panav|     M|           14|   Myers|  null| paid|      Morgantown, WV|   PUT|Add Friend|1538239045000|      287|null|   307|1538561353000|\"Mozilla/5.0 (Win...|    15|\n",
      "|           null|  null|Logged In|    Panav|     M|           16|   Myers|  null| paid|      Morgantown, WV|   PUT|Add Friend|1538239045000|      287|null|   307|1538561502000|\"Mozilla/5.0 (Win...|    15|\n",
      "|           null|  null|Logged In|  Miracle|     F|           27|      Ho|  null| free|Atlanta-Sandy Spr...|   PUT|Add Friend|1534613601000|      318|null|   307|1538562816000|Mozilla/5.0 (Wind...|    52|\n",
      "+---------------+------+---------+---------+------+-------------+--------+------+-----+--------------------+------+----------+-------------+---------+----+------+-------------+--------------------+------+\n",
      "only showing top 4 rows\n",
      "\n"
     ]
    }
   ],
   "source": [
    "df.filter(df.page==\"Add Friend\").show(4)"
   ]
  },
  {
   "cell_type": "markdown",
   "metadata": {
    "id": "UlouuJVKZ3tA"
   },
   "source": [
    "# Investigate timestamps"
   ]
  },
  {
   "cell_type": "code",
   "execution_count": null,
   "metadata": {
    "colab": {
     "base_uri": "https://localhost:8080/"
    },
    "id": "VX13gtWLj36z",
    "outputId": "30401de4-12b6-4a44-d889-3bd493a625b8"
   },
   "outputs": [
    {
     "name": "stdout",
     "output_type": "stream",
     "text": [
      "+---------------+------+----+---------+------+-------------+--------+------+-----+--------+------+----+------------+---------+----+------+---+---------+------+\n",
      "|_corrupt_record|artist|auth|firstName|gender|itemInSession|lastName|length|level|location|method|page|registration|sessionId|song|status| ts|userAgent|userId|\n",
      "+---------------+------+----+---------+------+-------------+--------+------+-----+--------+------+----+------------+---------+----+------+---+---------+------+\n",
      "|              0|     0|   0|        0|     0|            0|       0|     0|    0|       0|     0|   0|           0|        0|   0|     0|  0|        0|     0|\n",
      "+---------------+------+----+---------+------+-------------+--------+------+-----+--------+------+----+------------+---------+----+------+---+---------+------+\n",
      "\n"
     ]
    }
   ],
   "source": [
    "# check NaN values per column\n",
    "# taken from: https://stackoverflow.com/questions/44627386/how-to-find-count-of-null-and-nan-values-for-each-column-in-a-pyspark-dataframe\n",
    "df.select([count(when(isnan(c), c)).alias(c) for c in df.columns]).show()"
   ]
  },
  {
   "cell_type": "code",
   "execution_count": null,
   "metadata": {
    "colab": {
     "base_uri": "https://localhost:8080/"
    },
    "id": "Xj_CXLHQj3-N",
    "outputId": "5c830b85-db33-4415-cb2b-8d89bff092e2"
   },
   "outputs": [
    {
     "name": "stdout",
     "output_type": "stream",
     "text": [
      "+---------------+------+----+---------+------+-------------+--------+------+-----+--------+------+----+------------+---------+-----+------+---+---------+------+\n",
      "|_corrupt_record|artist|auth|firstName|gender|itemInSession|lastName|length|level|location|method|page|registration|sessionId| song|status| ts|userAgent|userId|\n",
      "+---------------+------+----+---------+------+-------------+--------+------+-----+--------+------+----+------------+---------+-----+------+---+---------+------+\n",
      "|         279402| 56795|   1|     8104|  8104|            1|    8104| 56795|    1|    8104|     1|   1|        8104|        1|56795|     1|  1|     8104|     1|\n",
      "+---------------+------+----+---------+------+-------------+--------+------+-----+--------+------+----+------------+---------+-----+------+---+---------+------+\n",
      "\n"
     ]
    }
   ],
   "source": [
    "# check null values per column\n",
    "df.select([count(when(col(c).isNull(), c)).alias(c) for c in df.columns]).show()"
   ]
  },
  {
   "cell_type": "code",
   "execution_count": null,
   "metadata": {
    "colab": {
     "base_uri": "https://localhost:8080/"
    },
    "id": "JDkyttKRj4BR",
    "outputId": "c4b16046-197b-49b3-aa1d-d2c87d7a19c1"
   },
   "outputs": [
    {
     "name": "stdout",
     "output_type": "stream",
     "text": [
      "+--------------------+------+----------+---------+------+-------------+--------+------+-----+--------+------+-----+------------+---------+----+------+-------------+---------+------+\n",
      "|     _corrupt_record|artist|      auth|firstName|gender|itemInSession|lastName|length|level|location|method| page|registration|sessionId|song|status|           ts|userAgent|userId|\n",
      "+--------------------+------+----------+---------+------+-------------+--------+------+-----+--------+------+-----+------------+---------+----+------+-------------+---------+------+\n",
      "|e\":\"Alexander\",\"r...|  null|      null|     null|  null|         null|    null|  null| null|    null|  null| null|        null|     null|null|  null|         null|     null|  null|\n",
      "|                null|  null|Logged Out|     null|  null|           14|    null|  null| free|    null|   GET| Home|        null|      284|null|   200|1538561182000|     null|      |\n",
      "|                null|  null|Logged Out|     null|  null|           15|    null|  null| free|    null|   PUT|Login|        null|      284|null|   307|1538561183000|     null|      |\n",
      "+--------------------+------+----------+---------+------+-------------+--------+------+-----+--------+------+-----+------------+---------+----+------+-------------+---------+------+\n",
      "only showing top 3 rows\n",
      "\n"
     ]
    }
   ],
   "source": [
    "df.filter(col(\"firstName\").isNull()).show(3)"
   ]
  },
  {
   "cell_type": "code",
   "execution_count": null,
   "metadata": {
    "colab": {
     "base_uri": "https://localhost:8080/"
    },
    "id": "vgK5qLGSj4D5",
    "outputId": "b684bf12-7bf1-4b3a-9f29-705ec515f194"
   },
   "outputs": [
    {
     "name": "stdout",
     "output_type": "stream",
     "text": [
      "+---------------+------+----+---------+------+-------------+--------+------+-----+--------+------+----+------------+---------+----+------+---+---------+------+\n",
      "|_corrupt_record|artist|auth|firstName|gender|itemInSession|lastName|length|level|location|method|page|registration|sessionId|song|status| ts|userAgent|userId|\n",
      "+---------------+------+----+---------+------+-------------+--------+------+-----+--------+------+----+------------+---------+----+------+---+---------+------+\n",
      "+---------------+------+----+---------+------+-------------+--------+------+-----+--------+------+----+------------+---------+----+------+---+---------+------+\n",
      "\n"
     ]
    }
   ],
   "source": [
    "df.filter((col(\"firstName\").isNull()) & (col(\"gender\").isNotNull())).show()"
   ]
  },
  {
   "cell_type": "code",
   "execution_count": null,
   "metadata": {
    "colab": {
     "base_uri": "https://localhost:8080/"
    },
    "id": "cvLTD5NHj4Gz",
    "outputId": "26a03545-3a14-4a47-cfad-bd6390f7a52f"
   },
   "outputs": [
    {
     "name": "stdout",
     "output_type": "stream",
     "text": [
      "+---------------+------+----+---------+------+-------------+--------+------+-----+--------+------+----+------------+---------+----+------+---+---------+------+\n",
      "|_corrupt_record|artist|auth|firstName|gender|itemInSession|lastName|length|level|location|method|page|registration|sessionId|song|status| ts|userAgent|userId|\n",
      "+---------------+------+----+---------+------+-------------+--------+------+-----+--------+------+----+------------+---------+----+------+---+---------+------+\n",
      "+---------------+------+----+---------+------+-------------+--------+------+-----+--------+------+----+------------+---------+----+------+---+---------+------+\n",
      "\n"
     ]
    }
   ],
   "source": [
    "df.filter((col(\"firstName\").isNull()) & (col(\"lastName\").isNotNull())).show()"
   ]
  },
  {
   "cell_type": "code",
   "execution_count": null,
   "metadata": {
    "colab": {
     "base_uri": "https://localhost:8080/"
    },
    "id": "E7iIrUcWj4Kp",
    "outputId": "aa82167f-77e6-4371-dd24-118804fdd2fb"
   },
   "outputs": [
    {
     "name": "stdout",
     "output_type": "stream",
     "text": [
      "+-----+\n",
      "|level|\n",
      "+-----+\n",
      "| null|\n",
      "| free|\n",
      "| paid|\n",
      "+-----+\n",
      "\n"
     ]
    }
   ],
   "source": [
    "\n",
    "df.filter(col(\"firstName\").isNull()).select(\"level\").dropDuplicates().show()"
   ]
  },
  {
   "cell_type": "code",
   "execution_count": null,
   "metadata": {
    "colab": {
     "base_uri": "https://localhost:8080/"
    },
    "id": "c7qnvXTfj4N3",
    "outputId": "f568c184-3be2-452e-fe60-c9fcaa7e5737"
   },
   "outputs": [
    {
     "name": "stdout",
     "output_type": "stream",
     "text": [
      "+---------------+------+----------+---------+------+-------------+--------+------+-----+--------+------+-----+------------+---------+----+------+-------------+---------+------+\n",
      "|_corrupt_record|artist|      auth|firstName|gender|itemInSession|lastName|length|level|location|method| page|registration|sessionId|song|status|           ts|userAgent|userId|\n",
      "+---------------+------+----------+---------+------+-------------+--------+------+-----+--------+------+-----+------------+---------+----+------+-------------+---------+------+\n",
      "|           null|  null|Logged Out|     null|  null|           24|    null|  null| paid|    null|   GET| Home|        null|      287|null|   200|1538562794000|     null|      |\n",
      "|           null|  null|Logged Out|     null|  null|           25|    null|  null| paid|    null|   PUT|Login|        null|      287|null|   307|1538562795000|     null|      |\n",
      "|           null|  null|Logged Out|     null|  null|          111|    null|  null| paid|    null|   GET| Home|        null|       72|null|   200|1538565222000|     null|      |\n",
      "|           null|  null|Logged Out|     null|  null|          112|    null|  null| paid|    null|   GET| Home|        null|       72|null|   200|1538565282000|     null|      |\n",
      "|           null|  null|Logged Out|     null|  null|          113|    null|  null| paid|    null|   PUT|Login|        null|       72|null|   307|1538565283000|     null|      |\n",
      "|           null|  null|Logged Out|     null|  null|          290|    null|  null| paid|    null|   GET| Home|        null|      104|null|   200|1538567749000|     null|      |\n",
      "|           null|  null|Logged Out|     null|  null|          291|    null|  null| paid|    null|   PUT|Login|        null|      104|null|   307|1538567750000|     null|      |\n",
      "|           null|  null|Logged Out|     null|  null|           71|    null|  null| paid|    null|   GET| Home|        null|      287|null|   200|1538571923000|     null|      |\n",
      "|           null|  null|Logged Out|     null|  null|           72|    null|  null| paid|    null|   PUT|Login|        null|      287|null|   307|1538571924000|     null|      |\n",
      "|           null|  null|Logged Out|     null|  null|           45|    null|  null| paid|    null|   GET| Home|        null|      333|null|   200|1538575066000|     null|      |\n",
      "+---------------+------+----------+---------+------+-------------+--------+------+-----+--------+------+-----+------------+---------+----+------+-------------+---------+------+\n",
      "only showing top 10 rows\n",
      "\n"
     ]
    }
   ],
   "source": [
    "# entries with missing firstname but with paid level are logging out\n",
    "df.filter((col(\"firstName\").isNull()) & (col(\"level\")==\"paid\")).show(10)"
   ]
  },
  {
   "cell_type": "markdown",
   "metadata": {
    "id": "Wjalrc5xaoUe"
   },
   "source": [
    "# Data preprocessing"
   ]
  },
  {
   "cell_type": "code",
   "execution_count": null,
   "metadata": {
    "id": "zYs0sK2aj4Q4"
   },
   "outputs": [],
   "source": [
    "# filter out all entries with missing names.\n",
    "# they are not recording information that we will need for the model\n",
    "df = df.filter(df.firstName.isNotNull())"
   ]
  },
  {
   "cell_type": "code",
   "execution_count": null,
   "metadata": {
    "colab": {
     "base_uri": "https://localhost:8080/"
    },
    "id": "7g2Tnf2Nj4UD",
    "outputId": "292d9209-8131-4128-f2e7-eeedcd815506"
   },
   "outputs": [
    {
     "name": "stdout",
     "output_type": "stream",
     "text": [
      "+---------------+------+----+---------+------+-------------+--------+------+-----+--------+------+----+------------+---------+-----+------+---+---------+------+\n",
      "|_corrupt_record|artist|auth|firstName|gender|itemInSession|lastName|length|level|location|method|page|registration|sessionId| song|status| ts|userAgent|userId|\n",
      "+---------------+------+----+---------+------+-------------+--------+------+-----+--------+------+----+------------+---------+-----+------+---+---------+------+\n",
      "|         271299| 48691|   0|        0|     0|            0|       0| 48691|    0|       0|     0|   0|           0|        0|48691|     0|  0|        0|     0|\n",
      "+---------------+------+----+---------+------+-------------+--------+------+-----+--------+------+----+------------+---------+-----+------+---+---------+------+\n",
      "\n"
     ]
    }
   ],
   "source": [
    "# check null values\n",
    "# ensure gender has no null values\n",
    "df.select([count(when(col(c).isNull(), c)).alias(c) for c in df.columns]).show()"
   ]
  },
  {
   "cell_type": "code",
   "execution_count": null,
   "metadata": {
    "colab": {
     "base_uri": "https://localhost:8080/"
    },
    "id": "sMgxEMUokdSU",
    "outputId": "97f6cc32-cdf9-4dcd-ef85-1946aef15535"
   },
   "outputs": [
    {
     "name": "stdout",
     "output_type": "stream",
     "text": [
      "+---------------+---------------+---------+---------+------+-------------+---------+---------+-----+--------------------+------+-----------+-------------+---------+-------------------+------+-------------+--------------------+------+----------+-------------------+\n",
      "|_corrupt_record|         artist|     auth|firstName|gender|itemInSession| lastName|   length|level|            location|method|       page| registration|sessionId|               song|status|           ts|           userAgent|userId|    ts_adj|           datetime|\n",
      "+---------------+---------------+---------+---------+------+-------------+---------+---------+-----+--------------------+------+-----------+-------------+---------+-------------------+------+-------------+--------------------+------+----------+-------------------+\n",
      "|           null|           null|Logged In|Alexander|     M|          254|   Garcia|     null| paid|Indianapolis-Carm...|   PUT|  Thumbs Up|1536817381000|      104|               null|   307|1538561062000|Mozilla/5.0 (Wind...|   105|1538561062|2018-10-03 10:04:22|\n",
      "|           null|           null|Logged In|    Jaxon|     M|           21|   Reilly|     null| free|    Jacksonville, FL|   GET|Roll Advert|1531760527000|      226|               null|   200|1538561090000|Mozilla/5.0 (Wind...|    86|1538561090|2018-10-03 10:04:50|\n",
      "|           null|       Four Tet|Logged In|   Rachel|     F|           93|   Bailey|341.15873| paid|Albany-Schenectad...|   PUT|   NextSong|1536102943000|       72|              Hands|   200|1538561108000|Mozilla/5.0 (Wind...|    73|1538561108|2018-10-03 10:05:08|\n",
      "|           null|           null|Logged In|   Jaleel|     M|           16|Maldonado|     null| free|         Boulder, CO|   GET|       Home|1537890437000|      284|               null|   200|1538561236000|Mozilla/5.0 (Wind...|    59|1538561236|2018-10-03 10:07:16|\n",
      "|           null|Ricchi E Poveri|Logged In|   Jaleel|     M|           17|Maldonado|256.13016| free|         Boulder, CO|   PUT|   NextSong|1537890437000|      284|La Prima Cosa Bella|   200|1538561243000|Mozilla/5.0 (Wind...|    59|1538561243|2018-10-03 10:07:23|\n",
      "+---------------+---------------+---------+---------+------+-------------+---------+---------+-----+--------------------+------+-----------+-------------+---------+-------------------+------+-------------+--------------------+------+----------+-------------------+\n",
      "only showing top 5 rows\n",
      "\n"
     ]
    }
   ],
   "source": [
    "\n",
    "# original timestamp in milliseconds, so divide by 1000\n",
    "adjust_timestamp = udf(lambda x : x//1000, IntegerType())\n",
    "df = df.withColumn(\"ts_adj\", adjust_timestamp('ts'))\n",
    "\n",
    "# convert adjusted timestamp to datetime\n",
    "df = df.withColumn(\"datetime\", from_unixtime(col(\"ts_adj\")))\n",
    "df.show(5)"
   ]
  },
  {
   "cell_type": "code",
   "execution_count": null,
   "metadata": {
    "colab": {
     "base_uri": "https://localhost:8080/"
    },
    "id": "nt03kkAikdVh",
    "outputId": "75a0536c-1148-43f0-f421-0976d0dcb861"
   },
   "outputs": [
    {
     "name": "stdout",
     "output_type": "stream",
     "text": [
      "+---------------+---------------+---------+---------+------+-------------+---------+---------+-----+--------------------+------+-----------+-------------+---------+-------------------+------+-------------+--------------------+------+----------+-------------------+----------+-------------------+\n",
      "|_corrupt_record|         artist|     auth|firstName|gender|itemInSession| lastName|   length|level|            location|method|       page| registration|sessionId|               song|status|           ts|           userAgent|userId|    ts_adj|           datetime|   reg_adj|       reg_datetime|\n",
      "+---------------+---------------+---------+---------+------+-------------+---------+---------+-----+--------------------+------+-----------+-------------+---------+-------------------+------+-------------+--------------------+------+----------+-------------------+----------+-------------------+\n",
      "|           null|           null|Logged In|Alexander|     M|          254|   Garcia|     null| paid|Indianapolis-Carm...|   PUT|  Thumbs Up|1536817381000|      104|               null|   307|1538561062000|Mozilla/5.0 (Wind...|   105|1538561062|2018-10-03 10:04:22|1536817381|2018-09-13 05:43:01|\n",
      "|           null|           null|Logged In|    Jaxon|     M|           21|   Reilly|     null| free|    Jacksonville, FL|   GET|Roll Advert|1531760527000|      226|               null|   200|1538561090000|Mozilla/5.0 (Wind...|    86|1538561090|2018-10-03 10:04:50|1531760527|2018-07-16 17:02:07|\n",
      "|           null|       Four Tet|Logged In|   Rachel|     F|           93|   Bailey|341.15873| paid|Albany-Schenectad...|   PUT|   NextSong|1536102943000|       72|              Hands|   200|1538561108000|Mozilla/5.0 (Wind...|    73|1538561108|2018-10-03 10:05:08|1536102943|2018-09-04 23:15:43|\n",
      "|           null|           null|Logged In|   Jaleel|     M|           16|Maldonado|     null| free|         Boulder, CO|   GET|       Home|1537890437000|      284|               null|   200|1538561236000|Mozilla/5.0 (Wind...|    59|1538561236|2018-10-03 10:07:16|1537890437|2018-09-25 15:47:17|\n",
      "|           null|Ricchi E Poveri|Logged In|   Jaleel|     M|           17|Maldonado|256.13016| free|         Boulder, CO|   PUT|   NextSong|1537890437000|      284|La Prima Cosa Bella|   200|1538561243000|Mozilla/5.0 (Wind...|    59|1538561243|2018-10-03 10:07:23|1537890437|2018-09-25 15:47:17|\n",
      "+---------------+---------------+---------+---------+------+-------------+---------+---------+-----+--------------------+------+-----------+-------------+---------+-------------------+------+-------------+--------------------+------+----------+-------------------+----------+-------------------+\n",
      "only showing top 5 rows\n",
      "\n"
     ]
    }
   ],
   "source": [
    "# convert registration timestamp to datetime\n",
    "df = df.withColumn(\"reg_adj\", adjust_timestamp('registration'))\n",
    "#df.show(5)\n",
    "# convert adjusted registration timestamp to datetime\n",
    "df = df.withColumn(\"reg_datetime\", from_unixtime(col(\"reg_adj\")))\n",
    "df.show(5)"
   ]
  },
  {
   "cell_type": "code",
   "execution_count": null,
   "metadata": {
    "id": "Ux9fj6q8kdYs"
   },
   "outputs": [],
   "source": [
    "# drop all the timestamp columns. Will not need them\n",
    "columns_to_drop = ['registration', 'ts', 'ts_adj', 'reg_adj']\n",
    "df = df.drop(*columns_to_drop)"
   ]
  },
  {
   "cell_type": "code",
   "execution_count": null,
   "metadata": {
    "colab": {
     "base_uri": "https://localhost:8080/"
    },
    "id": "yDdlny_fkdbn",
    "outputId": "274abbf4-c141-4362-9a42-b4f2e00ae06d"
   },
   "outputs": [
    {
     "name": "stdout",
     "output_type": "stream",
     "text": [
      "+-----+\n",
      "|month|\n",
      "+-----+\n",
      "|   10|\n",
      "|   10|\n",
      "|   10|\n",
      "|   10|\n",
      "|   10|\n",
      "+-----+\n",
      "only showing top 5 rows\n",
      "\n"
     ]
    }
   ],
   "source": [
    "# to extract month example\n",
    "df.select(month('datetime').alias('month')).show(5)"
   ]
  },
  {
   "cell_type": "code",
   "execution_count": null,
   "metadata": {
    "colab": {
     "base_uri": "https://localhost:8080/"
    },
    "id": "nTNkupNIkdeq",
    "outputId": "58c69b02-5067-4014-c32e-449ce048f762"
   },
   "outputs": [
    {
     "name": "stdout",
     "output_type": "stream",
     "text": [
      "+-----+\n",
      "|month|\n",
      "+-----+\n",
      "| 2018|\n",
      "| 2018|\n",
      "| 2018|\n",
      "| 2018|\n",
      "| 2018|\n",
      "+-----+\n",
      "only showing top 5 rows\n",
      "\n"
     ]
    }
   ],
   "source": [
    "# to extract year example\n",
    "df.select(year('datetime').alias('month')).show(5)"
   ]
  },
  {
   "cell_type": "code",
   "execution_count": null,
   "metadata": {
    "colab": {
     "base_uri": "https://localhost:8080/"
    },
    "id": "bDeQyzwJkdiO",
    "outputId": "9da38688-9db1-42b7-ca8c-5b9035a30b21"
   },
   "outputs": [
    {
     "name": "stdout",
     "output_type": "stream",
     "text": [
      "+----------+\n",
      "|    months|\n",
      "+----------+\n",
      "|0.68327397|\n",
      "|2.57129742|\n",
      "|0.95003174|\n",
      "|0.28270572|\n",
      "|0.28270833|\n",
      "+----------+\n",
      "only showing top 5 rows\n",
      "\n"
     ]
    }
   ],
   "source": [
    "# try\n",
    "df.select(months_between(df.datetime, df.reg_datetime).alias('months')).show(5)"
   ]
  },
  {
   "cell_type": "code",
   "execution_count": null,
   "metadata": {
    "id": "OD90_ptOkyGW"
   },
   "outputs": [],
   "source": [
    "# hard-coded. Try to change this\n",
    "\n",
    "# add start date of analysis\n",
    "df = df.withColumn('analysis_start_date', lit('2018-10-01 00:00:00'))"
   ]
  },
  {
   "cell_type": "code",
   "execution_count": null,
   "metadata": {
    "id": "iio98dtIkyJ-"
   },
   "outputs": [],
   "source": [
    "\n",
    "# number the months starting from the very first month of the analysis\n",
    "df = df.withColumn(\"month_num\", floor(months_between(df.datetime, df.analysis_start_date)))"
   ]
  },
  {
   "cell_type": "code",
   "execution_count": null,
   "metadata": {
    "colab": {
     "base_uri": "https://localhost:8080/"
    },
    "id": "qAJDmV11kyN4",
    "outputId": "f15d38cf-f87a-46ee-af3f-ccba0954b14b"
   },
   "outputs": [
    {
     "name": "stdout",
     "output_type": "stream",
     "text": [
      "+---------------+------+---------+---------+------+-------------+--------+------+-----+--------------------+------+-----------+---------+----+------+--------------------+------+-------------------+-------------------+-------------------+---------+\n",
      "|_corrupt_record|artist|     auth|firstName|gender|itemInSession|lastName|length|level|            location|method|       page|sessionId|song|status|           userAgent|userId|           datetime|       reg_datetime|analysis_start_date|month_num|\n",
      "+---------------+------+---------+---------+------+-------------+--------+------+-----+--------------------+------+-----------+---------+----+------+--------------------+------+-------------------+-------------------+-------------------+---------+\n",
      "|           null|  null|Logged In|Alexander|     M|          254|  Garcia|  null| paid|Indianapolis-Carm...|   PUT|  Thumbs Up|      104|null|   307|Mozilla/5.0 (Wind...|   105|2018-10-03 10:04:22|2018-09-13 05:43:01|2018-10-01 00:00:00|        0|\n",
      "|           null|  null|Logged In|    Jaxon|     M|           21|  Reilly|  null| free|    Jacksonville, FL|   GET|Roll Advert|      226|null|   200|Mozilla/5.0 (Wind...|    86|2018-10-03 10:04:50|2018-07-16 17:02:07|2018-10-01 00:00:00|        0|\n",
      "+---------------+------+---------+---------+------+-------------+--------+------+-----+--------------------+------+-----------+---------+----+------+--------------------+------+-------------------+-------------------+-------------------+---------+\n",
      "only showing top 2 rows\n",
      "\n"
     ]
    }
   ],
   "source": [
    "df.show(2)"
   ]
  },
  {
   "cell_type": "markdown",
   "metadata": {
    "id": "ASA-2ks2ayeV"
   },
   "source": [
    "# Exploratory Data Analysis\n",
    "Churn:\n",
    "Once you've done some preliminary analysis, create a column Churn to use as the label for your model. I suggest using the Cancellation Confirmation events to define your churn, which happen for both paid and free users. As a bonus task, you can also look into the Downgrade events.\n",
    "\n",
    "Explore Data:\n",
    "Once you've defined churn, perform some exploratory data analysis to observe the behavior for users who stayed vs users who churned. You can start by exploring aggregates on these two groups of users, observing how much of a specific action they experienced per a certain time unit or number of songs played."
   ]
  },
  {
   "cell_type": "code",
   "execution_count": null,
   "metadata": {
    "id": "15sUE1DSkyQj"
   },
   "outputs": [],
   "source": [
    "# engineer free or paid binary variable\n",
    "# free: 0, paid: 1\n",
    "df = df.replace([\"free\", \"paid\"], [\"0\", \"1\"], \"level\")\n",
    "\n",
    "# engineer male and female binary binary variable\n",
    "# male: 0, female: 1\n",
    "df = df.replace([\"M\", \"F\"], [\"0\", \"1\"], \"gender\")"
   ]
  },
  {
   "cell_type": "code",
   "execution_count": null,
   "metadata": {
    "id": "h7GDwYM2kyTu"
   },
   "outputs": [],
   "source": [
    "# can possibly switch to a 2-class classification system\n",
    "def define_churn(x):\n",
    "    \"\"\"\n",
    "    Defining churn as cancellation of service or downgrading from premium to free tier.\n",
    "    \"\"\"\n",
    "    if x == \"Cancellation Confirmation\":\n",
    "        return 1\n",
    "    elif x == \"Submit Downgrade\":\n",
    "        return 1\n",
    "    else:\n",
    "        return 0\n",
    "    \n",
    "churn_event = udf(lambda x : define_churn(x), IntegerType())\n",
    "    \n",
    "df = df.withColumn(\"churn\", churn_event(\"page\"))"
   ]
  },
  {
   "cell_type": "code",
   "execution_count": null,
   "metadata": {
    "colab": {
     "base_uri": "https://localhost:8080/"
    },
    "id": "bMMVCB5kkyWp",
    "outputId": "8b50f27a-3e9f-4615-bff0-52deccc5e20f"
   },
   "outputs": [
    {
     "name": "stdout",
     "output_type": "stream",
     "text": [
      "+---------------+------+---------+---------+------+-------------+--------+------+-----+--------------------+------+-----------+---------+----+------+--------------------+------+-------------------+-------------------+-------------------+---------+-----+\n",
      "|_corrupt_record|artist|     auth|firstName|gender|itemInSession|lastName|length|level|            location|method|       page|sessionId|song|status|           userAgent|userId|           datetime|       reg_datetime|analysis_start_date|month_num|churn|\n",
      "+---------------+------+---------+---------+------+-------------+--------+------+-----+--------------------+------+-----------+---------+----+------+--------------------+------+-------------------+-------------------+-------------------+---------+-----+\n",
      "|           null|  null|Logged In|Alexander|     0|          254|  Garcia|  null|    1|Indianapolis-Carm...|   PUT|  Thumbs Up|      104|null|   307|Mozilla/5.0 (Wind...|   105|2018-10-03 10:04:22|2018-09-13 05:43:01|2018-10-01 00:00:00|        0|    0|\n",
      "|           null|  null|Logged In|    Jaxon|     0|           21|  Reilly|  null|    0|    Jacksonville, FL|   GET|Roll Advert|      226|null|   200|Mozilla/5.0 (Wind...|    86|2018-10-03 10:04:50|2018-07-16 17:02:07|2018-10-01 00:00:00|        0|    0|\n",
      "+---------------+------+---------+---------+------+-------------+--------+------+-----+--------------------+------+-----------+---------+----+------+--------------------+------+-------------------+-------------------+-------------------+---------+-----+\n",
      "only showing top 2 rows\n",
      "\n"
     ]
    }
   ],
   "source": [
    "df.show(2)"
   ]
  },
  {
   "cell_type": "code",
   "execution_count": null,
   "metadata": {
    "colab": {
     "base_uri": "https://localhost:8080/"
    },
    "id": "NQNKZZLDkyaH",
    "outputId": "e1e66a80-bfd2-402b-d2ee-7994a313bcac"
   },
   "outputs": [
    {
     "name": "stdout",
     "output_type": "stream",
     "text": [
      "+---------+-----+------+\n",
      "|month_num|churn| count|\n",
      "+---------+-----+------+\n",
      "|        0|    0|137995|\n",
      "|        0|    1|    66|\n",
      "|        1|    0|133187|\n",
      "|        1|    1|    47|\n",
      "|        2|    0|     4|\n",
      "+---------+-----+------+\n",
      "\n"
     ]
    }
   ],
   "source": [
    "df.select('month_num','churn').groupBy('month_num','churn').count().orderBy('month_num', 'churn').show()"
   ]
  },
  {
   "cell_type": "code",
   "execution_count": null,
   "metadata": {
    "id": "rPA_XgKwkyfE"
   },
   "outputs": [],
   "source": [
    "# aggregate number of page visits for each user on a monthly basis\n",
    "\n",
    "df_register = df.select('userId', 'month_num', 'page') \\\n",
    ".where(df.page==\"Register\") \\\n",
    ".groupBy('userId', 'month_num') \\\n",
    ".agg({'page':'count'}) \\\n",
    ".withColumnRenamed('count(page)', 'numRegister')\n",
    "\n",
    "df_cancel = df.select('userId', 'month_num', 'page') \\\n",
    ".where(df.page==\"Cancel\") \\\n",
    ".groupBy('userId', 'month_num') \\\n",
    ".agg({'page':'count'}) \\\n",
    ".withColumnRenamed('count(page)', 'numCancelVisits')\n",
    "\n",
    "df_upgrade = df.select('userId', 'month_num', 'page') \\\n",
    ".where(df.page==\"Upgrade\") \\\n",
    ".groupBy('userId', 'month_num') \\\n",
    ".agg({'page':'count'}) \\\n",
    ".withColumnRenamed('count(page)', 'numUpgradeVisits')\n",
    "\n",
    "df_downgrade = df.select('userId', 'month_num', 'page') \\\n",
    ".where(df.page==\"Downgrade\") \\\n",
    ".groupBy('userId', 'month_num') \\\n",
    ".agg({'page':'count'}) \\\n",
    ".withColumnRenamed('count(page)', 'numDowngradeVisits')\n",
    "\n",
    "df_home = df.select('userId', 'month_num', 'page') \\\n",
    ".where(df.page==\"Home\") \\\n",
    ".groupBy('userId', 'month_num') \\\n",
    ".agg({'page':'count'}) \\\n",
    ".withColumnRenamed('count(page)', 'numHomeVisits')\n",
    "\n",
    "df_about = df.select('userId', 'month_num', 'page') \\\n",
    ".where(df.page==\"About\") \\\n",
    ".groupBy('userId', 'month_num') \\\n",
    ".agg({'page':'count'}) \\\n",
    ".withColumnRenamed('count(page)', 'numAboutVisits')\n",
    "\n",
    "df_settings = df.select('userId', 'month_num', 'page') \\\n",
    ".where(df.page==\"Settings\") \\\n",
    ".groupBy('userId', 'month_num') \\\n",
    ".agg({'page':'count'}) \\\n",
    ".withColumnRenamed('count(page)', 'numSettingsVisits')\n",
    "\n",
    "df_saveSettings = df.select('userId', 'month_num', 'page') \\\n",
    ".where(df.page==\"Save Settings\") \\\n",
    ".groupBy('userId', 'month_num') \\\n",
    ".agg({'page':'count'}) \\\n",
    ".withColumnRenamed('count(page)', 'numSaveSettings')\n",
    "\n",
    "df_login = df.select('userId', 'month_num', 'page') \\\n",
    ".where(df.page==\"Login\") \\\n",
    ".groupBy('userId', 'month_num') \\\n",
    ".agg({'page':'count'}) \\\n",
    ".withColumnRenamed('count(page)', 'numLogins')\n",
    "\n",
    "df_logout = df.select('userId', 'month_num', 'page') \\\n",
    ".where(df.page==\"Logout\") \\\n",
    ".groupBy('userId', 'month_num') \\\n",
    ".agg({'page':'count'}) \\\n",
    ".withColumnRenamed('count(page)', 'numLogouts')\n",
    "\n",
    "df_addPlaylist = df.select('userId', 'month_num', 'page') \\\n",
    ".where(df.page==\"Add to Playlist\") \\\n",
    ".groupBy('userId', 'month_num') \\\n",
    ".agg({'page':'count'}) \\\n",
    ".withColumnRenamed('count(page)', 'numAddPlaylists')\n",
    "\n",
    "df_addFriend = df.select('userId', 'month_num', 'page') \\\n",
    ".where(df.page==\"Add Friend\") \\\n",
    ".groupBy('userId', 'month_num') \\\n",
    ".agg({'page':'count'}) \\\n",
    ".withColumnRenamed('count(page)', 'numFriends')\n",
    "\n",
    "df_thumbsUp = df.select('userId', 'month_num', 'page') \\\n",
    ".where(df.page==\"Thumbs Up\") \\\n",
    ".groupBy('userId', 'month_num') \\\n",
    ".agg({'page':'count'}) \\\n",
    ".withColumnRenamed('count(page)', 'numThumbsUp')\n",
    "\n",
    "df_thumbsDown = df.select('userId', 'month_num', 'page') \\\n",
    ".where(df.page==\"Thumbs Down\") \\\n",
    ".groupBy('userId', 'month_num') \\\n",
    ".agg({'page':'count'}) \\\n",
    ".withColumnRenamed('count(page)', 'numThumbsDown')\n",
    "\n",
    "df_advert = df.select('userId', 'month_num', 'page') \\\n",
    ".where(df.page==\"Roll Advert\") \\\n",
    ".groupBy('userId', 'month_num') \\\n",
    ".agg({'page':'count'}) \\\n",
    ".withColumnRenamed('count(page)', 'numAdverts')\n",
    "\n",
    "df_songsPlayed = df.select('userId', 'month_num', 'page') \\\n",
    ".where(df.page==\"NextSong\") \\\n",
    ".groupBy('userId', 'month_num') \\\n",
    ".agg({'page':'count'}) \\\n",
    ".withColumnRenamed('count(page)', 'numSongsPlayed')\n",
    "\n",
    "df_totalListen = df.select('userId', 'month_num', 'length') \\\n",
    ".groupBy('userId', 'month_num') \\\n",
    ".agg({'length':'sum'}) \\\n",
    ".withColumnRenamed('sum(length)', 'totalListenTime')\n",
    "\n",
    "# number of songs per session\n",
    "df_songsPerSession = df.select('userId', 'month_num', 'page', 'sessionId') \\\n",
    ".where(df.page==\"NextSong\") \\\n",
    ".groupBy('userId', 'month_num', 'sessionId') \\\n",
    ".agg({'page':'count'}) \\\n",
    ".withColumnRenamed('count(page)', 'SongsPerSession')\n",
    "# avg number of songs per session\n",
    "df_avgSongsPerSession = df_songsPerSession.groupBy('userId', 'month_num') \\\n",
    ".agg(avg(df_songsPerSession.SongsPerSession).alias('avgSongsPerSession'))\n",
    "\n",
    "# number of singers\n",
    "df_singersPlayed = df.select('userId', 'month_num', 'page', 'artist') \\\n",
    ".where(df.page==\"NextSong\") \\\n",
    ".groupBy('userId', 'month_num') \\\n",
    ".agg(countDistinct(df.artist).alias('numSingersPlayed'))\n",
    "\n",
    "# number of singers per session\n",
    "df_singersPerSession = df.select('userId', 'month_num', 'page', 'artist', 'sessionId') \\\n",
    ".where(df.page==\"NextSong\") \\\n",
    ".groupBy('userId', 'month_num', 'sessionId') \\\n",
    ".agg(countDistinct(df.artist).alias('SingersPerSession'))\n",
    "# avg number of singers per session\n",
    "df_avgSingersPerSession = df_singersPerSession.groupBy('userId', 'month_num') \\\n",
    ".agg(avg(df_singersPerSession.SingersPerSession).alias('avgSingersPerSession'))\n",
    "\n",
    "# groupby user, month_num, sessionId.\n",
    "df_userSession = df.groupBy(\"userId\", \"month_num\", \"sessionId\") \\\n",
    ".agg(((max(unix_timestamp(df.datetime))-min(unix_timestamp(df.datetime)))/60.0).alias('sessionTimeMins'))\n",
    "# Find avg session time\n",
    "df_avgUserSession = df_userSession.groupBy('userId', 'month_num').agg(avg(df_userSession.sessionTimeMins).alias('avgSessionMins'))\n",
    "\n",
    "# number of sessions\n",
    "df_numSession = df.select('userId', 'month_num', 'sessionId').dropDuplicates() \\\n",
    ".groupby('userId', 'month_num').agg({'sessionId':'count'}) \\\n",
    ".withColumnRenamed('count(sessionId)', 'numSessions')\n",
    "\n",
    "# if user had premium at any point of the month, assumer he/she has premium for\n",
    "# the whole month for simplicity\n",
    "df_level = df.select('userId', 'month_num', 'level') \\\n",
    ".groupBy('userId', 'month_num') \\\n",
    ".agg({'level':'max'}) \\\n",
    ".withColumnRenamed('max(level)', 'level')\n",
    "\n",
    "# assuming nobody changes gender midway\n",
    "df_gender = df.select('userId', 'month_num', 'gender') \\\n",
    ".groupBy('userId', 'month_num') \\\n",
    ".agg({'gender':'max'}) \\\n",
    ".withColumnRenamed('max(gender)', 'gender')\n",
    "\n",
    "# start of each month\n",
    "# from https://stackoverflow.com/questions/45612208/add-months-to-date-column-in-spark-dataframe\n",
    "df = df.withColumn(\"start_of_month\", expr(\"add_months(analysis_start_date, month_num)\"))\n",
    "# days since registration from start of each month\n",
    "# from https://stackoverflow.com/questions/44020818/how-to-calculate-date-difference-in-pyspark\n",
    "df = df.withColumn(\"daysSinceReg\", datediff(df.start_of_month, df.reg_datetime))\n",
    "#\n",
    "df_daysReg = df.select('userId', 'month_num', 'daysSinceReg') \\\n",
    ".groupBy('userId', 'month_num') \\\n",
    ".agg(min(df.daysSinceReg).alias('daysSinceReg'))\n",
    "\n",
    "df_churn = df.select('userId', 'month_num', 'churn') \\\n",
    ".groupBy('userId', 'month_num') \\\n",
    ".agg({'churn':'max'}) \\\n",
    ".withColumnRenamed('max(churn)', 'churn')"
   ]
  },
  {
   "cell_type": "code",
   "execution_count": null,
   "metadata": {
    "id": "WW3fPwcymYd5"
   },
   "outputs": [],
   "source": [
    "all_data = df_register.join(df_cancel, ['userId', 'month_num'], 'outer') \\\n",
    ".join(df_upgrade, ['userId', 'month_num'], 'outer') \\\n",
    ".join(df_downgrade, ['userId', 'month_num'], 'outer') \\\n",
    ".join(df_home, ['userId', 'month_num'], 'outer') \\\n",
    ".join(df_about, ['userId', 'month_num'], 'outer') \\\n",
    ".join(df_settings, ['userId', 'month_num'], 'outer') \\\n",
    ".join(df_saveSettings, ['userId', 'month_num'], 'outer') \\\n",
    ".join(df_login, ['userId', 'month_num'], 'outer') \\\n",
    ".join(df_logout, ['userId', 'month_num'], 'outer') \\\n",
    ".join(df_addPlaylist, ['userId', 'month_num'], 'outer') \\\n",
    ".join(df_addFriend, ['userId', 'month_num'], 'outer') \\\n",
    ".join(df_thumbsUp, ['userId', 'month_num'], 'outer') \\\n",
    ".join(df_thumbsDown, ['userId', 'month_num'], 'outer') \\\n",
    ".join(df_advert, ['userId', 'month_num'], 'outer') \\\n",
    ".join(df_songsPlayed, ['userId', 'month_num'], 'outer') \\\n",
    ".join(df_totalListen, ['userId', 'month_num'], 'outer') \\\n",
    ".join(df_avgSongsPerSession, ['userId', 'month_num'], 'outer') \\\n",
    ".join(df_singersPlayed, ['userId', 'month_num']) \\\n",
    ".join(df_avgSingersPerSession, ['userId', 'month_num'], 'outer') \\\n",
    ".join(df_avgUserSession, ['userId', 'month_num'], 'outer') \\\n",
    ".join(df_numSession, ['userId', 'month_num'], 'outer') \\\n",
    ".join(df_level, ['userId', 'month_num'], 'outer') \\\n",
    ".join(df_gender, ['userId', 'month_num'], 'outer') \\\n",
    ".join(df_daysReg, ['userId', 'month_num'], 'outer') \\\n",
    ".join(df_churn, ['userId', 'month_num'], 'outer')"
   ]
  },
  {
   "cell_type": "code",
   "execution_count": null,
   "metadata": {
    "colab": {
     "base_uri": "https://localhost:8080/"
    },
    "id": "kmt42Z3xmYmy",
    "outputId": "d5bd4efa-932c-474d-dbff-8f152c11c512"
   },
   "outputs": [
    {
     "name": "stdout",
     "output_type": "stream",
     "text": [
      "+------+---------+-----------+---------------+----------------+------------------+-------------+--------------+-----------------+---------------+---------+----------+---------------+----------+-----------+-------------+----------+--------------+------------------+------------------+----------------+--------------------+------------------+-----------+-----+------+------------+-----+\n",
      "|userId|month_num|numRegister|numCancelVisits|numUpgradeVisits|numDowngradeVisits|numHomeVisits|numAboutVisits|numSettingsVisits|numSaveSettings|numLogins|numLogouts|numAddPlaylists|numFriends|numThumbsUp|numThumbsDown|numAdverts|numSongsPlayed|   totalListenTime|avgSongsPerSession|numSingersPlayed|avgSingersPerSession|    avgSessionMins|numSessions|level|gender|daysSinceReg|churn|\n",
      "+------+---------+-----------+---------------+----------------+------------------+-------------+--------------+-----------------+---------------+---------+----------+---------------+----------+-----------+-------------+----------+--------------+------------------+------------------+----------------+--------------------+------------------+-----------+-----+------+------------+-----+\n",
      "|   149|        0|       null|           null|               1|              null|            7|          null|                3|           null|     null|         3|              5|         9|         11|            1|        13|           186|       48136.58831|              62.0|             173|                61.0| 265.7277777777778|          3|    0|     0|          16|    0|\n",
      "|    55|        0|       null|           null|            null|              null|            3|          null|             null|           null|     null|         3|              2|      null|          4|            1|        10|            94| 24918.78845999999|              18.8|              92|                18.6|             87.27|          5|    0|     0|          20|    0|\n",
      "|   120|        0|       null|           null|            null|                16|           39|             3|                7|              1|     null|        15|             36|        18|         71|            9|      null|          1279|319348.31799000036|           159.875|             939|             139.625| 661.8354166666667|          8|    1|     1|          69|    0|\n",
      "|200001|        0|       null|              1|               1|              null|           10|          null|                6|              2|     null|         4|              3|      null|         10|            1|         3|           115|30793.221329999982|             28.75|             110|                28.5| 83.70833333333333|          6|    0|     0|           2|    1|\n",
      "|100022|        0|       null|           null|               3|              null|           19|             1|                7|              1|     null|         8|              8|         7|         24|           12|        65|           394| 94831.80824000001|              39.4|             348|                37.6|154.06166666666667|         10|    0|     1|           6|    0|\n",
      "+------+---------+-----------+---------------+----------------+------------------+-------------+--------------+-----------------+---------------+---------+----------+---------------+----------+-----------+-------------+----------+--------------+------------------+------------------+----------------+--------------------+------------------+-----------+-----+------+------------+-----+\n",
      "only showing top 5 rows\n",
      "\n"
     ]
    }
   ],
   "source": [
    "all_data.show(5)"
   ]
  },
  {
   "cell_type": "code",
   "execution_count": null,
   "metadata": {
    "id": "4IBOR40QmYsB"
   },
   "outputs": [],
   "source": [
    "windowlag = (Window.partitionBy('userId').orderBy('month_num'))\n",
    "\n",
    "# generate 1 month lag features\n",
    "all_data = all_data.withColumn('numRegister_lastMonth', lag(all_data['numRegister']).over(windowlag))\n",
    "all_data = all_data.withColumn('numCancelVisits_lastMonth', lag(all_data['numCancelVisits']).over(windowlag))\n",
    "all_data = all_data.withColumn('numUpgradeVisits_lastMonth', lag(all_data['numUpgradeVisits']).over(windowlag))\n",
    "all_data = all_data.withColumn('numDowngradeVisits_lastMonth', lag(all_data['numDowngradeVisits']).over(windowlag))\n",
    "all_data = all_data.withColumn('numHomeVisits_lastMonth', lag(all_data['numHomeVisits']).over(windowlag))\n",
    "all_data = all_data.withColumn('numAboutVisits_lastMonth', lag(all_data['numAboutVisits']).over(windowlag))\n",
    "all_data = all_data.withColumn('numSettingsVisits_lastMonth', lag(all_data['numSettingsVisits']).over(windowlag))\n",
    "all_data = all_data.withColumn('numSaveSettings_lastMonth', lag(all_data['numSaveSettings']).over(windowlag))\n",
    "all_data = all_data.withColumn('numLogins_lastMonth', lag(all_data['numLogins']).over(windowlag))\n",
    "all_data = all_data.withColumn('numLogouts_lastMonth', lag(all_data['numLogouts']).over(windowlag))\n",
    "all_data = all_data.withColumn('numAddPlaylists_lastMonth', lag(all_data['numAddPlaylists']).over(windowlag))\n",
    "all_data = all_data.withColumn('numFriends_lastMonth', lag(all_data['numFriends']).over(windowlag))\n",
    "all_data = all_data.withColumn('numThumbsUp_lastMonth', lag(all_data['numThumbsUp']).over(windowlag))\n",
    "all_data = all_data.withColumn('numThumbsDown_lastMonth', lag(all_data['numThumbsDown']).over(windowlag))\n",
    "all_data = all_data.withColumn('numAdverts_lastMonth', lag(all_data['numAdverts']).over(windowlag))\n",
    "all_data = all_data.withColumn('numSongsPlayed_lastMonth', lag(all_data['numSongsPlayed']).over(windowlag))\n",
    "all_data = all_data.withColumn('totalListenTime_lastMonth', lag(all_data['totalListenTime']).over(windowlag))\n",
    "all_data = all_data.withColumn('avgSongsPerSession_lastMonth', lag(all_data['avgSongsPerSession']).over(windowlag))\n",
    "all_data = all_data.withColumn('numSingersPlayed_lastMonth', lag(all_data['numSingersPlayed']).over(windowlag))\n",
    "all_data = all_data.withColumn('avgSingersPerSession_lastMonth', lag(all_data['avgSingersPerSession']).over(windowlag))\n",
    "all_data = all_data.withColumn('avgSessionMins_lastMonth', lag(all_data['avgSessionMins']).over(windowlag))\n",
    "all_data = all_data.withColumn('numSessions_lastMonth', lag(all_data['numSessions']).over(windowlag))\n",
    "all_data = all_data.withColumn('level_lastMonth', lag(all_data['level']).over(windowlag))"
   ]
  },
  {
   "cell_type": "code",
   "execution_count": null,
   "metadata": {
    "colab": {
     "base_uri": "https://localhost:8080/"
    },
    "id": "VrQM5z2_mYvd",
    "outputId": "89e137bf-930f-4ecf-c135-ba2ff8e55e9b"
   },
   "outputs": [
    {
     "name": "stdout",
     "output_type": "stream",
     "text": [
      "+------+---------+-----------+---------------+----------------+------------------+-------------+--------------+-----------------+---------------+---------+----------+---------------+----------+-----------+-------------+----------+--------------+-----------------+------------------+----------------+--------------------+------------------+-----------+-----+------+------------+-----+---------------------+-------------------------+--------------------------+----------------------------+-----------------------+------------------------+---------------------------+-------------------------+-------------------+--------------------+-------------------------+--------------------+---------------------+-----------------------+--------------------+------------------------+-------------------------+----------------------------+--------------------------+------------------------------+------------------------+---------------------+---------------+\n",
      "|userId|month_num|numRegister|numCancelVisits|numUpgradeVisits|numDowngradeVisits|numHomeVisits|numAboutVisits|numSettingsVisits|numSaveSettings|numLogins|numLogouts|numAddPlaylists|numFriends|numThumbsUp|numThumbsDown|numAdverts|numSongsPlayed|  totalListenTime|avgSongsPerSession|numSingersPlayed|avgSingersPerSession|    avgSessionMins|numSessions|level|gender|daysSinceReg|churn|numRegister_lastMonth|numCancelVisits_lastMonth|numUpgradeVisits_lastMonth|numDowngradeVisits_lastMonth|numHomeVisits_lastMonth|numAboutVisits_lastMonth|numSettingsVisits_lastMonth|numSaveSettings_lastMonth|numLogins_lastMonth|numLogouts_lastMonth|numAddPlaylists_lastMonth|numFriends_lastMonth|numThumbsUp_lastMonth|numThumbsDown_lastMonth|numAdverts_lastMonth|numSongsPlayed_lastMonth|totalListenTime_lastMonth|avgSongsPerSession_lastMonth|numSingersPlayed_lastMonth|avgSingersPerSession_lastMonth|avgSessionMins_lastMonth|numSessions_lastMonth|level_lastMonth|\n",
      "+------+---------+-----------+---------------+----------------+------------------+-------------+--------------+-----------------+---------------+---------+----------+---------------+----------+-----------+-------------+----------+--------------+-----------------+------------------+----------------+--------------------+------------------+-----------+-----+------+------------+-----+---------------------+-------------------------+--------------------------+----------------------------+-----------------------+------------------------+---------------------------+-------------------------+-------------------+--------------------+-------------------------+--------------------+---------------------+-----------------------+--------------------+------------------------+-------------------------+----------------------------+--------------------------+------------------------------+------------------------+---------------------+---------------+\n",
      "|    55|        0|       null|           null|            null|              null|            3|          null|             null|           null|     null|         3|              2|      null|          4|            1|        10|            94|24918.78845999999|              18.8|              92|                18.6|             87.27|          5|    0|     0|          20|    0|                 null|                     null|                      null|                        null|                   null|                    null|                       null|                     null|               null|                null|                     null|                null|                 null|                   null|                null|                    null|                     null|                        null|                      null|                          null|                    null|                 null|           null|\n",
      "|    55|        1|       null|           null|               2|              null|           15|             1|                1|           null|     null|         3|              9|         8|         13|            4|        17|           275|68838.64099000006|              55.0|             253|                52.2|254.15333333333336|          5|    1|     0|          51|    0|                 null|                     null|                      null|                        null|                      3|                    null|                       null|                     null|               null|                   3|                        2|                null|                    4|                      1|                  10|                      94|        24918.78845999999|                        18.8|                        92|                          18.6|                   87.27|                    5|              0|\n",
      "+------+---------+-----------+---------------+----------------+------------------+-------------+--------------+-----------------+---------------+---------+----------+---------------+----------+-----------+-------------+----------+--------------+-----------------+------------------+----------------+--------------------+------------------+-----------+-----+------+------------+-----+---------------------+-------------------------+--------------------------+----------------------------+-----------------------+------------------------+---------------------------+-------------------------+-------------------+--------------------+-------------------------+--------------------+---------------------+-----------------------+--------------------+------------------------+-------------------------+----------------------------+--------------------------+------------------------------+------------------------+---------------------+---------------+\n",
      "\n"
     ]
    }
   ],
   "source": [
    "# check one individual\n",
    "all_data.filter(all_data.userId==\"55\").show()"
   ]
  },
  {
   "cell_type": "code",
   "execution_count": null,
   "metadata": {
    "id": "quTgMY52mYzR"
   },
   "outputs": [],
   "source": [
    "windowMov = (Window.partitionBy('userId').orderBy('month_num')\n",
    "             .rangeBetween(Window.unboundedPreceding, 0))\n",
    "\n",
    "# generate moving averages from previous months, not including current mmonth.\n",
    "# For small dataset, it will be the same as the 1 month lag values\n",
    "# since there are only 2 months. For the full dataset, there may be more than 2 months, \n",
    "# so moving averages will be different from 1 month lag\n",
    "all_data = all_data.withColumn('numRegister_cum_old', sum('numRegister').over(windowMov))\n",
    "all_data = all_data.withColumn('numRegister_cum',\\\n",
    "                               (all_data['numRegister_cum_old'] - all_data['numRegister']))\n",
    "all_data = all_data.withColumn('numRegister_movAvg',\\\n",
    "                               (all_data['numRegister_cum'] / all_data['month_num']))\n",
    "\n",
    "all_data = all_data.withColumn('numCancelVisits_cum_old', sum('numCancelVisits').over(windowMov))\n",
    "all_data = all_data.withColumn('numCancelVisits_cum',\\\n",
    "                               (all_data['numCancelVisits_cum_old'] - all_data['numCancelVisits']))\n",
    "all_data = all_data.withColumn('numCancelVisits_movAvg',\\\n",
    "                               (all_data['numCancelVisits_cum'] / all_data['month_num']))\n",
    "\n",
    "all_data = all_data.withColumn('numUpgradeVisits_cum_old', sum('numUpgradeVisits').over(windowMov))\n",
    "all_data = all_data.withColumn('numUpgradeVisits_cum',\\\n",
    "                               (all_data['numUpgradeVisits_cum_old'] - all_data['numUpgradeVisits']))\n",
    "all_data = all_data.withColumn('numUpgradeVisits_movAvg',\\\n",
    "                               (all_data['numUpgradeVisits_cum'] / all_data['month_num']))\n",
    "\n",
    "all_data = all_data.withColumn('numDowngradeVisits_cum_old', sum('numDowngradeVisits').over(windowMov))\n",
    "all_data = all_data.withColumn('numDowngradeVisits_cum',\\\n",
    "                               (all_data['numDowngradeVisits_cum_old'] - all_data['numDowngradeVisits']))\n",
    "all_data = all_data.withColumn('numDowngradeVisits_movAvg',\\\n",
    "                               (all_data['numDowngradeVisits_cum'] / all_data['month_num']))\n",
    "\n",
    "all_data = all_data.withColumn('numHomeVisits_cum_old', sum('numHomeVisits').over(windowMov))\n",
    "all_data = all_data.withColumn('numHomeVisits_cum',\\\n",
    "                               (all_data['numHomeVisits_cum_old'] - all_data['numHomeVisits']))\n",
    "all_data = all_data.withColumn('numHomeVisits_movAvg',\\\n",
    "                               (all_data['numHomeVisits_cum'] / all_data['month_num']))\n",
    "\n",
    "all_data = all_data.withColumn('numAboutVisits_cum_old', sum('numAboutVisits').over(windowMov))\n",
    "all_data = all_data.withColumn('numAboutVisits_cum',\\\n",
    "                               (all_data['numAboutVisits_cum_old'] - all_data['numAboutVisits']))\n",
    "all_data = all_data.withColumn('numAboutVisits_movAvg',\\\n",
    "                               (all_data['numAboutVisits_cum'] / all_data['month_num']))\n",
    "\n",
    "all_data = all_data.withColumn('numSettingsVisits_cum_old', sum('numSettingsVisits').over(windowMov))\n",
    "all_data = all_data.withColumn('numSettingsVisits_cum',\\\n",
    "                               (all_data['numSettingsVisits_cum_old'] - all_data['numSettingsVisits']))\n",
    "all_data = all_data.withColumn('numSettingsVisits_movAvg',\\\n",
    "                               (all_data['numSettingsVisits_cum'] / all_data['month_num']))\n",
    "\n",
    "all_data = all_data.withColumn('numSaveSettings_cum_old', sum('numSaveSettings').over(windowMov))\n",
    "all_data = all_data.withColumn('numSaveSettings_cum',\\\n",
    "                               (all_data['numSaveSettings_cum_old'] - all_data['numSaveSettings']))\n",
    "all_data = all_data.withColumn('numSaveSettings_movAvg',\\\n",
    "                               (all_data['numSaveSettings_cum'] / all_data['month_num']))\n",
    "\n",
    "all_data = all_data.withColumn('numLogins_cum_old', sum('numLogins').over(windowMov))\n",
    "all_data = all_data.withColumn('numLogins_cum',\\\n",
    "                               (all_data['numLogins_cum_old'] - all_data['numLogins']))\n",
    "all_data = all_data.withColumn('numLogins_movAvg',\\\n",
    "                               (all_data['numLogins_cum'] / all_data['month_num']))\n",
    "\n",
    "all_data = all_data.withColumn('numLogouts_cum_old', sum('numLogouts').over(windowMov))\n",
    "all_data = all_data.withColumn('numLogouts_cum',\\\n",
    "                               (all_data['numLogouts_cum_old'] - all_data['numLogouts']))\n",
    "all_data = all_data.withColumn('numLogouts_movAvg',\\\n",
    "                               (all_data['numLogouts_cum'] / all_data['month_num']))\n",
    "\n",
    "all_data = all_data.withColumn('numAddPlaylists_cum_old', sum('numAddPlaylists').over(windowMov))\n",
    "all_data = all_data.withColumn('numAddPlaylists_cum',\\\n",
    "                               (all_data['numAddPlaylists_cum_old'] - all_data['numAddPlaylists']))\n",
    "all_data = all_data.withColumn('numAddPlaylists_movAvg',\\\n",
    "                               (all_data['numAddPlaylists_cum'] / all_data['month_num']))\n",
    "\n",
    "all_data = all_data.withColumn('numFriends_cum_old', sum('numFriends').over(windowMov))\n",
    "all_data = all_data.withColumn('numFriends_cum',\\\n",
    "                               (all_data['numFriends_cum_old'] - all_data['numFriends']))\n",
    "all_data = all_data.withColumn('numFriends_movAvg',\\\n",
    "                               (all_data['numFriends_cum'] / all_data['month_num']))\n",
    "\n",
    "all_data = all_data.withColumn('numThumbsUp_cum_old', sum('numThumbsUp').over(windowMov))\n",
    "all_data = all_data.withColumn('numThumbsUp_cum',\\\n",
    "                               (all_data['numThumbsUp_cum_old'] - all_data['numThumbsUp']))\n",
    "all_data = all_data.withColumn('numThumbsUp_movAvg',\\\n",
    "                               (all_data['numThumbsUp_cum'] / all_data['month_num']))\n",
    "\n",
    "all_data = all_data.withColumn('numThumbsDown_cum_old', sum('numThumbsDown').over(windowMov))\n",
    "all_data = all_data.withColumn('numThumbsDown_cum',\\\n",
    "                               (all_data['numThumbsDown_cum_old'] - all_data['numThumbsDown']))\n",
    "all_data = all_data.withColumn('numThumbsDown_movAvg',\\\n",
    "                               (all_data['numThumbsDown_cum'] / all_data['month_num']))\n",
    "\n",
    "all_data = all_data.withColumn('numAdverts_cum_old', sum('numAdverts').over(windowMov))\n",
    "all_data = all_data.withColumn('numAdverts_cum',\\\n",
    "                               (all_data['numAdverts_cum_old'] - all_data['numAdverts']))\n",
    "all_data = all_data.withColumn('numAdverts_movAvg',\\\n",
    "                               (all_data['numAdverts_cum'] / all_data['month_num']))\n",
    "\n",
    "all_data = all_data.withColumn('numSongsPlayed_cum_old', sum('numSongsPlayed').over(windowMov))\n",
    "all_data = all_data.withColumn('numSongsPlayed_cum',\\\n",
    "                               (all_data['numSongsPlayed_cum_old'] - all_data['numSongsPlayed']))\n",
    "all_data = all_data.withColumn('numSongsPlayed_movAvg',\\\n",
    "                               (all_data['numSongsPlayed_cum'] / all_data['month_num']))\n",
    "\n",
    "all_data = all_data.withColumn('totalListenTime_cum_old', sum('totalListenTime').over(windowMov))\n",
    "all_data = all_data.withColumn('totalListenTime_cum',\\\n",
    "                               (all_data['totalListenTime_cum_old'] - all_data['totalListenTime']))\n",
    "all_data = all_data.withColumn('totalListenTime_movAvg',\\\n",
    "                               (all_data['totalListenTime_cum'] / all_data['month_num']))\n",
    "\n",
    "all_data = all_data.withColumn('avgSongsPerSession_cum_old', sum('avgSongsPerSession').over(windowMov))\n",
    "all_data = all_data.withColumn('avgSongsPerSession_cum',\\\n",
    "                               (all_data['avgSongsPerSession_cum_old'] - all_data['avgSongsPerSession']))\n",
    "all_data = all_data.withColumn('avgSongsPerSession_movAvg',\\\n",
    "                               (all_data['avgSongsPerSession_cum'] / all_data['month_num']))\n",
    "\n",
    "all_data = all_data.withColumn('numSingersPlayed_cum_old', sum('numSingersPlayed').over(windowMov))\n",
    "all_data = all_data.withColumn('numSingersPlayed_cum',\\\n",
    "                               (all_data['numSingersPlayed_cum_old'] - all_data['numSingersPlayed']))\n",
    "all_data = all_data.withColumn('numSingersPlayed_movAvg',\\\n",
    "                               (all_data['numSingersPlayed_cum'] / all_data['month_num']))\n",
    "\n",
    "all_data = all_data.withColumn('avgSingersPerSession_cum_old', sum('avgSingersPerSession').over(windowMov))\n",
    "all_data = all_data.withColumn('avgSingersPerSession_cum',\\\n",
    "                               (all_data['avgSingersPerSession_cum_old'] - all_data['avgSingersPerSession']))\n",
    "all_data = all_data.withColumn('avgSingersPerSession_movAvg',\\\n",
    "                               (all_data['avgSingersPerSession_cum'] / all_data['month_num']))\n",
    "\n",
    "all_data = all_data.withColumn('avgSessionMins_cum_old', sum('avgSessionMins').over(windowMov))\n",
    "all_data = all_data.withColumn('avgSessionMins_cum',\\\n",
    "                               (all_data['avgSessionMins_cum_old'] - all_data['avgSessionMins']))\n",
    "all_data = all_data.withColumn('avgSessionMins_movAvg',\\\n",
    "                               (all_data['avgSessionMins_cum'] / all_data['month_num']))\n",
    "\n",
    "all_data = all_data.withColumn('numSessions_cum_old', sum('numSessions').over(windowMov))\n",
    "all_data = all_data.withColumn('numSessions_cum',\\\n",
    "                               (all_data['numSessions_cum_old'] - all_data['numSessions']))\n",
    "all_data = all_data.withColumn('numSessions_movAvg',\\\n",
    "                               (all_data['numSessions_cum'] / all_data['month_num']))"
   ]
  },
  {
   "cell_type": "code",
   "execution_count": null,
   "metadata": {
    "colab": {
     "base_uri": "https://localhost:8080/"
    },
    "id": "mfrA5RG_ngyU",
    "outputId": "52387c5f-635a-4501-9425-f3e91d467454"
   },
   "outputs": [
    {
     "name": "stdout",
     "output_type": "stream",
     "text": [
      "+------+---------+-----------+---------------+----------------+------------------+-------------+--------------+-----------------+---------------+---------+----------+---------------+----------+-----------+-------------+----------+--------------+-----------------+------------------+----------------+--------------------+------------------+-----------+-----+------+------------+-----+---------------------+-------------------------+--------------------------+----------------------------+-----------------------+------------------------+---------------------------+-------------------------+-------------------+--------------------+-------------------------+--------------------+---------------------+-----------------------+--------------------+------------------------+-------------------------+----------------------------+--------------------------+------------------------------+------------------------+---------------------+---------------+-------------------+---------------+------------------+-----------------------+-------------------+----------------------+------------------------+--------------------+-----------------------+--------------------------+----------------------+-------------------------+---------------------+-----------------+--------------------+----------------------+------------------+---------------------+-------------------------+---------------------+------------------------+-----------------------+-------------------+----------------------+-----------------+-------------+----------------+------------------+--------------+-----------------+-----------------------+-------------------+----------------------+------------------+--------------+-----------------+-------------------+---------------+------------------+---------------------+-----------------+--------------------+------------------+--------------+-----------------+----------------------+------------------+---------------------+-----------------------+-------------------+----------------------+--------------------------+----------------------+-------------------------+------------------------+--------------------+-----------------------+----------------------------+------------------------+---------------------------+----------------------+------------------+---------------------+-------------------+---------------+------------------+\n",
      "|userId|month_num|numRegister|numCancelVisits|numUpgradeVisits|numDowngradeVisits|numHomeVisits|numAboutVisits|numSettingsVisits|numSaveSettings|numLogins|numLogouts|numAddPlaylists|numFriends|numThumbsUp|numThumbsDown|numAdverts|numSongsPlayed|  totalListenTime|avgSongsPerSession|numSingersPlayed|avgSingersPerSession|    avgSessionMins|numSessions|level|gender|daysSinceReg|churn|numRegister_lastMonth|numCancelVisits_lastMonth|numUpgradeVisits_lastMonth|numDowngradeVisits_lastMonth|numHomeVisits_lastMonth|numAboutVisits_lastMonth|numSettingsVisits_lastMonth|numSaveSettings_lastMonth|numLogins_lastMonth|numLogouts_lastMonth|numAddPlaylists_lastMonth|numFriends_lastMonth|numThumbsUp_lastMonth|numThumbsDown_lastMonth|numAdverts_lastMonth|numSongsPlayed_lastMonth|totalListenTime_lastMonth|avgSongsPerSession_lastMonth|numSingersPlayed_lastMonth|avgSingersPerSession_lastMonth|avgSessionMins_lastMonth|numSessions_lastMonth|level_lastMonth|numRegister_cum_old|numRegister_cum|numRegister_movAvg|numCancelVisits_cum_old|numCancelVisits_cum|numCancelVisits_movAvg|numUpgradeVisits_cum_old|numUpgradeVisits_cum|numUpgradeVisits_movAvg|numDowngradeVisits_cum_old|numDowngradeVisits_cum|numDowngradeVisits_movAvg|numHomeVisits_cum_old|numHomeVisits_cum|numHomeVisits_movAvg|numAboutVisits_cum_old|numAboutVisits_cum|numAboutVisits_movAvg|numSettingsVisits_cum_old|numSettingsVisits_cum|numSettingsVisits_movAvg|numSaveSettings_cum_old|numSaveSettings_cum|numSaveSettings_movAvg|numLogins_cum_old|numLogins_cum|numLogins_movAvg|numLogouts_cum_old|numLogouts_cum|numLogouts_movAvg|numAddPlaylists_cum_old|numAddPlaylists_cum|numAddPlaylists_movAvg|numFriends_cum_old|numFriends_cum|numFriends_movAvg|numThumbsUp_cum_old|numThumbsUp_cum|numThumbsUp_movAvg|numThumbsDown_cum_old|numThumbsDown_cum|numThumbsDown_movAvg|numAdverts_cum_old|numAdverts_cum|numAdverts_movAvg|numSongsPlayed_cum_old|numSongsPlayed_cum|numSongsPlayed_movAvg|totalListenTime_cum_old|totalListenTime_cum|totalListenTime_movAvg|avgSongsPerSession_cum_old|avgSongsPerSession_cum|avgSongsPerSession_movAvg|numSingersPlayed_cum_old|numSingersPlayed_cum|numSingersPlayed_movAvg|avgSingersPerSession_cum_old|avgSingersPerSession_cum|avgSingersPerSession_movAvg|avgSessionMins_cum_old|avgSessionMins_cum|avgSessionMins_movAvg|numSessions_cum_old|numSessions_cum|numSessions_movAvg|\n",
      "+------+---------+-----------+---------------+----------------+------------------+-------------+--------------+-----------------+---------------+---------+----------+---------------+----------+-----------+-------------+----------+--------------+-----------------+------------------+----------------+--------------------+------------------+-----------+-----+------+------------+-----+---------------------+-------------------------+--------------------------+----------------------------+-----------------------+------------------------+---------------------------+-------------------------+-------------------+--------------------+-------------------------+--------------------+---------------------+-----------------------+--------------------+------------------------+-------------------------+----------------------------+--------------------------+------------------------------+------------------------+---------------------+---------------+-------------------+---------------+------------------+-----------------------+-------------------+----------------------+------------------------+--------------------+-----------------------+--------------------------+----------------------+-------------------------+---------------------+-----------------+--------------------+----------------------+------------------+---------------------+-------------------------+---------------------+------------------------+-----------------------+-------------------+----------------------+-----------------+-------------+----------------+------------------+--------------+-----------------+-----------------------+-------------------+----------------------+------------------+--------------+-----------------+-------------------+---------------+------------------+---------------------+-----------------+--------------------+------------------+--------------+-----------------+----------------------+------------------+---------------------+-----------------------+-------------------+----------------------+--------------------------+----------------------+-------------------------+------------------------+--------------------+-----------------------+----------------------------+------------------------+---------------------------+----------------------+------------------+---------------------+-------------------+---------------+------------------+\n",
      "|    55|        0|       null|           null|            null|              null|            3|          null|             null|           null|     null|         3|              2|      null|          4|            1|        10|            94|24918.78845999999|              18.8|              92|                18.6|             87.27|          5|    0|     0|          20|    0|                 null|                     null|                      null|                        null|                   null|                    null|                       null|                     null|               null|                null|                     null|                null|                 null|                   null|                null|                    null|                     null|                        null|                      null|                          null|                    null|                 null|           null|               null|           null|              null|                   null|               null|                  null|                    null|                null|                   null|                      null|                  null|                     null|                    3|                0|                null|                  null|              null|                 null|                     null|                 null|                    null|                   null|               null|                  null|             null|         null|            null|                 3|             0|             null|                      2|                  0|                  null|              null|          null|             null|                  4|              0|              null|                    1|                0|                null|                10|             0|             null|                    94|                 0|                 null|      24918.78845999999|                0.0|                  null|                      18.8|                   0.0|                     null|                      92|                   0|                   null|                        18.6|                     0.0|                       null|                 87.27|               0.0|                 null|                  5|              0|              null|\n",
      "|    55|        1|       null|           null|               2|              null|           15|             1|                1|           null|     null|         3|              9|         8|         13|            4|        17|           275|68838.64099000006|              55.0|             253|                52.2|254.15333333333336|          5|    1|     0|          51|    0|                 null|                     null|                      null|                        null|                      3|                    null|                       null|                     null|               null|                   3|                        2|                null|                    4|                      1|                  10|                      94|        24918.78845999999|                        18.8|                        92|                          18.6|                   87.27|                    5|              0|               null|           null|              null|                   null|               null|                  null|                       2|                   0|                    0.0|                      null|                  null|                     null|                   18|                3|                 3.0|                     1|                 0|                  0.0|                        1|                    0|                     0.0|                   null|               null|                  null|             null|         null|            null|                 6|             3|              3.0|                     11|                  2|                   2.0|                 8|             0|              0.0|                 17|              4|               4.0|                    5|                1|                 1.0|                27|            10|             10.0|                   369|                94|                 94.0|      93757.42945000005| 24918.788459999996|    24918.788459999996|                      73.8|    18.799999999999997|       18.799999999999997|                     345|                  92|                   92.0|           70.80000000000001|       18.60000000000001|          18.60000000000001|    341.42333333333335| 87.26999999999998|    87.26999999999998|                 10|              5|               5.0|\n",
      "+------+---------+-----------+---------------+----------------+------------------+-------------+--------------+-----------------+---------------+---------+----------+---------------+----------+-----------+-------------+----------+--------------+-----------------+------------------+----------------+--------------------+------------------+-----------+-----+------+------------+-----+---------------------+-------------------------+--------------------------+----------------------------+-----------------------+------------------------+---------------------------+-------------------------+-------------------+--------------------+-------------------------+--------------------+---------------------+-----------------------+--------------------+------------------------+-------------------------+----------------------------+--------------------------+------------------------------+------------------------+---------------------+---------------+-------------------+---------------+------------------+-----------------------+-------------------+----------------------+------------------------+--------------------+-----------------------+--------------------------+----------------------+-------------------------+---------------------+-----------------+--------------------+----------------------+------------------+---------------------+-------------------------+---------------------+------------------------+-----------------------+-------------------+----------------------+-----------------+-------------+----------------+------------------+--------------+-----------------+-----------------------+-------------------+----------------------+------------------+--------------+-----------------+-------------------+---------------+------------------+---------------------+-----------------+--------------------+------------------+--------------+-----------------+----------------------+------------------+---------------------+-----------------------+-------------------+----------------------+--------------------------+----------------------+-------------------------+------------------------+--------------------+-----------------------+----------------------------+------------------------+---------------------------+----------------------+------------------+---------------------+-------------------+---------------+------------------+\n",
      "\n"
     ]
    }
   ],
   "source": [
    "all_data.filter(all_data.userId==\"55\").show()"
   ]
  },
  {
   "cell_type": "code",
   "execution_count": null,
   "metadata": {
    "colab": {
     "base_uri": "https://localhost:8080/"
    },
    "id": "ErBKOHOzng1J",
    "outputId": "436a0cdb-0c79-47fd-ac5f-5df33e7c15ad"
   },
   "outputs": [
    {
     "name": "stdout",
     "output_type": "stream",
     "text": [
      "+------+---------+-----------+---------------+----------------+------------------+-------------+--------------+-----------------+---------------+---------+----------+---------------+----------+-----------+-------------+----------+--------------+---------------+------------------+----------------+--------------------+--------------+-----------+-----+------+------------+-----+---------------------+-------------------------+--------------------------+----------------------------+-----------------------+------------------------+---------------------------+-------------------------+-------------------+--------------------+-------------------------+--------------------+---------------------+-----------------------+--------------------+------------------------+-------------------------+----------------------------+--------------------------+------------------------------+------------------------+---------------------+---------------+-------------------+---------------+------------------+-----------------------+-------------------+----------------------+------------------------+--------------------+-----------------------+--------------------------+----------------------+-------------------------+---------------------+-----------------+--------------------+----------------------+------------------+---------------------+-------------------------+---------------------+------------------------+-----------------------+-------------------+----------------------+-----------------+-------------+----------------+------------------+--------------+-----------------+-----------------------+-------------------+----------------------+------------------+--------------+-----------------+-------------------+---------------+------------------+---------------------+-----------------+--------------------+------------------+--------------+-----------------+----------------------+------------------+---------------------+-----------------------+-------------------+----------------------+--------------------------+----------------------+-------------------------+------------------------+--------------------+-----------------------+----------------------------+------------------------+---------------------------+----------------------+------------------+---------------------+-------------------+---------------+------------------+\n",
      "|userId|month_num|numRegister|numCancelVisits|numUpgradeVisits|numDowngradeVisits|numHomeVisits|numAboutVisits|numSettingsVisits|numSaveSettings|numLogins|numLogouts|numAddPlaylists|numFriends|numThumbsUp|numThumbsDown|numAdverts|numSongsPlayed|totalListenTime|avgSongsPerSession|numSingersPlayed|avgSingersPerSession|avgSessionMins|numSessions|level|gender|daysSinceReg|churn|numRegister_lastMonth|numCancelVisits_lastMonth|numUpgradeVisits_lastMonth|numDowngradeVisits_lastMonth|numHomeVisits_lastMonth|numAboutVisits_lastMonth|numSettingsVisits_lastMonth|numSaveSettings_lastMonth|numLogins_lastMonth|numLogouts_lastMonth|numAddPlaylists_lastMonth|numFriends_lastMonth|numThumbsUp_lastMonth|numThumbsDown_lastMonth|numAdverts_lastMonth|numSongsPlayed_lastMonth|totalListenTime_lastMonth|avgSongsPerSession_lastMonth|numSingersPlayed_lastMonth|avgSingersPerSession_lastMonth|avgSessionMins_lastMonth|numSessions_lastMonth|level_lastMonth|numRegister_cum_old|numRegister_cum|numRegister_movAvg|numCancelVisits_cum_old|numCancelVisits_cum|numCancelVisits_movAvg|numUpgradeVisits_cum_old|numUpgradeVisits_cum|numUpgradeVisits_movAvg|numDowngradeVisits_cum_old|numDowngradeVisits_cum|numDowngradeVisits_movAvg|numHomeVisits_cum_old|numHomeVisits_cum|numHomeVisits_movAvg|numAboutVisits_cum_old|numAboutVisits_cum|numAboutVisits_movAvg|numSettingsVisits_cum_old|numSettingsVisits_cum|numSettingsVisits_movAvg|numSaveSettings_cum_old|numSaveSettings_cum|numSaveSettings_movAvg|numLogins_cum_old|numLogins_cum|numLogins_movAvg|numLogouts_cum_old|numLogouts_cum|numLogouts_movAvg|numAddPlaylists_cum_old|numAddPlaylists_cum|numAddPlaylists_movAvg|numFriends_cum_old|numFriends_cum|numFriends_movAvg|numThumbsUp_cum_old|numThumbsUp_cum|numThumbsUp_movAvg|numThumbsDown_cum_old|numThumbsDown_cum|numThumbsDown_movAvg|numAdverts_cum_old|numAdverts_cum|numAdverts_movAvg|numSongsPlayed_cum_old|numSongsPlayed_cum|numSongsPlayed_movAvg|totalListenTime_cum_old|totalListenTime_cum|totalListenTime_movAvg|avgSongsPerSession_cum_old|avgSongsPerSession_cum|avgSongsPerSession_movAvg|numSingersPlayed_cum_old|numSingersPlayed_cum|numSingersPlayed_movAvg|avgSingersPerSession_cum_old|avgSingersPerSession_cum|avgSingersPerSession_movAvg|avgSessionMins_cum_old|avgSessionMins_cum|avgSessionMins_movAvg|numSessions_cum_old|numSessions_cum|numSessions_movAvg|\n",
      "+------+---------+-----------+---------------+----------------+------------------+-------------+--------------+-----------------+---------------+---------+----------+---------------+----------+-----------+-------------+----------+--------------+---------------+------------------+----------------+--------------------+--------------+-----------+-----+------+------------+-----+---------------------+-------------------------+--------------------------+----------------------------+-----------------------+------------------------+---------------------------+-------------------------+-------------------+--------------------+-------------------------+--------------------+---------------------+-----------------------+--------------------+------------------------+-------------------------+----------------------------+--------------------------+------------------------------+------------------------+---------------------+---------------+-------------------+---------------+------------------+-----------------------+-------------------+----------------------+------------------------+--------------------+-----------------------+--------------------------+----------------------+-------------------------+---------------------+-----------------+--------------------+----------------------+------------------+---------------------+-------------------------+---------------------+------------------------+-----------------------+-------------------+----------------------+-----------------+-------------+----------------+------------------+--------------+-----------------+-----------------------+-------------------+----------------------+------------------+--------------+-----------------+-------------------+---------------+------------------+---------------------+-----------------+--------------------+------------------+--------------+-----------------+----------------------+------------------+---------------------+-----------------------+-------------------+----------------------+--------------------------+----------------------+-------------------------+------------------------+--------------------+-----------------------+----------------------------+------------------------+---------------------------+----------------------+------------------+---------------------+-------------------+---------------+------------------+\n",
      "|     0|        0|          0|              0|               0|                 0|            0|             0|                0|              0|        0|         0|              0|         0|          0|            0|         0|             0|              0|                 0|               0|                   0|             0|          0|    0|     0|           0|    0|                    0|                        0|                         0|                           0|                      0|                       0|                          0|                        0|                  0|                   0|                        0|                   0|                    0|                      0|                   0|                       0|                        0|                           0|                         0|                             0|                       0|                    0|            225|                  0|              0|                 0|                      0|                  0|                     0|                       0|                   0|                      0|                         0|                     0|                        0|                    0|                0|                   0|                     0|                 0|                    0|                        0|                    0|                       0|                      0|                  0|                     0|                0|            0|               0|                 0|             0|                0|                      0|                  0|                     0|                 0|             0|                0|                  0|              0|                 0|                    0|                0|                   0|                 0|             0|                0|                     0|                 0|                    0|                      0|                  0|                     0|                         0|                     0|                        0|                       0|                   0|                      0|                           0|                       0|                          0|                     0|                 0|                    0|                  0|              0|                 0|\n",
      "+------+---------+-----------+---------------+----------------+------------------+-------------+--------------+-----------------+---------------+---------+----------+---------------+----------+-----------+-------------+----------+--------------+---------------+------------------+----------------+--------------------+--------------+-----------+-----+------+------------+-----+---------------------+-------------------------+--------------------------+----------------------------+-----------------------+------------------------+---------------------------+-------------------------+-------------------+--------------------+-------------------------+--------------------+---------------------+-----------------------+--------------------+------------------------+-------------------------+----------------------------+--------------------------+------------------------------+------------------------+---------------------+---------------+-------------------+---------------+------------------+-----------------------+-------------------+----------------------+------------------------+--------------------+-----------------------+--------------------------+----------------------+-------------------------+---------------------+-----------------+--------------------+----------------------+------------------+---------------------+-------------------------+---------------------+------------------------+-----------------------+-------------------+----------------------+-----------------+-------------+----------------+------------------+--------------+-----------------+-----------------------+-------------------+----------------------+------------------+--------------+-----------------+-------------------+---------------+------------------+---------------------+-----------------+--------------------+------------------+--------------+-----------------+----------------------+------------------+---------------------+-----------------------+-------------------+----------------------+--------------------------+----------------------+-------------------------+------------------------+--------------------+-----------------------+----------------------------+------------------------+---------------------------+----------------------+------------------+---------------------+-------------------+---------------+------------------+\n",
      "\n"
     ]
    }
   ],
   "source": [
    "# fill na/null values with 0\n",
    "all_data = all_data.na.fill(0.0)\n",
    "\n",
    "# alternatively, can do this\n",
    "# df = df.fillna({'col':'4'})\n",
    "\n",
    "all_data.select([count(when(col(c).isNull(), c)).alias(c) for c in all_data.columns]).show()"
   ]
  },
  {
   "cell_type": "code",
   "execution_count": null,
   "metadata": {
    "id": "dXX1shuPng4-"
   },
   "outputs": [],
   "source": [
    "all_data_pd_1 = all_data \\\n",
    ".filter(all_data.month_num>=1) \\\n",
    ".select('numRegister_lastMonth','numCancelVisits_lastMonth',\\\n",
    "        'numUpgradeVisits_lastMonth', 'numDowngradeVisits_lastMonth',\\\n",
    "        'numHomeVisits_lastMonth', 'numAboutVisits_lastMonth',\\\n",
    "        'numSettingsVisits_lastMonth', 'numSaveSettings_lastMonth',\\\n",
    "        'numLogins_lastMonth', 'numLogouts_lastMonth',\\\n",
    "        'numAddPlaylists_lastMonth', 'numFriends_lastMonth',\\\n",
    "        'numThumbsUp_lastMonth', 'numThumbsDown_lastMonth',\\\n",
    "        'numAdverts_lastMonth',\\\n",
    "        'avgSongsPerSession_lastMonth',\\\n",
    "        'avgSingersPerSession_lastMonth',\\\n",
    "        'numSessions_lastMonth',\\\n",
    "        'daysSinceReg', 'churn'\n",
    "        ) \\\n",
    ".groupBy('churn') \\\n",
    ".agg(avg(all_data.numRegister_lastMonth).alias('avgNumRegister_lastMonth'),\\\n",
    "     avg(all_data.numCancelVisits_lastMonth).alias('avgNumCancelVisits_lastMonth'),\\\n",
    "     avg(all_data.numUpgradeVisits_lastMonth).alias('avgNumUpgradeVisits_lastMonth'),\\\n",
    "     avg(all_data.numDowngradeVisits_lastMonth).alias('avgNumDowngradeVisits_lastMonth'),\\\n",
    "     avg(all_data.numHomeVisits_lastMonth).alias('avgNumHomeVisits_lastMonth'),\\\n",
    "     avg(all_data.numAboutVisits_lastMonth).alias('avgNumAboutVisits_lastMonth'),\\\n",
    "     avg(all_data.numSettingsVisits_lastMonth).alias('avgNumSettingsVisits_lastMonth'),\\\n",
    "     avg(all_data.numSaveSettings_lastMonth).alias('avgNumSaveSettings_lastMonth'),\\\n",
    "     avg(all_data.numLogins_lastMonth).alias('avgNumLogins_lastMonth'),\\\n",
    "     avg(all_data.numLogouts_lastMonth).alias('avgNumLogouts_lastMonth'),\\\n",
    "     avg(all_data.numAddPlaylists_lastMonth).alias('avgNumAddPlaylists_lastMonth'),\\\n",
    "     avg(all_data.numFriends_lastMonth).alias('avgNumFriends_lastMonth'),\\\n",
    "     avg(all_data.numThumbsUp_lastMonth).alias('avgNumThumbsUp_lastMonth'),\\\n",
    "     avg(all_data.numThumbsDown_lastMonth).alias('avgNumThumbsDown_lastMonth'),\\\n",
    "     avg(all_data.numAdverts_lastMonth).alias('avgNumAdverts_lastMonth'),\\\n",
    "     avg(all_data.avgSongsPerSession_lastMonth).alias('avgAvgSongsPerSession_lastMonth'),\\\n",
    "     avg(all_data.avgSingersPerSession_lastMonth).alias('avgAvgSingersPerSession_lastMonth'),\\\n",
    "     avg(all_data.numSessions_lastMonth).alias('avgNumSessions_lastMonth'),\\\n",
    "     avg(all_data.daysSinceReg).alias('avgDaysSinceReg'),\\\n",
    "    ).toPandas()\n",
    "\n",
    "all_data_pd_2 = all_data \\\n",
    ".filter(all_data.month_num>=1) \\\n",
    ".select('numSongsPlayed_lastMonth',\\\n",
    "        'numSingersPlayed_lastMonth',\\\n",
    "        'avgSessionMins_lastMonth',\\\n",
    "        'churn'\n",
    "       ) \\\n",
    ".groupBy('churn') \\\n",
    ".agg(avg(all_data.numSongsPlayed_lastMonth).alias('avgNumSongsPlayed_lastMonth'),\\\n",
    "     avg(all_data.numSingersPlayed_lastMonth).alias('avgNumSingersPlayed_lastMonth'),\\\n",
    "     avg(all_data.avgSessionMins_lastMonth).alias('avgAvgSessionMins_lastMonth')\n",
    "    ).toPandas()\n",
    "\n",
    "all_data_pd_3 = all_data \\\n",
    ".filter(all_data.month_num>=1) \\\n",
    ".select('totalListenTime_lastMonth', 'churn') \\\n",
    ".groupBy('churn') \\\n",
    ".agg(avg(all_data.totalListenTime_lastMonth).alias('avgTotalListenTime_lastMonth')).toPandas()"
   ]
  },
  {
   "cell_type": "code",
   "execution_count": null,
   "metadata": {
    "colab": {
     "base_uri": "https://localhost:8080/",
     "height": 127
    },
    "id": "RGJ_K5Afng-u",
    "outputId": "c2187470-f3f0-4eff-f1cb-0cfb5b339a63"
   },
   "outputs": [
    {
     "data": {
      "text/html": [
       "<div>\n",
       "<style scoped>\n",
       "    .dataframe tbody tr th:only-of-type {\n",
       "        vertical-align: middle;\n",
       "    }\n",
       "\n",
       "    .dataframe tbody tr th {\n",
       "        vertical-align: top;\n",
       "    }\n",
       "\n",
       "    .dataframe thead th {\n",
       "        text-align: right;\n",
       "    }\n",
       "</style>\n",
       "<table border=\"1\" class=\"dataframe\">\n",
       "  <thead>\n",
       "    <tr style=\"text-align: right;\">\n",
       "      <th></th>\n",
       "      <th>churn</th>\n",
       "      <th>avgNumRegister_lastMonth</th>\n",
       "      <th>avgNumCancelVisits_lastMonth</th>\n",
       "      <th>avgNumUpgradeVisits_lastMonth</th>\n",
       "      <th>avgNumDowngradeVisits_lastMonth</th>\n",
       "      <th>avgNumHomeVisits_lastMonth</th>\n",
       "      <th>avgNumAboutVisits_lastMonth</th>\n",
       "      <th>avgNumSettingsVisits_lastMonth</th>\n",
       "      <th>avgNumSaveSettings_lastMonth</th>\n",
       "      <th>avgNumLogins_lastMonth</th>\n",
       "      <th>avgNumLogouts_lastMonth</th>\n",
       "      <th>avgNumAddPlaylists_lastMonth</th>\n",
       "      <th>avgNumFriends_lastMonth</th>\n",
       "      <th>avgNumThumbsUp_lastMonth</th>\n",
       "      <th>avgNumThumbsDown_lastMonth</th>\n",
       "      <th>avgNumAdverts_lastMonth</th>\n",
       "      <th>avgAvgSongsPerSession_lastMonth</th>\n",
       "      <th>avgAvgSingersPerSession_lastMonth</th>\n",
       "      <th>avgNumSessions_lastMonth</th>\n",
       "      <th>avgDaysSinceReg</th>\n",
       "    </tr>\n",
       "  </thead>\n",
       "  <tbody>\n",
       "    <tr>\n",
       "      <th>0</th>\n",
       "      <td>1</td>\n",
       "      <td>0.0</td>\n",
       "      <td>0.0</td>\n",
       "      <td>2.116279</td>\n",
       "      <td>8.441860</td>\n",
       "      <td>40.395349</td>\n",
       "      <td>1.953488</td>\n",
       "      <td>5.372093</td>\n",
       "      <td>1.162791</td>\n",
       "      <td>0.0</td>\n",
       "      <td>13.069767</td>\n",
       "      <td>28.232558</td>\n",
       "      <td>16.395349</td>\n",
       "      <td>50.465116</td>\n",
       "      <td>12.116279</td>\n",
       "      <td>18.465116</td>\n",
       "      <td>68.737491</td>\n",
       "      <td>64.400192</td>\n",
       "      <td>13.488372</td>\n",
       "      <td>65.953488</td>\n",
       "    </tr>\n",
       "    <tr>\n",
       "      <th>1</th>\n",
       "      <td>0</td>\n",
       "      <td>0.0</td>\n",
       "      <td>0.0</td>\n",
       "      <td>1.189189</td>\n",
       "      <td>3.682432</td>\n",
       "      <td>19.891892</td>\n",
       "      <td>0.979730</td>\n",
       "      <td>2.797297</td>\n",
       "      <td>0.533784</td>\n",
       "      <td>0.0</td>\n",
       "      <td>6.351351</td>\n",
       "      <td>12.500000</td>\n",
       "      <td>7.777027</td>\n",
       "      <td>25.824324</td>\n",
       "      <td>4.858108</td>\n",
       "      <td>8.182432</td>\n",
       "      <td>58.997155</td>\n",
       "      <td>55.180936</td>\n",
       "      <td>6.689189</td>\n",
       "      <td>63.932432</td>\n",
       "    </tr>\n",
       "  </tbody>\n",
       "</table>\n",
       "</div>"
      ],
      "text/plain": [
       "   churn  avgNumRegister_lastMonth  ...  avgNumSessions_lastMonth  avgDaysSinceReg\n",
       "0      1                       0.0  ...                 13.488372        65.953488\n",
       "1      0                       0.0  ...                  6.689189        63.932432\n",
       "\n",
       "[2 rows x 20 columns]"
      ]
     },
     "execution_count": 101,
     "metadata": {
      "tags": []
     },
     "output_type": "execute_result"
    }
   ],
   "source": [
    "all_data_pd_1.head()"
   ]
  },
  {
   "cell_type": "code",
   "execution_count": null,
   "metadata": {
    "colab": {
     "base_uri": "https://localhost:8080/",
     "height": 107
    },
    "id": "aox8nLl2nhEu",
    "outputId": "ac28ad13-6652-4b1e-95ee-2ddb444365f3"
   },
   "outputs": [
    {
     "data": {
      "text/html": [
       "<div>\n",
       "<style scoped>\n",
       "    .dataframe tbody tr th:only-of-type {\n",
       "        vertical-align: middle;\n",
       "    }\n",
       "\n",
       "    .dataframe tbody tr th {\n",
       "        vertical-align: top;\n",
       "    }\n",
       "\n",
       "    .dataframe thead th {\n",
       "        text-align: right;\n",
       "    }\n",
       "</style>\n",
       "<table border=\"1\" class=\"dataframe\">\n",
       "  <thead>\n",
       "    <tr style=\"text-align: right;\">\n",
       "      <th></th>\n",
       "      <th>churn</th>\n",
       "      <th>avgNumSongsPlayed_lastMonth</th>\n",
       "      <th>avgNumSingersPlayed_lastMonth</th>\n",
       "      <th>avgAvgSessionMins_lastMonth</th>\n",
       "    </tr>\n",
       "  </thead>\n",
       "  <tbody>\n",
       "    <tr>\n",
       "      <th>0</th>\n",
       "      <td>1</td>\n",
       "      <td>915.883721</td>\n",
       "      <td>653.581395</td>\n",
       "      <td>275.483681</td>\n",
       "    </tr>\n",
       "    <tr>\n",
       "      <th>1</th>\n",
       "      <td>0</td>\n",
       "      <td>438.263514</td>\n",
       "      <td>347.182432</td>\n",
       "      <td>239.073294</td>\n",
       "    </tr>\n",
       "  </tbody>\n",
       "</table>\n",
       "</div>"
      ],
      "text/plain": [
       "   churn  ...  avgAvgSessionMins_lastMonth\n",
       "0      1  ...                   275.483681\n",
       "1      0  ...                   239.073294\n",
       "\n",
       "[2 rows x 4 columns]"
      ]
     },
     "execution_count": 102,
     "metadata": {
      "tags": []
     },
     "output_type": "execute_result"
    }
   ],
   "source": [
    "all_data_pd_2.head()"
   ]
  },
  {
   "cell_type": "code",
   "execution_count": null,
   "metadata": {
    "colab": {
     "base_uri": "https://localhost:8080/",
     "height": 107
    },
    "id": "GIwP0NmZnhIO",
    "outputId": "0ec60dd9-71b1-454f-d4b6-1c2849cb1ff5"
   },
   "outputs": [
    {
     "data": {
      "text/html": [
       "<div>\n",
       "<style scoped>\n",
       "    .dataframe tbody tr th:only-of-type {\n",
       "        vertical-align: middle;\n",
       "    }\n",
       "\n",
       "    .dataframe tbody tr th {\n",
       "        vertical-align: top;\n",
       "    }\n",
       "\n",
       "    .dataframe thead th {\n",
       "        text-align: right;\n",
       "    }\n",
       "</style>\n",
       "<table border=\"1\" class=\"dataframe\">\n",
       "  <thead>\n",
       "    <tr style=\"text-align: right;\">\n",
       "      <th></th>\n",
       "      <th>churn</th>\n",
       "      <th>avgTotalListenTime_lastMonth</th>\n",
       "    </tr>\n",
       "  </thead>\n",
       "  <tbody>\n",
       "    <tr>\n",
       "      <th>0</th>\n",
       "      <td>1</td>\n",
       "      <td>227806.535357</td>\n",
       "    </tr>\n",
       "    <tr>\n",
       "      <th>1</th>\n",
       "      <td>0</td>\n",
       "      <td>109020.904334</td>\n",
       "    </tr>\n",
       "  </tbody>\n",
       "</table>\n",
       "</div>"
      ],
      "text/plain": [
       "   churn  avgTotalListenTime_lastMonth\n",
       "0      1                 227806.535357\n",
       "1      0                 109020.904334"
      ]
     },
     "execution_count": 103,
     "metadata": {
      "tags": []
     },
     "output_type": "execute_result"
    }
   ],
   "source": [
    "all_data_pd_3.head()"
   ]
  },
  {
   "cell_type": "code",
   "execution_count": null,
   "metadata": {
    "colab": {
     "base_uri": "https://localhost:8080/",
     "height": 645
    },
    "id": "cL2EJ0ElnhL4",
    "outputId": "4bf57e90-519d-423c-a1fb-2c35cd047c93"
   },
   "outputs": [
    {
     "data": {
      "text/html": [
       "<div>\n",
       "<style scoped>\n",
       "    .dataframe tbody tr th:only-of-type {\n",
       "        vertical-align: middle;\n",
       "    }\n",
       "\n",
       "    .dataframe tbody tr th {\n",
       "        vertical-align: top;\n",
       "    }\n",
       "\n",
       "    .dataframe thead th {\n",
       "        text-align: right;\n",
       "    }\n",
       "</style>\n",
       "<table border=\"1\" class=\"dataframe\">\n",
       "  <thead>\n",
       "    <tr style=\"text-align: right;\">\n",
       "      <th></th>\n",
       "      <th>0</th>\n",
       "      <th>1</th>\n",
       "    </tr>\n",
       "  </thead>\n",
       "  <tbody>\n",
       "    <tr>\n",
       "      <th>churn</th>\n",
       "      <td>1.000000</td>\n",
       "      <td>0.000000</td>\n",
       "    </tr>\n",
       "    <tr>\n",
       "      <th>avgNumRegister_lastMonth</th>\n",
       "      <td>0.000000</td>\n",
       "      <td>0.000000</td>\n",
       "    </tr>\n",
       "    <tr>\n",
       "      <th>avgNumCancelVisits_lastMonth</th>\n",
       "      <td>0.000000</td>\n",
       "      <td>0.000000</td>\n",
       "    </tr>\n",
       "    <tr>\n",
       "      <th>avgNumUpgradeVisits_lastMonth</th>\n",
       "      <td>2.116279</td>\n",
       "      <td>1.189189</td>\n",
       "    </tr>\n",
       "    <tr>\n",
       "      <th>avgNumDowngradeVisits_lastMonth</th>\n",
       "      <td>8.441860</td>\n",
       "      <td>3.682432</td>\n",
       "    </tr>\n",
       "    <tr>\n",
       "      <th>avgNumHomeVisits_lastMonth</th>\n",
       "      <td>40.395349</td>\n",
       "      <td>19.891892</td>\n",
       "    </tr>\n",
       "    <tr>\n",
       "      <th>avgNumAboutVisits_lastMonth</th>\n",
       "      <td>1.953488</td>\n",
       "      <td>0.979730</td>\n",
       "    </tr>\n",
       "    <tr>\n",
       "      <th>avgNumSettingsVisits_lastMonth</th>\n",
       "      <td>5.372093</td>\n",
       "      <td>2.797297</td>\n",
       "    </tr>\n",
       "    <tr>\n",
       "      <th>avgNumSaveSettings_lastMonth</th>\n",
       "      <td>1.162791</td>\n",
       "      <td>0.533784</td>\n",
       "    </tr>\n",
       "    <tr>\n",
       "      <th>avgNumLogins_lastMonth</th>\n",
       "      <td>0.000000</td>\n",
       "      <td>0.000000</td>\n",
       "    </tr>\n",
       "    <tr>\n",
       "      <th>avgNumLogouts_lastMonth</th>\n",
       "      <td>13.069767</td>\n",
       "      <td>6.351351</td>\n",
       "    </tr>\n",
       "    <tr>\n",
       "      <th>avgNumAddPlaylists_lastMonth</th>\n",
       "      <td>28.232558</td>\n",
       "      <td>12.500000</td>\n",
       "    </tr>\n",
       "    <tr>\n",
       "      <th>avgNumFriends_lastMonth</th>\n",
       "      <td>16.395349</td>\n",
       "      <td>7.777027</td>\n",
       "    </tr>\n",
       "    <tr>\n",
       "      <th>avgNumThumbsUp_lastMonth</th>\n",
       "      <td>50.465116</td>\n",
       "      <td>25.824324</td>\n",
       "    </tr>\n",
       "    <tr>\n",
       "      <th>avgNumThumbsDown_lastMonth</th>\n",
       "      <td>12.116279</td>\n",
       "      <td>4.858108</td>\n",
       "    </tr>\n",
       "    <tr>\n",
       "      <th>avgNumAdverts_lastMonth</th>\n",
       "      <td>18.465116</td>\n",
       "      <td>8.182432</td>\n",
       "    </tr>\n",
       "    <tr>\n",
       "      <th>avgAvgSongsPerSession_lastMonth</th>\n",
       "      <td>68.737491</td>\n",
       "      <td>58.997155</td>\n",
       "    </tr>\n",
       "    <tr>\n",
       "      <th>avgAvgSingersPerSession_lastMonth</th>\n",
       "      <td>64.400192</td>\n",
       "      <td>55.180936</td>\n",
       "    </tr>\n",
       "    <tr>\n",
       "      <th>avgNumSessions_lastMonth</th>\n",
       "      <td>13.488372</td>\n",
       "      <td>6.689189</td>\n",
       "    </tr>\n",
       "    <tr>\n",
       "      <th>avgDaysSinceReg</th>\n",
       "      <td>65.953488</td>\n",
       "      <td>63.932432</td>\n",
       "    </tr>\n",
       "  </tbody>\n",
       "</table>\n",
       "</div>"
      ],
      "text/plain": [
       "                                           0          1\n",
       "churn                               1.000000   0.000000\n",
       "avgNumRegister_lastMonth            0.000000   0.000000\n",
       "avgNumCancelVisits_lastMonth        0.000000   0.000000\n",
       "avgNumUpgradeVisits_lastMonth       2.116279   1.189189\n",
       "avgNumDowngradeVisits_lastMonth     8.441860   3.682432\n",
       "avgNumHomeVisits_lastMonth         40.395349  19.891892\n",
       "avgNumAboutVisits_lastMonth         1.953488   0.979730\n",
       "avgNumSettingsVisits_lastMonth      5.372093   2.797297\n",
       "avgNumSaveSettings_lastMonth        1.162791   0.533784\n",
       "avgNumLogins_lastMonth              0.000000   0.000000\n",
       "avgNumLogouts_lastMonth            13.069767   6.351351\n",
       "avgNumAddPlaylists_lastMonth       28.232558  12.500000\n",
       "avgNumFriends_lastMonth            16.395349   7.777027\n",
       "avgNumThumbsUp_lastMonth           50.465116  25.824324\n",
       "avgNumThumbsDown_lastMonth         12.116279   4.858108\n",
       "avgNumAdverts_lastMonth            18.465116   8.182432\n",
       "avgAvgSongsPerSession_lastMonth    68.737491  58.997155\n",
       "avgAvgSingersPerSession_lastMonth  64.400192  55.180936\n",
       "avgNumSessions_lastMonth           13.488372   6.689189\n",
       "avgDaysSinceReg                    65.953488  63.932432"
      ]
     },
     "execution_count": 104,
     "metadata": {
      "tags": []
     },
     "output_type": "execute_result"
    }
   ],
   "source": [
    "all_data_pd_1.T"
   ]
  },
  {
   "cell_type": "code",
   "execution_count": null,
   "metadata": {
    "colab": {
     "base_uri": "https://localhost:8080/",
     "height": 610
    },
    "id": "KH2ddbTznhP8",
    "outputId": "d3f40307-5e90-42ab-f73b-7c05aaab1737"
   },
   "outputs": [
    {
     "data": {
      "image/png": "[encoded data removed]",
      "text/plain": [
       "<Figure size 720x720 with 1 Axes>"
      ]
     },
     "metadata": {
      "needs_background": "light",
      "tags": []
     },
     "output_type": "display_data"
    }
   ],
   "source": [
    "fig, ax = plt.subplots(figsize=(10,10))\n",
    "all_data_pd_1.drop('churn', axis=1).T.plot.barh(ax=ax);\n",
    "ax.set_xlabel(\"Number of Customers\", fontsize=14)\n",
    "ax.legend([\"Churned\", \"Did Not Churn\"], fontsize=14);"
   ]
  },
  {
   "cell_type": "code",
   "execution_count": null,
   "metadata": {
    "colab": {
     "base_uri": "https://localhost:8080/",
     "height": 427
    },
    "id": "eREyEIGomYpU",
    "outputId": "d3ec6c9f-5c3e-4899-da6a-8e96de5f77c2"
   },
   "outputs": [
    {
     "data": {
      "image/png": "[encoded data removed]",
      "text/plain": [
       "<Figure size 504x504 with 1 Axes>"
      ]
     },
     "metadata": {
      "needs_background": "light",
      "tags": []
     },
     "output_type": "display_data"
    }
   ],
   "source": [
    "all_data_pd_2.drop('churn', axis=1).T.plot.barh(figsize=(7,7));"
   ]
  },
  {
   "cell_type": "code",
   "execution_count": null,
   "metadata": {
    "colab": {
     "base_uri": "https://localhost:8080/",
     "height": 374
    },
    "id": "ebwjpILrKM9W",
    "outputId": "86954164-5431-4977-f87e-f92913df03c7"
   },
   "outputs": [
    {
     "data": {
      "image/png": "[encoded data removed]",
      "text/plain": [
       "<Figure size 432x432 with 1 Axes>"
      ]
     },
     "metadata": {
      "needs_background": "light",
      "tags": []
     },
     "output_type": "display_data"
    }
   ],
   "source": [
    "all_data_pd_3.drop('churn', axis=1).T.plot.barh(figsize=(6,6));"
   ]
  },
  {
   "cell_type": "code",
   "execution_count": null,
   "metadata": {
    "id": "qML1dkmbKNAz"
   },
   "outputs": [],
   "source": [
    "# 'level_lastMonth', 'gender',\n",
    "\n",
    "all_data_pd_4 = all_data \\\n",
    ".filter(all_data.month_num>=1) \\\n",
    ".select('level_lastMonth', 'churn') \\\n",
    ".groupBy('churn') \\\n",
    ".agg(count(all_data.level_lastMonth).alias('level_lastMonth')).toPandas()"
   ]
  },
  {
   "cell_type": "code",
   "execution_count": null,
   "metadata": {
    "colab": {
     "base_uri": "https://localhost:8080/"
    },
    "id": "erP7_SkBKNE8",
    "outputId": "3ba57472-ecc7-471c-d8fc-42f6326583b3"
   },
   "outputs": [
    {
     "name": "stdout",
     "output_type": "stream",
     "text": [
      "+-----+---------------+-----+\n",
      "|churn|level_lastMonth|count|\n",
      "+-----+---------------+-----+\n",
      "|    1|              0|    6|\n",
      "|    0|              1|   84|\n",
      "|    0|              0|   51|\n",
      "|    1|              1|   37|\n",
      "|    0|           null|   13|\n",
      "+-----+---------------+-----+\n",
      "\n"
     ]
    }
   ],
   "source": [
    "all_data \\\n",
    ".filter(all_data.month_num>=1) \\\n",
    ".select('level_lastMonth', 'churn') \\\n",
    ".groupBy('churn', 'level_lastMonth').count().show()"
   ]
  },
  {
   "cell_type": "code",
   "execution_count": null,
   "metadata": {
    "id": "ASLZiebfKNQS"
   },
   "outputs": [],
   "source": [
    "all_data_pd_4 = all_data \\\n",
    ".filter(all_data.month_num>=1) \\\n",
    ".select('level_lastMonth', 'churn') \\\n",
    ".groupBy('churn', 'level_lastMonth').count().toPandas()"
   ]
  },
  {
   "cell_type": "code",
   "execution_count": null,
   "metadata": {
    "colab": {
     "base_uri": "https://localhost:8080/",
     "height": 197
    },
    "id": "vYO1bVjZKNV_",
    "outputId": "cc768bdf-de73-48d8-8460-abcf8759fded"
   },
   "outputs": [
    {
     "data": {
      "text/html": [
       "<div>\n",
       "<style scoped>\n",
       "    .dataframe tbody tr th:only-of-type {\n",
       "        vertical-align: middle;\n",
       "    }\n",
       "\n",
       "    .dataframe tbody tr th {\n",
       "        vertical-align: top;\n",
       "    }\n",
       "\n",
       "    .dataframe thead th {\n",
       "        text-align: right;\n",
       "    }\n",
       "</style>\n",
       "<table border=\"1\" class=\"dataframe\">\n",
       "  <thead>\n",
       "    <tr style=\"text-align: right;\">\n",
       "      <th></th>\n",
       "      <th>churn</th>\n",
       "      <th>level_lastMonth</th>\n",
       "      <th>count</th>\n",
       "    </tr>\n",
       "  </thead>\n",
       "  <tbody>\n",
       "    <tr>\n",
       "      <th>0</th>\n",
       "      <td>1</td>\n",
       "      <td>0</td>\n",
       "      <td>6</td>\n",
       "    </tr>\n",
       "    <tr>\n",
       "      <th>1</th>\n",
       "      <td>0</td>\n",
       "      <td>1</td>\n",
       "      <td>84</td>\n",
       "    </tr>\n",
       "    <tr>\n",
       "      <th>2</th>\n",
       "      <td>0</td>\n",
       "      <td>0</td>\n",
       "      <td>51</td>\n",
       "    </tr>\n",
       "    <tr>\n",
       "      <th>3</th>\n",
       "      <td>1</td>\n",
       "      <td>1</td>\n",
       "      <td>37</td>\n",
       "    </tr>\n",
       "    <tr>\n",
       "      <th>4</th>\n",
       "      <td>0</td>\n",
       "      <td>None</td>\n",
       "      <td>13</td>\n",
       "    </tr>\n",
       "  </tbody>\n",
       "</table>\n",
       "</div>"
      ],
      "text/plain": [
       "   churn level_lastMonth  count\n",
       "0      1               0      6\n",
       "1      0               1     84\n",
       "2      0               0     51\n",
       "3      1               1     37\n",
       "4      0            None     13"
      ]
     },
     "execution_count": 111,
     "metadata": {
      "tags": []
     },
     "output_type": "execute_result"
    }
   ],
   "source": [
    "all_data_pd_4.head()"
   ]
  },
  {
   "cell_type": "code",
   "execution_count": null,
   "metadata": {
    "colab": {
     "base_uri": "https://localhost:8080/",
     "height": 197
    },
    "id": "Q44dlMAwKNZo",
    "outputId": "beb8f824-aeed-46dd-bf73-ff453145b55c"
   },
   "outputs": [
    {
     "data": {
      "text/html": [
       "<div>\n",
       "<style scoped>\n",
       "    .dataframe tbody tr th:only-of-type {\n",
       "        vertical-align: middle;\n",
       "    }\n",
       "\n",
       "    .dataframe tbody tr th {\n",
       "        vertical-align: top;\n",
       "    }\n",
       "\n",
       "    .dataframe thead th {\n",
       "        text-align: right;\n",
       "    }\n",
       "</style>\n",
       "<table border=\"1\" class=\"dataframe\">\n",
       "  <thead>\n",
       "    <tr style=\"text-align: right;\">\n",
       "      <th></th>\n",
       "      <th></th>\n",
       "      <th>count</th>\n",
       "    </tr>\n",
       "    <tr>\n",
       "      <th>churn</th>\n",
       "      <th>level_lastMonth</th>\n",
       "      <th></th>\n",
       "    </tr>\n",
       "  </thead>\n",
       "  <tbody>\n",
       "    <tr>\n",
       "      <th rowspan=\"2\" valign=\"top\">0</th>\n",
       "      <th>0</th>\n",
       "      <td>51</td>\n",
       "    </tr>\n",
       "    <tr>\n",
       "      <th>1</th>\n",
       "      <td>84</td>\n",
       "    </tr>\n",
       "    <tr>\n",
       "      <th rowspan=\"2\" valign=\"top\">1</th>\n",
       "      <th>0</th>\n",
       "      <td>6</td>\n",
       "    </tr>\n",
       "    <tr>\n",
       "      <th>1</th>\n",
       "      <td>37</td>\n",
       "    </tr>\n",
       "  </tbody>\n",
       "</table>\n",
       "</div>"
      ],
      "text/plain": [
       "                       count\n",
       "churn level_lastMonth       \n",
       "0     0                   51\n",
       "      1                   84\n",
       "1     0                    6\n",
       "      1                   37"
      ]
     },
     "execution_count": 112,
     "metadata": {
      "tags": []
     },
     "output_type": "execute_result"
    }
   ],
   "source": [
    "all_data_pd_4.groupby(['churn', 'level_lastMonth']).agg({'count':'sum'})"
   ]
  },
  {
   "cell_type": "code",
   "execution_count": null,
   "metadata": {
    "colab": {
     "base_uri": "https://localhost:8080/",
     "height": 517
    },
    "id": "cYQ46LbnKNT1",
    "outputId": "d6d93680-e48a-4d95-ee85-e421a54023db"
   },
   "outputs": [
    {
     "data": {
      "image/png": "[encoded data removed]",
      "text/plain": [
       "<Figure size 504x504 with 1 Axes>"
      ]
     },
     "metadata": {
      "needs_background": "light",
      "tags": []
     },
     "output_type": "display_data"
    }
   ],
   "source": [
    "\n",
    "fig, ax = plt.subplots(figsize=(7,7));\n",
    "all_data_pd_4.groupby(['churn', 'level_lastMonth']).agg({'count':'sum'}).unstack().plot.bar(ax=ax);\n",
    "ax.legend([\"Free Last Month\", \"Premium Last Month\"], fontsize=14);\n",
    "ax.set_xticklabels([\"Did Not Churn\",\"Churned\"], fontsize=12);\n",
    "ax.set_ylabel(\"Number of Customers\", fontsize=14);"
   ]
  },
  {
   "cell_type": "code",
   "execution_count": null,
   "metadata": {
    "colab": {
     "base_uri": "https://localhost:8080/",
     "height": 517
    },
    "id": "ZhnM97ruKNM3",
    "outputId": "13d48304-6a50-4b63-9885-ef2174410bf9"
   },
   "outputs": [
    {
     "data": {
      "image/png": "[encoded data removed]",
      "text/plain": [
       "<Figure size 504x504 with 1 Axes>"
      ]
     },
     "metadata": {
      "needs_background": "light",
      "tags": []
     },
     "output_type": "display_data"
    }
   ],
   "source": [
    "all_data_pd_5 = all_data \\\n",
    ".filter(all_data.month_num>=1) \\\n",
    ".select('gender', 'churn') \\\n",
    ".groupBy('churn', 'gender').count().toPandas()\n",
    "\n",
    "all_data_pd_5.groupby(['churn', 'gender']).agg({'count':'sum'})\n",
    "\n",
    "fig, ax = plt.subplots(figsize=(7,7));\n",
    "all_data_pd_5.groupby(['churn', 'gender']).agg({'count':'sum'}).unstack().plot.bar(ax=ax);\n",
    "ax.legend([\"Male\", \"Female\"], fontsize=14);\n",
    "ax.set_xticklabels([\"Did Not Churn\",\"Churned\"], fontsize=12);\n",
    "ax.set_ylabel(\"Number of Customers\", fontsize=14);"
   ]
  },
  {
   "cell_type": "code",
   "execution_count": null,
   "metadata": {
    "id": "Vw79jC0fKNLR"
   },
   "outputs": [],
   "source": [
    "# visualize 1 month lag values\n",
    "all_data_pd = all_data \\\n",
    ".filter(all_data.month_num>=1) \\\n",
    ".select('numRegister_lastMonth','numCancelVisits_lastMonth',\\\n",
    "        'numUpgradeVisits_lastMonth', 'numDowngradeVisits_lastMonth',\\\n",
    "        'numHomeVisits_lastMonth', 'numAboutVisits_lastMonth',\\\n",
    "        'numSettingsVisits_lastMonth', 'numSaveSettings_lastMonth',\\\n",
    "        'numLogins_lastMonth', 'numLogouts_lastMonth',\\\n",
    "        'numAddPlaylists_lastMonth', 'numFriends_lastMonth',\\\n",
    "        'numThumbsUp_lastMonth', 'numThumbsDown_lastMonth',\\\n",
    "        'numAdverts_lastMonth', 'numSongsPlayed_lastMonth',\\\n",
    "        'totalListenTime_lastMonth', 'avgSongsPerSession_lastMonth',\\\n",
    "        'numSingersPlayed_lastMonth', 'avgSingersPerSession_lastMonth',\\\n",
    "        'avgSessionMins_lastMonth', 'numSessions_lastMonth',\\\n",
    "        'level_lastMonth', 'gender', 'daysSinceReg', 'churn'\n",
    "        ).toPandas()"
   ]
  },
  {
   "cell_type": "code",
   "execution_count": null,
   "metadata": {
    "colab": {
     "base_uri": "https://localhost:8080/",
     "height": 217
    },
    "id": "TW8d-ZXqKNJT",
    "outputId": "d8f3de80-5783-4536-8faf-519b06baa4bf"
   },
   "outputs": [
    {
     "data": {
      "text/html": [
       "<div>\n",
       "<style scoped>\n",
       "    .dataframe tbody tr th:only-of-type {\n",
       "        vertical-align: middle;\n",
       "    }\n",
       "\n",
       "    .dataframe tbody tr th {\n",
       "        vertical-align: top;\n",
       "    }\n",
       "\n",
       "    .dataframe thead th {\n",
       "        text-align: right;\n",
       "    }\n",
       "</style>\n",
       "<table border=\"1\" class=\"dataframe\">\n",
       "  <thead>\n",
       "    <tr style=\"text-align: right;\">\n",
       "      <th></th>\n",
       "      <th>numRegister_lastMonth</th>\n",
       "      <th>numCancelVisits_lastMonth</th>\n",
       "      <th>numUpgradeVisits_lastMonth</th>\n",
       "      <th>numDowngradeVisits_lastMonth</th>\n",
       "      <th>numHomeVisits_lastMonth</th>\n",
       "      <th>numAboutVisits_lastMonth</th>\n",
       "      <th>numSettingsVisits_lastMonth</th>\n",
       "      <th>numSaveSettings_lastMonth</th>\n",
       "      <th>numLogins_lastMonth</th>\n",
       "      <th>numLogouts_lastMonth</th>\n",
       "      <th>numAddPlaylists_lastMonth</th>\n",
       "      <th>numFriends_lastMonth</th>\n",
       "      <th>numThumbsUp_lastMonth</th>\n",
       "      <th>numThumbsDown_lastMonth</th>\n",
       "      <th>numAdverts_lastMonth</th>\n",
       "      <th>numSongsPlayed_lastMonth</th>\n",
       "      <th>totalListenTime_lastMonth</th>\n",
       "      <th>avgSongsPerSession_lastMonth</th>\n",
       "      <th>numSingersPlayed_lastMonth</th>\n",
       "      <th>avgSingersPerSession_lastMonth</th>\n",
       "      <th>avgSessionMins_lastMonth</th>\n",
       "      <th>numSessions_lastMonth</th>\n",
       "      <th>level_lastMonth</th>\n",
       "      <th>gender</th>\n",
       "      <th>daysSinceReg</th>\n",
       "      <th>churn</th>\n",
       "    </tr>\n",
       "  </thead>\n",
       "  <tbody>\n",
       "    <tr>\n",
       "      <th>0</th>\n",
       "      <td>0</td>\n",
       "      <td>0</td>\n",
       "      <td>1</td>\n",
       "      <td>0</td>\n",
       "      <td>6</td>\n",
       "      <td>0</td>\n",
       "      <td>0</td>\n",
       "      <td>0</td>\n",
       "      <td>0</td>\n",
       "      <td>2</td>\n",
       "      <td>2</td>\n",
       "      <td>3</td>\n",
       "      <td>6</td>\n",
       "      <td>1</td>\n",
       "      <td>22</td>\n",
       "      <td>120</td>\n",
       "      <td>28266.62965</td>\n",
       "      <td>30.000000</td>\n",
       "      <td>116</td>\n",
       "      <td>29.500000</td>\n",
       "      <td>112.033333</td>\n",
       "      <td>4</td>\n",
       "      <td>0</td>\n",
       "      <td>1</td>\n",
       "      <td>35</td>\n",
       "      <td>0</td>\n",
       "    </tr>\n",
       "    <tr>\n",
       "      <th>1</th>\n",
       "      <td>0</td>\n",
       "      <td>0</td>\n",
       "      <td>2</td>\n",
       "      <td>3</td>\n",
       "      <td>14</td>\n",
       "      <td>2</td>\n",
       "      <td>3</td>\n",
       "      <td>0</td>\n",
       "      <td>0</td>\n",
       "      <td>3</td>\n",
       "      <td>6</td>\n",
       "      <td>4</td>\n",
       "      <td>15</td>\n",
       "      <td>6</td>\n",
       "      <td>7</td>\n",
       "      <td>267</td>\n",
       "      <td>64662.97119</td>\n",
       "      <td>53.400000</td>\n",
       "      <td>243</td>\n",
       "      <td>52.400000</td>\n",
       "      <td>220.190000</td>\n",
       "      <td>5</td>\n",
       "      <td>1</td>\n",
       "      <td>0</td>\n",
       "      <td>56</td>\n",
       "      <td>0</td>\n",
       "    </tr>\n",
       "    <tr>\n",
       "      <th>2</th>\n",
       "      <td>0</td>\n",
       "      <td>0</td>\n",
       "      <td>0</td>\n",
       "      <td>22</td>\n",
       "      <td>99</td>\n",
       "      <td>2</td>\n",
       "      <td>8</td>\n",
       "      <td>3</td>\n",
       "      <td>0</td>\n",
       "      <td>36</td>\n",
       "      <td>68</td>\n",
       "      <td>37</td>\n",
       "      <td>76</td>\n",
       "      <td>16</td>\n",
       "      <td>4</td>\n",
       "      <td>1939</td>\n",
       "      <td>481095.66548</td>\n",
       "      <td>161.583333</td>\n",
       "      <td>1286</td>\n",
       "      <td>145.916667</td>\n",
       "      <td>665.200000</td>\n",
       "      <td>12</td>\n",
       "      <td>1</td>\n",
       "      <td>1</td>\n",
       "      <td>102</td>\n",
       "      <td>0</td>\n",
       "    </tr>\n",
       "    <tr>\n",
       "      <th>3</th>\n",
       "      <td>0</td>\n",
       "      <td>0</td>\n",
       "      <td>2</td>\n",
       "      <td>0</td>\n",
       "      <td>6</td>\n",
       "      <td>0</td>\n",
       "      <td>2</td>\n",
       "      <td>0</td>\n",
       "      <td>0</td>\n",
       "      <td>1</td>\n",
       "      <td>3</td>\n",
       "      <td>1</td>\n",
       "      <td>4</td>\n",
       "      <td>1</td>\n",
       "      <td>13</td>\n",
       "      <td>109</td>\n",
       "      <td>27828.06488</td>\n",
       "      <td>27.250000</td>\n",
       "      <td>102</td>\n",
       "      <td>26.500000</td>\n",
       "      <td>113.125000</td>\n",
       "      <td>4</td>\n",
       "      <td>0</td>\n",
       "      <td>0</td>\n",
       "      <td>51</td>\n",
       "      <td>0</td>\n",
       "    </tr>\n",
       "    <tr>\n",
       "      <th>4</th>\n",
       "      <td>0</td>\n",
       "      <td>0</td>\n",
       "      <td>0</td>\n",
       "      <td>13</td>\n",
       "      <td>54</td>\n",
       "      <td>1</td>\n",
       "      <td>10</td>\n",
       "      <td>1</td>\n",
       "      <td>0</td>\n",
       "      <td>18</td>\n",
       "      <td>27</td>\n",
       "      <td>16</td>\n",
       "      <td>47</td>\n",
       "      <td>7</td>\n",
       "      <td>0</td>\n",
       "      <td>1034</td>\n",
       "      <td>258535.75985</td>\n",
       "      <td>147.714286</td>\n",
       "      <td>791</td>\n",
       "      <td>137.714286</td>\n",
       "      <td>538.289583</td>\n",
       "      <td>8</td>\n",
       "      <td>1</td>\n",
       "      <td>0</td>\n",
       "      <td>33</td>\n",
       "      <td>0</td>\n",
       "    </tr>\n",
       "  </tbody>\n",
       "</table>\n",
       "</div>"
      ],
      "text/plain": [
       "   numRegister_lastMonth  numCancelVisits_lastMonth  ...  daysSinceReg  churn\n",
       "0                      0                          0  ...            35      0\n",
       "1                      0                          0  ...            56      0\n",
       "2                      0                          0  ...           102      0\n",
       "3                      0                          0  ...            51      0\n",
       "4                      0                          0  ...            33      0\n",
       "\n",
       "[5 rows x 26 columns]"
      ]
     },
     "execution_count": 116,
     "metadata": {
      "tags": []
     },
     "output_type": "execute_result"
    }
   ],
   "source": [
    "all_data_pd.head()"
   ]
  },
  {
   "cell_type": "code",
   "execution_count": null,
   "metadata": {
    "colab": {
     "base_uri": "https://localhost:8080/",
     "height": 68
    },
    "id": "NEVxC6okK_CG",
    "outputId": "9eea5481-cf9a-4be2-fce6-fdaeb4189807"
   },
   "outputs": [
    {
     "data": {
      "text/html": [
       "<div>\n",
       "<style scoped>\n",
       "    .dataframe tbody tr th:only-of-type {\n",
       "        vertical-align: middle;\n",
       "    }\n",
       "\n",
       "    .dataframe tbody tr th {\n",
       "        vertical-align: top;\n",
       "    }\n",
       "\n",
       "    .dataframe thead th {\n",
       "        text-align: right;\n",
       "    }\n",
       "</style>\n",
       "<table border=\"1\" class=\"dataframe\">\n",
       "  <thead>\n",
       "    <tr style=\"text-align: right;\">\n",
       "      <th></th>\n",
       "      <th>numRegister_lastMonth</th>\n",
       "      <th>numCancelVisits_lastMonth</th>\n",
       "      <th>numUpgradeVisits_lastMonth</th>\n",
       "      <th>numDowngradeVisits_lastMonth</th>\n",
       "      <th>numHomeVisits_lastMonth</th>\n",
       "      <th>numAboutVisits_lastMonth</th>\n",
       "      <th>numSettingsVisits_lastMonth</th>\n",
       "      <th>numSaveSettings_lastMonth</th>\n",
       "      <th>numLogins_lastMonth</th>\n",
       "      <th>numLogouts_lastMonth</th>\n",
       "      <th>numAddPlaylists_lastMonth</th>\n",
       "      <th>numFriends_lastMonth</th>\n",
       "      <th>numThumbsUp_lastMonth</th>\n",
       "      <th>numThumbsDown_lastMonth</th>\n",
       "      <th>numAdverts_lastMonth</th>\n",
       "      <th>numSongsPlayed_lastMonth</th>\n",
       "      <th>totalListenTime_lastMonth</th>\n",
       "      <th>avgSongsPerSession_lastMonth</th>\n",
       "      <th>numSingersPlayed_lastMonth</th>\n",
       "      <th>avgSingersPerSession_lastMonth</th>\n",
       "      <th>avgSessionMins_lastMonth</th>\n",
       "      <th>numSessions_lastMonth</th>\n",
       "      <th>level_lastMonth</th>\n",
       "      <th>gender</th>\n",
       "      <th>daysSinceReg</th>\n",
       "      <th>churn</th>\n",
       "    </tr>\n",
       "  </thead>\n",
       "  <tbody>\n",
       "  </tbody>\n",
       "</table>\n",
       "</div>"
      ],
      "text/plain": [
       "Empty DataFrame\n",
       "Columns: [numRegister_lastMonth, numCancelVisits_lastMonth, numUpgradeVisits_lastMonth, numDowngradeVisits_lastMonth, numHomeVisits_lastMonth, numAboutVisits_lastMonth, numSettingsVisits_lastMonth, numSaveSettings_lastMonth, numLogins_lastMonth, numLogouts_lastMonth, numAddPlaylists_lastMonth, numFriends_lastMonth, numThumbsUp_lastMonth, numThumbsDown_lastMonth, numAdverts_lastMonth, numSongsPlayed_lastMonth, totalListenTime_lastMonth, avgSongsPerSession_lastMonth, numSingersPlayed_lastMonth, avgSingersPerSession_lastMonth, avgSessionMins_lastMonth, numSessions_lastMonth, level_lastMonth, gender, daysSinceReg, churn]\n",
       "Index: []"
      ]
     },
     "execution_count": 117,
     "metadata": {
      "tags": []
     },
     "output_type": "execute_result"
    }
   ],
   "source": [
    "all_data_pd[all_data_pd['numCancelVisits_lastMonth']>0].head()"
   ]
  },
  {
   "cell_type": "code",
   "execution_count": null,
   "metadata": {
    "colab": {
     "base_uri": "https://localhost:8080/",
     "height": 592
    },
    "id": "MewSiRzvK_Fy",
    "outputId": "0f2b2df7-9a73-429d-e47c-7e40596a3205"
   },
   "outputs": [
    {
     "data": {
      "image/png": "[encoded data removed]",
      "text/plain": [
       "<Figure size 720x720 with 1 Axes>"
      ]
     },
     "metadata": {
      "needs_background": "light",
      "tags": []
     },
     "output_type": "display_data"
    }
   ],
   "source": [
    "\n",
    "all_data_pd.groupby('churn').agg({'numRegister_lastMonth':'mean',\\\n",
    "                                  'numCancelVisits_lastMonth':'mean',\\\n",
    "                                  'numUpgradeVisits_lastMonth':'mean',\\\n",
    "                                  'numDowngradeVisits_lastMonth':'mean',\\\n",
    "                                  'numHomeVisits_lastMonth':'mean',\\\n",
    "                                  'numAboutVisits_lastMonth':'mean',\\\n",
    "                                  'numSettingsVisits_lastMonth':'mean',\\\n",
    "                                  'numSaveSettings_lastMonth':'mean',\\\n",
    "                                  'numLogins_lastMonth':'mean',\\\n",
    "                                  'numLogouts_lastMonth':'mean',\\\n",
    "                                  'numAddPlaylists_lastMonth':'mean',\\\n",
    "                                  'numFriends_lastMonth':'mean',\\\n",
    "                                  'numThumbsUp_lastMonth':'mean',\\\n",
    "                                  'numThumbsDown_lastMonth':'mean',\\\n",
    "                                  'numAdverts_lastMonth':'mean',\\\n",
    "                                  'daysSinceReg':'mean'\n",
    "                                  #'numSongsPlayed_lastMonth':'mean'\n",
    "                                  #'totalListenTime_lastMonth':'mean'\n",
    "                                 }).T.plot.barh(figsize=(10,10));"
   ]
  },
  {
   "cell_type": "code",
   "execution_count": null,
   "metadata": {
    "colab": {
     "base_uri": "https://localhost:8080/",
     "height": 320
    },
    "id": "qmZEA5x4K_L_",
    "outputId": "d5bf77ce-caaf-4344-9b2a-db6c2160d517"
   },
   "outputs": [
    {
     "data": {
      "image/png": "[encoded data removed]",
      "text/plain": [
       "<Figure size 360x360 with 1 Axes>"
      ]
     },
     "metadata": {
      "needs_background": "light",
      "tags": []
     },
     "output_type": "display_data"
    }
   ],
   "source": [
    "all_data_pd.groupby('churn').agg({'numSongsPlayed_lastMonth':'mean'}).T.plot.barh(figsize=(5,5));"
   ]
  },
  {
   "cell_type": "code",
   "execution_count": null,
   "metadata": {
    "colab": {
     "base_uri": "https://localhost:8080/",
     "height": 320
    },
    "id": "i4ityLtxK_Uk",
    "outputId": "8b074b54-0112-4d3d-c0c5-c94b4ffc3788"
   },
   "outputs": [
    {
     "data": {
      "image/png": "[encoded data removed]",
      "text/plain": [
       "<Figure size 360x360 with 1 Axes>"
      ]
     },
     "metadata": {
      "needs_background": "light",
      "tags": []
     },
     "output_type": "display_data"
    }
   ],
   "source": [
    "all_data_pd.groupby('churn').agg({'totalListenTime_lastMonth':'mean'}).T.plot.barh(figsize=(5,5));"
   ]
  },
  {
   "cell_type": "code",
   "execution_count": null,
   "metadata": {
    "colab": {
     "base_uri": "https://localhost:8080/",
     "height": 320
    },
    "id": "OOok6rM8K_Y6",
    "outputId": "860cb4e6-0cca-4487-d29e-9c0f20f0a3e8"
   },
   "outputs": [
    {
     "data": {
      "image/png": "[encoded data removed]",
      "text/plain": [
       "<Figure size 360x360 with 1 Axes>"
      ]
     },
     "metadata": {
      "needs_background": "light",
      "tags": []
     },
     "output_type": "display_data"
    }
   ],
   "source": [
    "all_data_pd.groupby('churn').agg({'avgSongsPerSession_lastMonth':'mean'}).T.plot.barh(figsize=(5,5));"
   ]
  },
  {
   "cell_type": "code",
   "execution_count": null,
   "metadata": {
    "colab": {
     "base_uri": "https://localhost:8080/",
     "height": 320
    },
    "id": "GTVKkgfQK_dR",
    "outputId": "4c5fbbf0-d735-422f-bfec-86f4523bdeb1"
   },
   "outputs": [
    {
     "data": {
      "image/png": "[encoded data removed]",
      "text/plain": [
       "<Figure size 360x360 with 1 Axes>"
      ]
     },
     "metadata": {
      "needs_background": "light",
      "tags": []
     },
     "output_type": "display_data"
    }
   ],
   "source": [
    "all_data_pd.groupby('churn').agg({'numSingersPlayed_lastMonth':'mean'}).T.plot.barh(figsize=(5,5));"
   ]
  },
  {
   "cell_type": "code",
   "execution_count": null,
   "metadata": {
    "colab": {
     "base_uri": "https://localhost:8080/",
     "height": 320
    },
    "id": "rwZyt4oEK_hs",
    "outputId": "d2a992dd-d2d3-4421-a4a1-f2b0fb78c60a"
   },
   "outputs": [
    {
     "data": {
      "image/png": "[encoded data removed]",
      "text/plain": [
       "<Figure size 360x360 with 1 Axes>"
      ]
     },
     "metadata": {
      "needs_background": "light",
      "tags": []
     },
     "output_type": "display_data"
    }
   ],
   "source": [
    "all_data_pd.groupby('churn').agg({'avgSingersPerSession_lastMonth':'mean'}).T.plot.barh(figsize=(5,5));"
   ]
  },
  {
   "cell_type": "code",
   "execution_count": null,
   "metadata": {
    "colab": {
     "base_uri": "https://localhost:8080/",
     "height": 320
    },
    "id": "qnr6TN4fK_P7",
    "outputId": "81389081-18a3-43c6-d1a3-e1e07a2f5b67"
   },
   "outputs": [
    {
     "data": {
      "image/png": "[encoded data removed]",
      "text/plain": [
       "<Figure size 360x360 with 1 Axes>"
      ]
     },
     "metadata": {
      "needs_background": "light",
      "tags": []
     },
     "output_type": "display_data"
    }
   ],
   "source": [
    "all_data_pd.groupby('churn').agg({'avgSessionMins_lastMonth':'mean'}).T.plot.barh(figsize=(5,5));"
   ]
  },
  {
   "cell_type": "code",
   "execution_count": null,
   "metadata": {
    "colab": {
     "base_uri": "https://localhost:8080/",
     "height": 320
    },
    "id": "2Bktd9dUNuYN",
    "outputId": "10e128bc-3ebc-46fc-ef45-acd4fad731b6"
   },
   "outputs": [
    {
     "data": {
      "image/png": "[encoded data removed]",
      "text/plain": [
       "<Figure size 360x360 with 1 Axes>"
      ]
     },
     "metadata": {
      "needs_background": "light",
      "tags": []
     },
     "output_type": "display_data"
    }
   ],
   "source": [
    "all_data_pd.groupby('churn').agg({'numSessions_lastMonth':'mean'}).T.plot.barh(figsize=(5,5));"
   ]
  },
  {
   "cell_type": "code",
   "execution_count": null,
   "metadata": {
    "colab": {
     "base_uri": "https://localhost:8080/",
     "height": 329
    },
    "id": "MSEklI_iNugM",
    "outputId": "c91cf353-1b31-437b-d5ea-bb6269c35a71"
   },
   "outputs": [
    {
     "data": {
      "image/png": "[encoded data removed]",
      "text/plain": [
       "<Figure size 360x360 with 1 Axes>"
      ]
     },
     "metadata": {
      "needs_background": "light",
      "tags": []
     },
     "output_type": "display_data"
    }
   ],
   "source": [
    "fig, ax = plt.subplots(figsize=(5,5))\n",
    "all_data_pd.groupby(['churn', 'level_lastMonth']).agg({'level_lastMonth':'count'}).unstack().plot.bar(ax=ax);\n",
    "ax.legend([\"Free Last Month\", \"Premium Last Month\"]);"
   ]
  },
  {
   "cell_type": "code",
   "execution_count": null,
   "metadata": {
    "colab": {
     "base_uri": "https://localhost:8080/",
     "height": 329
    },
    "id": "fwqS-cwdNusI",
    "outputId": "d1e3754c-dfaa-411a-e812-1b00fd178667"
   },
   "outputs": [
    {
     "data": {
      "image/png": "[encoded data removed]",
      "text/plain": [
       "<Figure size 360x360 with 1 Axes>"
      ]
     },
     "metadata": {
      "needs_background": "light",
      "tags": []
     },
     "output_type": "display_data"
    }
   ],
   "source": [
    "fig, ax = plt.subplots(figsize=(5,5))\n",
    "all_data_pd.groupby(['churn', 'gender']).agg({'gender':'count'}).unstack().plot.bar(ax=ax);\n",
    "ax.legend([\"Male\", \"Female\"]);"
   ]
  },
  {
   "cell_type": "code",
   "execution_count": null,
   "metadata": {
    "colab": {
     "base_uri": "https://localhost:8080/"
    },
    "id": "eJ1kgp19Nuxw",
    "outputId": "dcfee4b4-51a1-43d4-e267-06c2c4f9ccca"
   },
   "outputs": [
    {
     "data": {
      "text/plain": [
       "0    148\n",
       "1     43\n",
       "Name: churn, dtype: int64"
      ]
     },
     "execution_count": 129,
     "metadata": {
      "tags": []
     },
     "output_type": "execute_result"
    }
   ],
   "source": [
    "all_data_pd.churn.value_counts()"
   ]
  },
  {
   "cell_type": "markdown",
   "metadata": {
    "id": "KBigGbkabUSu"
   },
   "source": [
    "# Feature Engineering"
   ]
  },
  {
   "cell_type": "code",
   "execution_count": null,
   "metadata": {
    "id": "Quok6DiJNupC"
   },
   "outputs": [],
   "source": [
    "# Engineer diffs between last months stats and moving averages.\n",
    "# for the small dataset, the differences will be 0 since there were only 2 months\n",
    "all_data = all_data.withColumn('diff_numRegister', (all_data['numRegister_lastMonth'] - all_data['numRegister_movAvg']))\n",
    "all_data = all_data.withColumn('diff_numCancelVisits', (all_data['numCancelVisits_lastMonth'] - all_data['numCancelVisits_movAvg']))\n",
    "all_data = all_data.withColumn('diff_numUpgradeVisits', (all_data['numUpgradeVisits_lastMonth'] - all_data['numUpgradeVisits_movAvg']))\n",
    "all_data = all_data.withColumn('diff_numDowngradeVisits', (all_data['numDowngradeVisits_lastMonth'] - all_data['numDowngradeVisits_movAvg']))\n",
    "all_data = all_data.withColumn('diff_numHomeVisits', (all_data['numHomeVisits_lastMonth'] - all_data['numHomeVisits_movAvg']))\n",
    "all_data = all_data.withColumn('diff_numAboutVisits', (all_data['numAboutVisits_lastMonth'] - all_data['numAboutVisits_movAvg']))\n",
    "all_data = all_data.withColumn('diff_numSettingsVisits', (all_data['numSettingsVisits_lastMonth'] - all_data['numSettingsVisits_movAvg']))\n",
    "all_data = all_data.withColumn('diff_numSaveSettings', (all_data['numSaveSettings_lastMonth'] - all_data['numSaveSettings_movAvg']))\n",
    "all_data = all_data.withColumn('diff_numLogins', (all_data['numLogins_lastMonth'] - all_data['numLogins_movAvg']))\n",
    "all_data = all_data.withColumn('diff_numLogouts', (all_data['numLogouts_lastMonth'] - all_data['numLogouts_movAvg']))\n",
    "all_data = all_data.withColumn('diff_numAddPlaylists', (all_data['numAddPlaylists_lastMonth'] - all_data['numAddPlaylists_movAvg']))\n",
    "all_data = all_data.withColumn('diff_numFriends', (all_data['numFriends_lastMonth'] - all_data['numFriends_movAvg']))\n",
    "all_data = all_data.withColumn('diff_numThumbsUp', (all_data['numThumbsUp_lastMonth'] - all_data['numThumbsUp_movAvg']))\n",
    "all_data = all_data.withColumn('diff_numThumbsDown', (all_data['numThumbsDown_lastMonth'] - all_data['numThumbsDown_movAvg']))\n",
    "all_data = all_data.withColumn('diff_numAdverts', (all_data['numAdverts_lastMonth'] - all_data['numAdverts_movAvg']))\n",
    "all_data = all_data.withColumn('diff_numSongsPlayed', (all_data['numSongsPlayed_lastMonth'] - all_data['numSongsPlayed_movAvg']))\n",
    "all_data = all_data.withColumn('diff_totalListenTime', (all_data['totalListenTime_lastMonth'] - all_data['totalListenTime_movAvg']))\n",
    "all_data = all_data.withColumn('diff_avgSongsPerSession', (all_data['avgSongsPerSession_lastMonth'] - all_data['avgSongsPerSession_movAvg']))\n",
    "all_data = all_data.withColumn('diff_numSingersPlayed', (all_data['numSingersPlayed_lastMonth'] - all_data['numSingersPlayed_movAvg']))\n",
    "all_data = all_data.withColumn('diff_avgSingersPerSession', (all_data['avgSingersPerSession_lastMonth'] - all_data['avgSingersPerSession_movAvg']))\n",
    "all_data = all_data.withColumn('diff_avgSessionMins', (all_data['avgSessionMins_lastMonth'] - all_data['avgSessionMins_movAvg']))\n",
    "all_data = all_data.withColumn('diff_numSessions', (all_data['numSessions_lastMonth'] - all_data['numSessions_movAvg']))"
   ]
  },
  {
   "cell_type": "code",
   "execution_count": null,
   "metadata": {
    "colab": {
     "base_uri": "https://localhost:8080/"
    },
    "id": "F-ptCZeANumQ",
    "outputId": "f9b56cb6-9f8a-4248-8c5d-8cca9560920c"
   },
   "outputs": [
    {
     "name": "stdout",
     "output_type": "stream",
     "text": [
      "+------+---------+-----------+---------------+----------------+------------------+-------------+--------------+-----------------+---------------+---------+----------+---------------+----------+-----------+-------------+----------+--------------+------------------+------------------+----------------+--------------------+------------------+-----------+-----+------+------------+-----+---------------------+-------------------------+--------------------------+----------------------------+-----------------------+------------------------+---------------------------+-------------------------+-------------------+--------------------+-------------------------+--------------------+---------------------+-----------------------+--------------------+------------------------+-------------------------+----------------------------+--------------------------+------------------------------+------------------------+---------------------+---------------+-------------------+---------------+------------------+-----------------------+-------------------+----------------------+------------------------+--------------------+-----------------------+--------------------------+----------------------+-------------------------+---------------------+-----------------+--------------------+----------------------+------------------+---------------------+-------------------------+---------------------+------------------------+-----------------------+-------------------+----------------------+-----------------+-------------+----------------+------------------+--------------+-----------------+-----------------------+-------------------+----------------------+------------------+--------------+-----------------+-------------------+---------------+------------------+---------------------+-----------------+--------------------+------------------+--------------+-----------------+----------------------+------------------+---------------------+-----------------------+-------------------+----------------------+--------------------------+----------------------+-------------------------+------------------------+--------------------+-----------------------+----------------------------+------------------------+---------------------------+----------------------+------------------+---------------------+-------------------+---------------+------------------+----------------+--------------------+---------------------+-----------------------+------------------+-------------------+----------------------+--------------------+--------------+---------------+--------------------+---------------+----------------+------------------+---------------+-------------------+--------------------+-----------------------+---------------------+-------------------------+-------------------+----------------+\n",
      "|userId|month_num|numRegister|numCancelVisits|numUpgradeVisits|numDowngradeVisits|numHomeVisits|numAboutVisits|numSettingsVisits|numSaveSettings|numLogins|numLogouts|numAddPlaylists|numFriends|numThumbsUp|numThumbsDown|numAdverts|numSongsPlayed|   totalListenTime|avgSongsPerSession|numSingersPlayed|avgSingersPerSession|    avgSessionMins|numSessions|level|gender|daysSinceReg|churn|numRegister_lastMonth|numCancelVisits_lastMonth|numUpgradeVisits_lastMonth|numDowngradeVisits_lastMonth|numHomeVisits_lastMonth|numAboutVisits_lastMonth|numSettingsVisits_lastMonth|numSaveSettings_lastMonth|numLogins_lastMonth|numLogouts_lastMonth|numAddPlaylists_lastMonth|numFriends_lastMonth|numThumbsUp_lastMonth|numThumbsDown_lastMonth|numAdverts_lastMonth|numSongsPlayed_lastMonth|totalListenTime_lastMonth|avgSongsPerSession_lastMonth|numSingersPlayed_lastMonth|avgSingersPerSession_lastMonth|avgSessionMins_lastMonth|numSessions_lastMonth|level_lastMonth|numRegister_cum_old|numRegister_cum|numRegister_movAvg|numCancelVisits_cum_old|numCancelVisits_cum|numCancelVisits_movAvg|numUpgradeVisits_cum_old|numUpgradeVisits_cum|numUpgradeVisits_movAvg|numDowngradeVisits_cum_old|numDowngradeVisits_cum|numDowngradeVisits_movAvg|numHomeVisits_cum_old|numHomeVisits_cum|numHomeVisits_movAvg|numAboutVisits_cum_old|numAboutVisits_cum|numAboutVisits_movAvg|numSettingsVisits_cum_old|numSettingsVisits_cum|numSettingsVisits_movAvg|numSaveSettings_cum_old|numSaveSettings_cum|numSaveSettings_movAvg|numLogins_cum_old|numLogins_cum|numLogins_movAvg|numLogouts_cum_old|numLogouts_cum|numLogouts_movAvg|numAddPlaylists_cum_old|numAddPlaylists_cum|numAddPlaylists_movAvg|numFriends_cum_old|numFriends_cum|numFriends_movAvg|numThumbsUp_cum_old|numThumbsUp_cum|numThumbsUp_movAvg|numThumbsDown_cum_old|numThumbsDown_cum|numThumbsDown_movAvg|numAdverts_cum_old|numAdverts_cum|numAdverts_movAvg|numSongsPlayed_cum_old|numSongsPlayed_cum|numSongsPlayed_movAvg|totalListenTime_cum_old|totalListenTime_cum|totalListenTime_movAvg|avgSongsPerSession_cum_old|avgSongsPerSession_cum|avgSongsPerSession_movAvg|numSingersPlayed_cum_old|numSingersPlayed_cum|numSingersPlayed_movAvg|avgSingersPerSession_cum_old|avgSingersPerSession_cum|avgSingersPerSession_movAvg|avgSessionMins_cum_old|avgSessionMins_cum|avgSessionMins_movAvg|numSessions_cum_old|numSessions_cum|numSessions_movAvg|diff_numRegister|diff_numCancelVisits|diff_numUpgradeVisits|diff_numDowngradeVisits|diff_numHomeVisits|diff_numAboutVisits|diff_numSettingsVisits|diff_numSaveSettings|diff_numLogins|diff_numLogouts|diff_numAddPlaylists|diff_numFriends|diff_numThumbsUp|diff_numThumbsDown|diff_numAdverts|diff_numSongsPlayed|diff_totalListenTime|diff_avgSongsPerSession|diff_numSingersPlayed|diff_avgSingersPerSession|diff_avgSessionMins|diff_numSessions|\n",
      "+------+---------+-----------+---------------+----------------+------------------+-------------+--------------+-----------------+---------------+---------+----------+---------------+----------+-----------+-------------+----------+--------------+------------------+------------------+----------------+--------------------+------------------+-----------+-----+------+------------+-----+---------------------+-------------------------+--------------------------+----------------------------+-----------------------+------------------------+---------------------------+-------------------------+-------------------+--------------------+-------------------------+--------------------+---------------------+-----------------------+--------------------+------------------------+-------------------------+----------------------------+--------------------------+------------------------------+------------------------+---------------------+---------------+-------------------+---------------+------------------+-----------------------+-------------------+----------------------+------------------------+--------------------+-----------------------+--------------------------+----------------------+-------------------------+---------------------+-----------------+--------------------+----------------------+------------------+---------------------+-------------------------+---------------------+------------------------+-----------------------+-------------------+----------------------+-----------------+-------------+----------------+------------------+--------------+-----------------+-----------------------+-------------------+----------------------+------------------+--------------+-----------------+-------------------+---------------+------------------+---------------------+-----------------+--------------------+------------------+--------------+-----------------+----------------------+------------------+---------------------+-----------------------+-------------------+----------------------+--------------------------+----------------------+-------------------------+------------------------+--------------------+-----------------------+----------------------------+------------------------+---------------------------+----------------------+------------------+---------------------+-------------------+---------------+------------------+----------------+--------------------+---------------------+-----------------------+------------------+-------------------+----------------------+--------------------+--------------+---------------+--------------------+---------------+----------------+------------------+---------------+-------------------+--------------------+-----------------------+---------------------+-------------------------+-------------------+----------------+\n",
      "|100010|        0|          0|              0|               1|                 0|            6|             0|                0|              0|        0|         2|              2|         3|          6|            1|        22|           120|28266.629649999984|              30.0|             116|                29.5|112.03333333333333|          4|    0|     1|           4|    0|                    0|                        0|                         0|                           0|                      0|                       0|                          0|                        0|                  0|                   0|                        0|                   0|                    0|                      0|                   0|                       0|                      0.0|                         0.0|                         0|                           0.0|                     0.0|                    0|           null|                  0|              0|               0.0|                      0|                  0|                   0.0|                       1|                   0|                    0.0|                         0|                     0|                      0.0|                    6|                0|                 0.0|                     0|                 0|                  0.0|                        0|                    0|                     0.0|                      0|                  0|                   0.0|                0|            0|             0.0|                 2|             0|              0.0|                      2|                  0|                   0.0|                 3|             0|              0.0|                  6|              0|               0.0|                    1|                0|                 0.0|                22|             0|              0.0|                   120|                 0|                  0.0|     28266.629649999984|                0.0|                   0.0|                      30.0|                   0.0|                      0.0|                     116|                   0|                    0.0|                        29.5|                     0.0|                        0.0|    112.03333333333333|               0.0|                  0.0|                  4|              0|               0.0|             0.0|                 0.0|                  0.0|                    0.0|               0.0|                0.0|                   0.0|                 0.0|           0.0|            0.0|                 0.0|            0.0|             0.0|               0.0|            0.0|                0.0|                 0.0|                    0.0|                  0.0|                      0.0|                0.0|             0.0|\n",
      "|100010|        1|          0|              0|               1|                 0|            5|             1|                0|              0|        0|         3|              5|         1|         11|            4|        30|           155| 38674.26770000001|51.666666666666664|             144|  50.666666666666664|211.08333333333334|          3|    0|     1|          35|    0|                    0|                        0|                         1|                           0|                      6|                       0|                          0|                        0|                  0|                   2|                        2|                   3|                    6|                      1|                  22|                     120|       28266.629649999984|                        30.0|                       116|                          29.5|      112.03333333333333|                    4|              0|                  0|              0|               0.0|                      0|                  0|                   0.0|                       2|                   1|                    1.0|                         0|                     0|                      0.0|                   11|                6|                 6.0|                     1|                 0|                  0.0|                        0|                    0|                     0.0|                      0|                  0|                   0.0|                0|            0|             0.0|                 5|             2|              2.0|                      7|                  2|                   2.0|                 4|             3|              3.0|                 17|              6|               6.0|                    5|                1|                 1.0|                52|            22|             22.0|                   275|               120|                120.0|            66940.89735| 28266.629649999988|    28266.629649999988|         81.66666666666666|    29.999999999999993|       29.999999999999993|                     260|                 116|                  116.0|           80.16666666666666|      29.499999999999993|         29.499999999999993|     323.1166666666667|112.03333333333333|   112.03333333333333|                  7|              4|               4.0|             0.0|                 0.0|                  0.0|                    0.0|               0.0|                0.0|                   0.0|                 0.0|           0.0|            0.0|                 0.0|            0.0|             0.0|               0.0|            0.0|                0.0|-3.63797880709171...|   7.105427357601002...|                  0.0|     7.105427357601002...|                0.0|             0.0|\n",
      "|200002|        0|          0|              0|               2|                 3|           14|             2|                3|              0|        0|         3|              6|         4|         15|            6|         7|           267| 64662.97118999998|              53.4|             243|                52.4|            220.19|          5|    1|     0|          25|    0|                    0|                        0|                         0|                           0|                      0|                       0|                          0|                        0|                  0|                   0|                        0|                   0|                    0|                      0|                   0|                       0|                      0.0|                         0.0|                         0|                           0.0|                     0.0|                    0|           null|                  0|              0|               0.0|                      0|                  0|                   0.0|                       2|                   0|                    0.0|                         3|                     0|                      0.0|                   14|                0|                 0.0|                     2|                 0|                  0.0|                        3|                    0|                     0.0|                      0|                  0|                   0.0|                0|            0|             0.0|                 3|             0|              0.0|                      6|                  0|                   0.0|                 4|             0|              0.0|                 15|              0|               0.0|                    6|                0|                 0.0|                 7|             0|              0.0|                   267|                 0|                  0.0|      64662.97118999998|                0.0|                   0.0|                      53.4|                   0.0|                      0.0|                     243|                   0|                    0.0|                        52.4|                     0.0|                        0.0|                220.19|               0.0|                  0.0|                  5|              0|               0.0|             0.0|                 0.0|                  0.0|                    0.0|               0.0|                0.0|                   0.0|                 0.0|           0.0|            0.0|                 0.0|            0.0|             0.0|               0.0|            0.0|                0.0|                 0.0|                    0.0|                  0.0|                      0.0|                0.0|             0.0|\n",
      "+------+---------+-----------+---------------+----------------+------------------+-------------+--------------+-----------------+---------------+---------+----------+---------------+----------+-----------+-------------+----------+--------------+------------------+------------------+----------------+--------------------+------------------+-----------+-----+------+------------+-----+---------------------+-------------------------+--------------------------+----------------------------+-----------------------+------------------------+---------------------------+-------------------------+-------------------+--------------------+-------------------------+--------------------+---------------------+-----------------------+--------------------+------------------------+-------------------------+----------------------------+--------------------------+------------------------------+------------------------+---------------------+---------------+-------------------+---------------+------------------+-----------------------+-------------------+----------------------+------------------------+--------------------+-----------------------+--------------------------+----------------------+-------------------------+---------------------+-----------------+--------------------+----------------------+------------------+---------------------+-------------------------+---------------------+------------------------+-----------------------+-------------------+----------------------+-----------------+-------------+----------------+------------------+--------------+-----------------+-----------------------+-------------------+----------------------+------------------+--------------+-----------------+-------------------+---------------+------------------+---------------------+-----------------+--------------------+------------------+--------------+-----------------+----------------------+------------------+---------------------+-----------------------+-------------------+----------------------+--------------------------+----------------------+-------------------------+------------------------+--------------------+-----------------------+----------------------------+------------------------+---------------------------+----------------------+------------------+---------------------+-------------------+---------------+------------------+----------------+--------------------+---------------------+-----------------------+------------------+-------------------+----------------------+--------------------+--------------+---------------+--------------------+---------------+----------------+------------------+---------------+-------------------+--------------------+-----------------------+---------------------+-------------------------+-------------------+----------------+\n",
      "only showing top 3 rows\n",
      "\n"
     ]
    }
   ],
   "source": [
    "all_data.show(3)"
   ]
  },
  {
   "cell_type": "code",
   "execution_count": null,
   "metadata": {
    "id": "37eVLiLkNukA"
   },
   "outputs": [],
   "source": [
    "# convert userId, gender, level, level_lastMonth to numeric\n",
    "convert_numeric = ['userId', 'level', 'gender', 'level_lastMonth']\n",
    "for feat in convert_numeric:\n",
    "    featName = feat + \"_n\"\n",
    "    all_data = all_data.withColumn(featName, all_data[feat].cast(\"float\"))\n",
    "    all_data = all_data.drop(feat)"
   ]
  },
  {
   "cell_type": "code",
   "execution_count": null,
   "metadata": {
    "id": "r_nqsmLqOchr"
   },
   "outputs": [],
   "source": [
    "\n",
    "# fill na/null values with 0\n",
    "all_data = all_data.na.fill(0.0)"
   ]
  },
  {
   "cell_type": "code",
   "execution_count": null,
   "metadata": {
    "id": "YO2sZsNiOcwW"
   },
   "outputs": [],
   "source": [
    "out_path = \"all_data_small.csv\"\n",
    "all_data.write.mode('overwrite').save(out_path, format=\"csv\", header=True)"
   ]
  },
  {
   "cell_type": "code",
   "execution_count": null,
   "metadata": {
    "id": "vl7g-KOFOc4f"
   },
   "outputs": [],
   "source": [
    "# If needed\n",
    "out_path = \"all_data_small.csv\"\n",
    "all_data = spark.read.csv(out_path, header=True, inferSchema=True)"
   ]
  },
  {
   "cell_type": "code",
   "execution_count": null,
   "metadata": {
    "colab": {
     "base_uri": "https://localhost:8080/"
    },
    "id": "Lnv_QgSDOc1i",
    "outputId": "14cf1b3c-0cc0-48e9-80ad-aeac54b0c20c"
   },
   "outputs": [
    {
     "data": {
      "text/plain": [
       "DataFrame[month_num: int, numRegister: int, numCancelVisits: int, numUpgradeVisits: int, numDowngradeVisits: int, numHomeVisits: int, numAboutVisits: int, numSettingsVisits: int, numSaveSettings: int, numLogins: int, numLogouts: int, numAddPlaylists: int, numFriends: int, numThumbsUp: int, numThumbsDown: int, numAdverts: int, numSongsPlayed: int, totalListenTime: double, avgSongsPerSession: double, numSingersPlayed: int, avgSingersPerSession: double, avgSessionMins: double, numSessions: int, daysSinceReg: int, churn: int, numRegister_lastMonth: int, numCancelVisits_lastMonth: int, numUpgradeVisits_lastMonth: int, numDowngradeVisits_lastMonth: int, numHomeVisits_lastMonth: int, numAboutVisits_lastMonth: int, numSettingsVisits_lastMonth: int, numSaveSettings_lastMonth: int, numLogins_lastMonth: int, numLogouts_lastMonth: int, numAddPlaylists_lastMonth: int, numFriends_lastMonth: int, numThumbsUp_lastMonth: int, numThumbsDown_lastMonth: int, numAdverts_lastMonth: int, numSongsPlayed_lastMonth: int, totalListenTime_lastMonth: double, avgSongsPerSession_lastMonth: double, numSingersPlayed_lastMonth: int, avgSingersPerSession_lastMonth: double, avgSessionMins_lastMonth: double, numSessions_lastMonth: int, numRegister_cum_old: int, numRegister_cum: int, numRegister_movAvg: double, numCancelVisits_cum_old: int, numCancelVisits_cum: int, numCancelVisits_movAvg: double, numUpgradeVisits_cum_old: int, numUpgradeVisits_cum: int, numUpgradeVisits_movAvg: double, numDowngradeVisits_cum_old: int, numDowngradeVisits_cum: int, numDowngradeVisits_movAvg: double, numHomeVisits_cum_old: int, numHomeVisits_cum: int, numHomeVisits_movAvg: double, numAboutVisits_cum_old: int, numAboutVisits_cum: int, numAboutVisits_movAvg: double, numSettingsVisits_cum_old: int, numSettingsVisits_cum: int, numSettingsVisits_movAvg: double, numSaveSettings_cum_old: int, numSaveSettings_cum: int, numSaveSettings_movAvg: double, numLogins_cum_old: int, numLogins_cum: int, numLogins_movAvg: double, numLogouts_cum_old: int, numLogouts_cum: int, numLogouts_movAvg: double, numAddPlaylists_cum_old: int, numAddPlaylists_cum: int, numAddPlaylists_movAvg: double, numFriends_cum_old: int, numFriends_cum: int, numFriends_movAvg: double, numThumbsUp_cum_old: int, numThumbsUp_cum: int, numThumbsUp_movAvg: double, numThumbsDown_cum_old: int, numThumbsDown_cum: int, numThumbsDown_movAvg: double, numAdverts_cum_old: int, numAdverts_cum: int, numAdverts_movAvg: double, numSongsPlayed_cum_old: int, numSongsPlayed_cum: int, numSongsPlayed_movAvg: double, totalListenTime_cum_old: double, totalListenTime_cum: double, totalListenTime_movAvg: double, avgSongsPerSession_cum_old: double, avgSongsPerSession_cum: double, avgSongsPerSession_movAvg: double, numSingersPlayed_cum_old: int, numSingersPlayed_cum: int, numSingersPlayed_movAvg: double, avgSingersPerSession_cum_old: double, avgSingersPerSession_cum: double, avgSingersPerSession_movAvg: double, avgSessionMins_cum_old: double, avgSessionMins_cum: double, avgSessionMins_movAvg: double, numSessions_cum_old: int, numSessions_cum: int, numSessions_movAvg: double, diff_numRegister: double, diff_numCancelVisits: double, diff_numUpgradeVisits: double, diff_numDowngradeVisits: double, diff_numHomeVisits: double, diff_numAboutVisits: double, diff_numSettingsVisits: double, diff_numSaveSettings: double, diff_numLogins: double, diff_numLogouts: double, diff_numAddPlaylists: double, diff_numFriends: double, diff_numThumbsUp: double, diff_numThumbsDown: double, diff_numAdverts: double, diff_numSongsPlayed: double, diff_totalListenTime: double, diff_avgSongsPerSession: double, diff_numSingersPlayed: double, diff_avgSingersPerSession: double, diff_avgSessionMins: double, diff_numSessions: double, userId_n: double, level_n: double, gender_n: double, level_lastMonth_n: double]"
      ]
     },
     "execution_count": 136,
     "metadata": {
      "tags": []
     },
     "output_type": "execute_result"
    }
   ],
   "source": [
    "all_data.persist()"
   ]
  },
  {
   "cell_type": "markdown",
   "metadata": {
    "id": "kFK8P_kHbdbw"
   },
   "source": [
    "# Modeling"
   ]
  },
  {
   "cell_type": "code",
   "execution_count": null,
   "metadata": {
    "colab": {
     "base_uri": "https://localhost:8080/"
    },
    "id": "bfqEqRyfOct6",
    "outputId": "e258c1eb-3c01-4d78-ea61-0179dab90d40"
   },
   "outputs": [
    {
     "data": {
      "text/plain": [
       "['month_num',\n",
       " 'numRegister',\n",
       " 'numCancelVisits',\n",
       " 'numUpgradeVisits',\n",
       " 'numDowngradeVisits',\n",
       " 'numHomeVisits',\n",
       " 'numAboutVisits',\n",
       " 'numSettingsVisits',\n",
       " 'numSaveSettings',\n",
       " 'numLogins',\n",
       " 'numLogouts',\n",
       " 'numAddPlaylists',\n",
       " 'numFriends',\n",
       " 'numThumbsUp',\n",
       " 'numThumbsDown',\n",
       " 'numAdverts',\n",
       " 'numSongsPlayed',\n",
       " 'totalListenTime',\n",
       " 'avgSongsPerSession',\n",
       " 'numSingersPlayed',\n",
       " 'avgSingersPerSession',\n",
       " 'avgSessionMins',\n",
       " 'numSessions',\n",
       " 'daysSinceReg',\n",
       " 'churn',\n",
       " 'numRegister_lastMonth',\n",
       " 'numCancelVisits_lastMonth',\n",
       " 'numUpgradeVisits_lastMonth',\n",
       " 'numDowngradeVisits_lastMonth',\n",
       " 'numHomeVisits_lastMonth',\n",
       " 'numAboutVisits_lastMonth',\n",
       " 'numSettingsVisits_lastMonth',\n",
       " 'numSaveSettings_lastMonth',\n",
       " 'numLogins_lastMonth',\n",
       " 'numLogouts_lastMonth',\n",
       " 'numAddPlaylists_lastMonth',\n",
       " 'numFriends_lastMonth',\n",
       " 'numThumbsUp_lastMonth',\n",
       " 'numThumbsDown_lastMonth',\n",
       " 'numAdverts_lastMonth',\n",
       " 'numSongsPlayed_lastMonth',\n",
       " 'totalListenTime_lastMonth',\n",
       " 'avgSongsPerSession_lastMonth',\n",
       " 'numSingersPlayed_lastMonth',\n",
       " 'avgSingersPerSession_lastMonth',\n",
       " 'avgSessionMins_lastMonth',\n",
       " 'numSessions_lastMonth',\n",
       " 'numRegister_cum_old',\n",
       " 'numRegister_cum',\n",
       " 'numRegister_movAvg',\n",
       " 'numCancelVisits_cum_old',\n",
       " 'numCancelVisits_cum',\n",
       " 'numCancelVisits_movAvg',\n",
       " 'numUpgradeVisits_cum_old',\n",
       " 'numUpgradeVisits_cum',\n",
       " 'numUpgradeVisits_movAvg',\n",
       " 'numDowngradeVisits_cum_old',\n",
       " 'numDowngradeVisits_cum',\n",
       " 'numDowngradeVisits_movAvg',\n",
       " 'numHomeVisits_cum_old',\n",
       " 'numHomeVisits_cum',\n",
       " 'numHomeVisits_movAvg',\n",
       " 'numAboutVisits_cum_old',\n",
       " 'numAboutVisits_cum',\n",
       " 'numAboutVisits_movAvg',\n",
       " 'numSettingsVisits_cum_old',\n",
       " 'numSettingsVisits_cum',\n",
       " 'numSettingsVisits_movAvg',\n",
       " 'numSaveSettings_cum_old',\n",
       " 'numSaveSettings_cum',\n",
       " 'numSaveSettings_movAvg',\n",
       " 'numLogins_cum_old',\n",
       " 'numLogins_cum',\n",
       " 'numLogins_movAvg',\n",
       " 'numLogouts_cum_old',\n",
       " 'numLogouts_cum',\n",
       " 'numLogouts_movAvg',\n",
       " 'numAddPlaylists_cum_old',\n",
       " 'numAddPlaylists_cum',\n",
       " 'numAddPlaylists_movAvg',\n",
       " 'numFriends_cum_old',\n",
       " 'numFriends_cum',\n",
       " 'numFriends_movAvg',\n",
       " 'numThumbsUp_cum_old',\n",
       " 'numThumbsUp_cum',\n",
       " 'numThumbsUp_movAvg',\n",
       " 'numThumbsDown_cum_old',\n",
       " 'numThumbsDown_cum',\n",
       " 'numThumbsDown_movAvg',\n",
       " 'numAdverts_cum_old',\n",
       " 'numAdverts_cum',\n",
       " 'numAdverts_movAvg',\n",
       " 'numSongsPlayed_cum_old',\n",
       " 'numSongsPlayed_cum',\n",
       " 'numSongsPlayed_movAvg',\n",
       " 'totalListenTime_cum_old',\n",
       " 'totalListenTime_cum',\n",
       " 'totalListenTime_movAvg',\n",
       " 'avgSongsPerSession_cum_old',\n",
       " 'avgSongsPerSession_cum',\n",
       " 'avgSongsPerSession_movAvg',\n",
       " 'numSingersPlayed_cum_old',\n",
       " 'numSingersPlayed_cum',\n",
       " 'numSingersPlayed_movAvg',\n",
       " 'avgSingersPerSession_cum_old',\n",
       " 'avgSingersPerSession_cum',\n",
       " 'avgSingersPerSession_movAvg',\n",
       " 'avgSessionMins_cum_old',\n",
       " 'avgSessionMins_cum',\n",
       " 'avgSessionMins_movAvg',\n",
       " 'numSessions_cum_old',\n",
       " 'numSessions_cum',\n",
       " 'numSessions_movAvg',\n",
       " 'diff_numRegister',\n",
       " 'diff_numCancelVisits',\n",
       " 'diff_numUpgradeVisits',\n",
       " 'diff_numDowngradeVisits',\n",
       " 'diff_numHomeVisits',\n",
       " 'diff_numAboutVisits',\n",
       " 'diff_numSettingsVisits',\n",
       " 'diff_numSaveSettings',\n",
       " 'diff_numLogins',\n",
       " 'diff_numLogouts',\n",
       " 'diff_numAddPlaylists',\n",
       " 'diff_numFriends',\n",
       " 'diff_numThumbsUp',\n",
       " 'diff_numThumbsDown',\n",
       " 'diff_numAdverts',\n",
       " 'diff_numSongsPlayed',\n",
       " 'diff_totalListenTime',\n",
       " 'diff_avgSongsPerSession',\n",
       " 'diff_numSingersPlayed',\n",
       " 'diff_avgSingersPerSession',\n",
       " 'diff_avgSessionMins',\n",
       " 'diff_numSessions',\n",
       " 'userId_n',\n",
       " 'level_n',\n",
       " 'gender_n',\n",
       " 'level_lastMonth_n']"
      ]
     },
     "execution_count": 137,
     "metadata": {
      "tags": []
     },
     "output_type": "execute_result"
    }
   ],
   "source": [
    "all_data.columns"
   ]
  },
  {
   "cell_type": "code",
   "execution_count": null,
   "metadata": {
    "colab": {
     "base_uri": "https://localhost:8080/"
    },
    "id": "JsEPbchtOcq2",
    "outputId": "9e8b518f-f89a-4612-832f-43bcbf162eb3"
   },
   "outputs": [
    {
     "name": "stdout",
     "output_type": "stream",
     "text": [
      "+--------+---------+---------------------+-------------------------+--------------------------+----------------------------+-----------------------+------------------------+---------------------------+-------------------------+-------------------+--------------------+-------------------------+--------------------+---------------------+-----------------------+--------------------+------------------------+-------------------------+----------------------------+--------------------------+------------------------------+------------------------+---------------------+-----------------+------------------+----------------------+-----------------------+-------------------------+--------------------+---------------------+------------------------+----------------------+----------------+-----------------+----------------------+-----------------+------------------+--------------------+-----------------+---------------------+----------------------+-------------------------+-----------------------+---------------------------+---------------------+------------------+----------------+--------------------+---------------------+-----------------------+------------------+-------------------+----------------------+--------------------+--------------+---------------+--------------------+---------------+----------------+------------------+---------------+-------------------+--------------------+-----------------------+---------------------+-------------------------+--------------------+----------------+--------+------------+-----+\n",
      "|userId_n|month_num|numRegister_lastMonth|numCancelVisits_lastMonth|numUpgradeVisits_lastMonth|numDowngradeVisits_lastMonth|numHomeVisits_lastMonth|numAboutVisits_lastMonth|numSettingsVisits_lastMonth|numSaveSettings_lastMonth|numLogins_lastMonth|numLogouts_lastMonth|numAddPlaylists_lastMonth|numFriends_lastMonth|numThumbsUp_lastMonth|numThumbsDown_lastMonth|numAdverts_lastMonth|numSongsPlayed_lastMonth|totalListenTime_lastMonth|avgSongsPerSession_lastMonth|numSingersPlayed_lastMonth|avgSingersPerSession_lastMonth|avgSessionMins_lastMonth|numSessions_lastMonth|level_lastMonth_n|numRegister_movAvg|numCancelVisits_movAvg|numUpgradeVisits_movAvg|numDowngradeVisits_movAvg|numHomeVisits_movAvg|numAboutVisits_movAvg|numSettingsVisits_movAvg|numSaveSettings_movAvg|numLogins_movAvg|numLogouts_movAvg|numAddPlaylists_movAvg|numFriends_movAvg|numThumbsUp_movAvg|numThumbsDown_movAvg|numAdverts_movAvg|numSongsPlayed_movAvg|totalListenTime_movAvg|avgSongsPerSession_movAvg|numSingersPlayed_movAvg|avgSingersPerSession_movAvg|avgSessionMins_movAvg|numSessions_movAvg|diff_numRegister|diff_numCancelVisits|diff_numUpgradeVisits|diff_numDowngradeVisits|diff_numHomeVisits|diff_numAboutVisits|diff_numSettingsVisits|diff_numSaveSettings|diff_numLogins|diff_numLogouts|diff_numAddPlaylists|diff_numFriends|diff_numThumbsUp|diff_numThumbsDown|diff_numAdverts|diff_numSongsPlayed|diff_totalListenTime|diff_avgSongsPerSession|diff_numSingersPlayed|diff_avgSingersPerSession| diff_avgSessionMins|diff_numSessions|gender_n|daysSinceReg|label|\n",
      "+--------+---------+---------------------+-------------------------+--------------------------+----------------------------+-----------------------+------------------------+---------------------------+-------------------------+-------------------+--------------------+-------------------------+--------------------+---------------------+-----------------------+--------------------+------------------------+-------------------------+----------------------------+--------------------------+------------------------------+------------------------+---------------------+-----------------+------------------+----------------------+-----------------------+-------------------------+--------------------+---------------------+------------------------+----------------------+----------------+-----------------+----------------------+-----------------+------------------+--------------------+-----------------+---------------------+----------------------+-------------------------+-----------------------+---------------------------+---------------------+------------------+----------------+--------------------+---------------------+-----------------------+------------------+-------------------+----------------------+--------------------+--------------+---------------+--------------------+---------------+----------------+------------------+---------------+-------------------+--------------------+-----------------------+---------------------+-------------------------+--------------------+----------------+--------+------------+-----+\n",
      "|100004.0|        1|                    0|                        0|                         3|                           8|                     29|                       0|                          5|                        1|                  0|                   9|                       11|                  10|                   14|                      3|                  42|                     413|       100942.41519999999|          34.416666666666664|                       369|            33.333333333333336|       141.4111111111111|                   12|              1.0|               0.0|                   0.0|                    3.0|                      8.0|                29.0|                  0.0|                     5.0|                   1.0|             0.0|              9.0|                  11.0|             10.0|              14.0|                 3.0|             42.0|                413.0|    100942.41519999997|        34.41666666666666|                  369.0|          33.33333333333334|   141.41111111111113|              12.0|             0.0|                 0.0|                  0.0|                    0.0|               0.0|                0.0|                   0.0|                 0.0|           0.0|            0.0|                 0.0|            0.0|             0.0|               0.0|            0.0|                0.0|1.455191522836685...|   7.105427357601002...|                  0.0|     -7.10542735760100...|-2.84217094304040...|             0.0|     1.0|         145|    0|\n",
      "+--------+---------+---------------------+-------------------------+--------------------------+----------------------------+-----------------------+------------------------+---------------------------+-------------------------+-------------------+--------------------+-------------------------+--------------------+---------------------+-----------------------+--------------------+------------------------+-------------------------+----------------------------+--------------------------+------------------------------+------------------------+---------------------+-----------------+------------------+----------------------+-----------------------+-------------------------+--------------------+---------------------+------------------------+----------------------+----------------+-----------------+----------------------+-----------------+------------------+--------------------+-----------------+---------------------+----------------------+-------------------------+-----------------------+---------------------------+---------------------+------------------+----------------+--------------------+---------------------+-----------------------+------------------+-------------------+----------------------+--------------------+--------------+---------------+--------------------+---------------+----------------+------------------+---------------+-------------------+--------------------+-----------------------+---------------------+-------------------------+--------------------+----------------+--------+------------+-----+\n",
      "only showing top 1 row\n",
      "\n"
     ]
    }
   ],
   "source": [
    "# drop month 0 since we do not have old information to predict churn for this month\n",
    "# keep only features to be trained and labels\n",
    "\n",
    "model_data = all_data \\\n",
    ".filter(all_data.month_num>0) \\\n",
    ".select('userId_n', 'month_num', 'numRegister_lastMonth', 'numCancelVisits_lastMonth',\\\n",
    "        'numUpgradeVisits_lastMonth', 'numDowngradeVisits_lastMonth',\\\n",
    "        'numHomeVisits_lastMonth', 'numAboutVisits_lastMonth',\\\n",
    "        'numSettingsVisits_lastMonth', 'numSaveSettings_lastMonth',\\\n",
    "        'numLogins_lastMonth', 'numLogouts_lastMonth', \\\n",
    "        'numAddPlaylists_lastMonth', 'numFriends_lastMonth',\\\n",
    "        'numThumbsUp_lastMonth', 'numThumbsDown_lastMonth',\\\n",
    "        'numAdverts_lastMonth', 'numSongsPlayed_lastMonth',\\\n",
    "        'totalListenTime_lastMonth', 'avgSongsPerSession_lastMonth',\\\n",
    "        'numSingersPlayed_lastMonth', 'avgSingersPerSession_lastMonth',\\\n",
    "        'avgSessionMins_lastMonth', 'numSessions_lastMonth',\\\n",
    "        'level_lastMonth_n', 'numRegister_movAvg', 'numCancelVisits_movAvg',\\\n",
    "        'numUpgradeVisits_movAvg', 'numDowngradeVisits_movAvg',\\\n",
    "        'numHomeVisits_movAvg', 'numAboutVisits_movAvg',\\\n",
    "        'numSettingsVisits_movAvg', 'numSaveSettings_movAvg',\\\n",
    "        'numLogins_movAvg', 'numLogouts_movAvg',\\\n",
    "        'numAddPlaylists_movAvg', 'numFriends_movAvg',\\\n",
    "        'numThumbsUp_movAvg', 'numThumbsDown_movAvg',\\\n",
    "        'numAdverts_movAvg', 'numSongsPlayed_movAvg',\\\n",
    "        'totalListenTime_movAvg', 'avgSongsPerSession_movAvg',\\\n",
    "        'numSingersPlayed_movAvg', 'avgSingersPerSession_movAvg',\\\n",
    "        'avgSessionMins_movAvg', 'numSessions_movAvg',\\\n",
    "        'diff_numRegister', 'diff_numCancelVisits',\\\n",
    "        'diff_numUpgradeVisits', 'diff_numDowngradeVisits',\\\n",
    "        'diff_numHomeVisits', 'diff_numAboutVisits',\\\n",
    "        'diff_numSettingsVisits', 'diff_numSaveSettings',\\\n",
    "        'diff_numLogins', 'diff_numLogouts',\\\n",
    "        'diff_numAddPlaylists', 'diff_numFriends',\\\n",
    "        'diff_numThumbsUp', 'diff_numThumbsDown',\\\n",
    "        'diff_numAdverts', 'diff_numSongsPlayed',\\\n",
    "        'diff_totalListenTime', 'diff_avgSongsPerSession',\\\n",
    "        'diff_numSingersPlayed', 'diff_avgSingersPerSession',\n",
    "        'diff_avgSessionMins', 'diff_numSessions',\\\n",
    "        'gender_n', 'daysSinceReg', 'churn'\n",
    "        ).withColumnRenamed('churn', 'label')\n",
    "\n",
    "model_data.show(1)"
   ]
  },
  {
   "cell_type": "code",
   "execution_count": null,
   "metadata": {
    "colab": {
     "base_uri": "https://localhost:8080/"
    },
    "id": "EKtT5x4ZOcoT",
    "outputId": "66449581-7e01-44e7-bf5b-ab8f62bf3598"
   },
   "outputs": [
    {
     "name": "stdout",
     "output_type": "stream",
     "text": [
      "+--------+---------+---------------------+-------------------------+--------------------------+----------------------------+-----------------------+------------------------+---------------------------+-------------------------+-------------------+--------------------+-------------------------+--------------------+---------------------+-----------------------+--------------------+------------------------+-------------------------+----------------------------+--------------------------+------------------------------+------------------------+---------------------+-----------------+------------------+----------------------+-----------------------+-------------------------+--------------------+---------------------+------------------------+----------------------+----------------+-----------------+----------------------+-----------------+------------------+--------------------+-----------------+---------------------+----------------------+-------------------------+-----------------------+---------------------------+---------------------+------------------+----------------+--------------------+---------------------+-----------------------+------------------+-------------------+----------------------+--------------------+--------------+---------------+--------------------+---------------+----------------+------------------+---------------+-------------------+--------------------+-----------------------+---------------------+-------------------------+-------------------+----------------+--------+------------+-----+\n",
      "|userId_n|month_num|numRegister_lastMonth|numCancelVisits_lastMonth|numUpgradeVisits_lastMonth|numDowngradeVisits_lastMonth|numHomeVisits_lastMonth|numAboutVisits_lastMonth|numSettingsVisits_lastMonth|numSaveSettings_lastMonth|numLogins_lastMonth|numLogouts_lastMonth|numAddPlaylists_lastMonth|numFriends_lastMonth|numThumbsUp_lastMonth|numThumbsDown_lastMonth|numAdverts_lastMonth|numSongsPlayed_lastMonth|totalListenTime_lastMonth|avgSongsPerSession_lastMonth|numSingersPlayed_lastMonth|avgSingersPerSession_lastMonth|avgSessionMins_lastMonth|numSessions_lastMonth|level_lastMonth_n|numRegister_movAvg|numCancelVisits_movAvg|numUpgradeVisits_movAvg|numDowngradeVisits_movAvg|numHomeVisits_movAvg|numAboutVisits_movAvg|numSettingsVisits_movAvg|numSaveSettings_movAvg|numLogins_movAvg|numLogouts_movAvg|numAddPlaylists_movAvg|numFriends_movAvg|numThumbsUp_movAvg|numThumbsDown_movAvg|numAdverts_movAvg|numSongsPlayed_movAvg|totalListenTime_movAvg|avgSongsPerSession_movAvg|numSingersPlayed_movAvg|avgSingersPerSession_movAvg|avgSessionMins_movAvg|numSessions_movAvg|diff_numRegister|diff_numCancelVisits|diff_numUpgradeVisits|diff_numDowngradeVisits|diff_numHomeVisits|diff_numAboutVisits|diff_numSettingsVisits|diff_numSaveSettings|diff_numLogins|diff_numLogouts|diff_numAddPlaylists|diff_numFriends|diff_numThumbsUp|diff_numThumbsDown|diff_numAdverts|diff_numSongsPlayed|diff_totalListenTime|diff_avgSongsPerSession|diff_numSingersPlayed|diff_avgSingersPerSession|diff_avgSessionMins|diff_numSessions|gender_n|daysSinceReg|label|\n",
      "+--------+---------+---------------------+-------------------------+--------------------------+----------------------------+-----------------------+------------------------+---------------------------+-------------------------+-------------------+--------------------+-------------------------+--------------------+---------------------+-----------------------+--------------------+------------------------+-------------------------+----------------------------+--------------------------+------------------------------+------------------------+---------------------+-----------------+------------------+----------------------+-----------------------+-------------------------+--------------------+---------------------+------------------------+----------------------+----------------+-----------------+----------------------+-----------------+------------------+--------------------+-----------------+---------------------+----------------------+-------------------------+-----------------------+---------------------------+---------------------+------------------+----------------+--------------------+---------------------+-----------------------+------------------+-------------------+----------------------+--------------------+--------------+---------------+--------------------+---------------+----------------+------------------+---------------+-------------------+--------------------+-----------------------+---------------------+-------------------------+-------------------+----------------+--------+------------+-----+\n",
      "|       0|        0|                    0|                        0|                         0|                           0|                      0|                       0|                          0|                        0|                  0|                   0|                        0|                   0|                    0|                      0|                   0|                       0|                        0|                           0|                         0|                             0|                       0|                    0|                0|                 0|                     0|                      0|                        0|                   0|                    0|                       0|                     0|               0|                0|                     0|                0|                 0|                   0|                0|                    0|                     0|                        0|                      0|                          0|                    0|                 0|               0|                   0|                    0|                      0|                 0|                  0|                     0|                   0|             0|              0|                   0|              0|               0|                 0|              0|                  0|                   0|                      0|                    0|                        0|                  0|               0|       0|           0|    0|\n",
      "+--------+---------+---------------------+-------------------------+--------------------------+----------------------------+-----------------------+------------------------+---------------------------+-------------------------+-------------------+--------------------+-------------------------+--------------------+---------------------+-----------------------+--------------------+------------------------+-------------------------+----------------------------+--------------------------+------------------------------+------------------------+---------------------+-----------------+------------------+----------------------+-----------------------+-------------------------+--------------------+---------------------+------------------------+----------------------+----------------+-----------------+----------------------+-----------------+------------------+--------------------+-----------------+---------------------+----------------------+-------------------------+-----------------------+---------------------------+---------------------+------------------+----------------+--------------------+---------------------+-----------------------+------------------+-------------------+----------------------+--------------------+--------------+---------------+--------------------+---------------+----------------+------------------+---------------+-------------------+--------------------+-----------------------+---------------------+-------------------------+-------------------+----------------+--------+------------+-----+\n",
      "\n"
     ]
    }
   ],
   "source": [
    "model_data.select([count(when(col(c).isNull(), c)).alias(c) for c in model_data.columns]).show()"
   ]
  },
  {
   "cell_type": "code",
   "execution_count": null,
   "metadata": {
    "id": "PkIlyuMaOclH"
   },
   "outputs": [],
   "source": [
    "# for small dataset with 2 months, just use randomSplit\n",
    "# for bigger datasets with multiple months, can split according to months\n",
    "train,test = model_data.randomSplit([0.8, 0.2], seed=50)"
   ]
  },
  {
   "cell_type": "code",
   "execution_count": null,
   "metadata": {
    "id": "LIGR8IscO1sA"
   },
   "outputs": [],
   "source": [
    "# for small dataset, just train with last month's stats since there are only 2 months\n",
    "# for large dataset, can train with last month's stats, moving averages and diffs\n",
    "\n",
    "# small dataset\n",
    "inputColumns = ['userId_n', 'month_num', 'numRegister_lastMonth', 'numCancelVisits_lastMonth',\\\n",
    "                'numUpgradeVisits_lastMonth', 'numDowngradeVisits_lastMonth',\\\n",
    "                'numHomeVisits_lastMonth', 'numAboutVisits_lastMonth',\\\n",
    "                'numSettingsVisits_lastMonth', 'numSaveSettings_lastMonth',\\\n",
    "                'numLogins_lastMonth', 'numLogouts_lastMonth', \\\n",
    "                'numAddPlaylists_lastMonth', 'numFriends_lastMonth',\\\n",
    "                'numThumbsUp_lastMonth', 'numThumbsDown_lastMonth',\\\n",
    "                'numAdverts_lastMonth', 'numSongsPlayed_lastMonth',\\\n",
    "                'totalListenTime_lastMonth', 'avgSongsPerSession_lastMonth',\\\n",
    "                'numSingersPlayed_lastMonth', 'avgSingersPerSession_lastMonth',\\\n",
    "                'avgSessionMins_lastMonth', 'numSessions_lastMonth',\\\n",
    "                'level_lastMonth_n', 'gender_n', 'daysSinceReg']\n",
    "\n",
    "\n",
    "assembler = VectorAssembler(inputCols=inputColumns, outputCol=\"FeaturesVec\")\n",
    "#data = assembler.transform(model_data)\n",
    "\n",
    "scaler = StandardScaler(inputCol=\"FeaturesVec\", outputCol=\"features\", withMean=True, withStd=True)\n",
    "#scalerModel = scaler.fit(data)\n",
    "#data = scalerModel.transform(data)\n",
    "#data = data.select(data.churn.alias(\"label\"), data.ScaledFeatures.alias(\"features\"))\n",
    "\n",
    "# set max_iter to 30 for prototype, instead of the default 100, to save time\n",
    "\n",
    "# Logistic Regression\n",
    "lr=LogisticRegression(maxIter=30)\n",
    "pipeline_lr = Pipeline(stages=[assembler, scaler, lr])\n",
    "\n",
    "# Support Vector Machine Classifier\n",
    "svc = LinearSVC(maxIter=30)\n",
    "pipeline_svc = Pipeline(stages=[assembler, scaler, svc])\n",
    "\n",
    "# Gradient Boosted Trees\n",
    "gbt = GBTClassifier(maxIter=20, seed=42)\n",
    "pipeline_gbt = Pipeline(stages=[assembler, scaler, gbt])"
   ]
  },
  {
   "cell_type": "code",
   "execution_count": null,
   "metadata": {
    "id": "VUy7Y-5QO1yE"
   },
   "outputs": [],
   "source": [
    "# logistic Regression\n",
    "# Using default L2 regularization\n",
    "paramGrid = ParamGridBuilder() \\\n",
    "    .addGrid(lr.regParam,[0.0, 0.05, 0.1, 0.2, 0.5]) \\\n",
    "    .build()\n",
    "\n",
    "cv_lr = CrossValidator(estimator=pipeline_lr,\\\n",
    "                       estimatorParamMaps=paramGrid,\\\n",
    "                       evaluator=MulticlassClassificationEvaluator(),\\\n",
    "                       numFolds=5,\\\n",
    "                       seed=42\n",
    "                      )\n",
    "cvModel_lr = cv_lr.fit(train)"
   ]
  },
  {
   "cell_type": "code",
   "execution_count": null,
   "metadata": {
    "id": "c2oXIO9XO16Q"
   },
   "outputs": [],
   "source": [
    "#best_lr = cvModel_lr.bestModel\n",
    "#print(\"Best reg param: \"+best_lr._java_obj.getRegParam()"
   ]
  },
  {
   "cell_type": "code",
   "execution_count": null,
   "metadata": {
    "colab": {
     "base_uri": "https://localhost:8080/"
    },
    "id": "RYm7jvGcO2GI",
    "outputId": "011cd2bb-d652-41d7-9a07-d5b076441811"
   },
   "outputs": [
    {
     "data": {
      "text/plain": [
       "[0.7825155112517618,\n",
       " 0.7785621304019302,\n",
       " 0.7919397664111452,\n",
       " 0.8026539045189003,\n",
       " 0.7732925103716157]"
      ]
     },
     "execution_count": 144,
     "metadata": {
      "tags": []
     },
     "output_type": "execute_result"
    }
   ],
   "source": [
    "cvModel_lr.avgMetrics"
   ]
  },
  {
   "cell_type": "code",
   "execution_count": null,
   "metadata": {
    "id": "byNV9P0XO13x"
   },
   "outputs": [],
   "source": [
    "lr_results = cvModel_lr.transform(test)"
   ]
  },
  {
   "cell_type": "code",
   "execution_count": null,
   "metadata": {
    "colab": {
     "base_uri": "https://localhost:8080/"
    },
    "id": "n8HgXX-aO1vp",
    "outputId": "fa1fc8de-e00f-488e-caab-daf90967497c"
   },
   "outputs": [
    {
     "name": "stdout",
     "output_type": "stream",
     "text": [
      "Logistic Regression Model --- Accuracy is: \n",
      "0.7037037037037037\n"
     ]
    }
   ],
   "source": [
    "evaluator = MulticlassClassificationEvaluator(predictionCol=\"prediction\")\n",
    "print(\"Logistic Regression Model --- Accuracy is: \")\n",
    "print(evaluator.evaluate(lr_results, {evaluator.metricName: \"accuracy\"}))"
   ]
  },
  {
   "cell_type": "code",
   "execution_count": null,
   "metadata": {
    "colab": {
     "base_uri": "https://localhost:8080/"
    },
    "id": "5bfOuvbHPcB_",
    "outputId": "7c631411-a513-4322-a1dc-405859f4ce68"
   },
   "outputs": [
    {
     "name": "stdout",
     "output_type": "stream",
     "text": [
      "Logistic Regression Model --- F1-Score is: \n",
      "0.5813204508856683\n"
     ]
    }
   ],
   "source": [
    "print(\"Logistic Regression Model --- F1-Score is: \")\n",
    "print(evaluator.evaluate(lr_results, {evaluator.metricName: \"f1\"}))"
   ]
  },
  {
   "cell_type": "code",
   "execution_count": null,
   "metadata": {
    "id": "u6MqcP0OPcMI"
   },
   "outputs": [],
   "source": [
    "# Linear Support Vector Machine\n",
    "# Using L2 regularization\n",
    "paramGrid = ParamGridBuilder() \\\n",
    "    .addGrid(svc.regParam,[0.0, 0.05, 0.1, 0.2, 0.5]) \\\n",
    "    .build()\n",
    "\n",
    "cv_svc = CrossValidator(estimator=pipeline_svc,\\\n",
    "                       estimatorParamMaps=paramGrid,\\\n",
    "                       evaluator=MulticlassClassificationEvaluator(),\\\n",
    "                       numFolds=5,\\\n",
    "                       seed=42\n",
    "                      )\n",
    "cvModel_svc = cv_svc.fit(train)"
   ]
  },
  {
   "cell_type": "code",
   "execution_count": null,
   "metadata": {
    "colab": {
     "base_uri": "https://localhost:8080/"
    },
    "id": "tped0DpLPci3",
    "outputId": "91e0551b-9177-44d8-c959-87f352d7e12e"
   },
   "outputs": [
    {
     "data": {
      "text/plain": [
       "[0.7808340133653024,\n",
       " 0.7869902714616502,\n",
       " 0.7919397664111452,\n",
       " 0.8079449098099056,\n",
       " 0.7764331262875956]"
      ]
     },
     "execution_count": 149,
     "metadata": {
      "tags": []
     },
     "output_type": "execute_result"
    }
   ],
   "source": [
    "cvModel_svc.avgMetrics"
   ]
  },
  {
   "cell_type": "code",
   "execution_count": null,
   "metadata": {
    "id": "dzjJz8V4Pc2x"
   },
   "outputs": [],
   "source": [
    "svc_results = cvModel_svc.transform(test)"
   ]
  },
  {
   "cell_type": "code",
   "execution_count": null,
   "metadata": {
    "colab": {
     "base_uri": "https://localhost:8080/"
    },
    "id": "SJcKNtHWPdDj",
    "outputId": "1d8d3c7c-295f-453e-c12c-dc258c07e62c"
   },
   "outputs": [
    {
     "name": "stdout",
     "output_type": "stream",
     "text": [
      "Linear SVC Model --- Accuracy is: \n",
      "0.7037037037037037\n"
     ]
    }
   ],
   "source": [
    "evaluator = MulticlassClassificationEvaluator(predictionCol=\"prediction\")\n",
    "print(\"Linear SVC Model --- Accuracy is: \")\n",
    "print(evaluator.evaluate(svc_results, {evaluator.metricName: \"accuracy\"}))"
   ]
  },
  {
   "cell_type": "code",
   "execution_count": null,
   "metadata": {
    "colab": {
     "base_uri": "https://localhost:8080/"
    },
    "id": "iKFA73MTPdOo",
    "outputId": "28696ea6-4ee8-4ca3-c21f-db2f7d489a3c"
   },
   "outputs": [
    {
     "name": "stdout",
     "output_type": "stream",
     "text": [
      "Linear SVC Model --- F1-Score is: \n",
      "0.5813204508856683\n"
     ]
    }
   ],
   "source": [
    "print(\"Linear SVC Model --- F1-Score is: \")\n",
    "print(evaluator.evaluate(svc_results, {evaluator.metricName: \"f1\"}))"
   ]
  },
  {
   "cell_type": "code",
   "execution_count": null,
   "metadata": {
    "id": "ANnhQfOCPdcQ"
   },
   "outputs": [],
   "source": [
    "# Gradient Boosted Trees\n",
    "paramGrid = ParamGridBuilder() \\\n",
    "            .addGrid(gbt.minInstancesPerNode,[1, 5, 10, 20, 50]) \\\n",
    "            .addGrid(gbt.maxDepth,[5, 7, 9])\\\n",
    "            .addGrid(gbt.subsamplingRate,[0.5,0.75,1.0])\\\n",
    "            .build()\n",
    "\n",
    "cv_gbt = CrossValidator(estimator=pipeline_gbt,\\\n",
    "                        estimatorParamMaps=paramGrid,\\\n",
    "                        evaluator=MulticlassClassificationEvaluator(),\\\n",
    "                        numFolds=5,\\\n",
    "                        seed=42\n",
    "                       )\n",
    "cvModel_gbt = cv_gbt.fit(train)"
   ]
  },
  {
   "cell_type": "code",
   "execution_count": null,
   "metadata": {
    "colab": {
     "base_uri": "https://localhost:8080/"
    },
    "id": "zqK2POAHPdmM",
    "outputId": "6a9317e8-6044-4e99-ce79-d4732d7fc23f"
   },
   "outputs": [
    {
     "data": {
      "text/plain": [
       "[0.7316073684900805,\n",
       " 0.7969804884831481,\n",
       " 0.8152777621013245,\n",
       " 0.7451646969545298,\n",
       " 0.7938149698647992,\n",
       " 0.804464490536068,\n",
       " 0.7377419112564314,\n",
       " 0.7935822200848797,\n",
       " 0.804464490536068,\n",
       " 0.8113246877458442,\n",
       " 0.7839869892310443,\n",
       " 0.7832999921495747,\n",
       " 0.7891908493620059,\n",
       " 0.7830482701892276,\n",
       " 0.7847723578796029,\n",
       " 0.7794710094534867,\n",
       " 0.7734965669383693,\n",
       " 0.7746273588882198,\n",
       " 0.7781937650433477,\n",
       " 0.774767309323317,\n",
       " 0.7833355030451401,\n",
       " 0.7781937650433477,\n",
       " 0.788232646666222,\n",
       " 0.7668962010920204,\n",
       " 0.7781937650433477,\n",
       " 0.788232646666222,\n",
       " 0.7668962010920204,\n",
       " 0.744257482593786,\n",
       " 0.7558644640876626,\n",
       " 0.7681939691030013,\n",
       " 0.744257482593786,\n",
       " 0.7558644640876626,\n",
       " 0.7681939691030013,\n",
       " 0.744257482593786,\n",
       " 0.7558644640876626,\n",
       " 0.7681939691030013,\n",
       " 0.6988111837510451,\n",
       " 0.7322559066694522,\n",
       " 0.7463845472363868,\n",
       " 0.6988111837510451,\n",
       " 0.7322559066694522,\n",
       " 0.7463845472363868,\n",
       " 0.6988111837510451,\n",
       " 0.7322559066694522,\n",
       " 0.7463845472363868]"
      ]
     },
     "execution_count": 154,
     "metadata": {
      "tags": []
     },
     "output_type": "execute_result"
    }
   ],
   "source": [
    "cvModel_gbt.avgMetrics"
   ]
  },
  {
   "cell_type": "code",
   "execution_count": null,
   "metadata": {
    "id": "qldXJ3JePcg6"
   },
   "outputs": [],
   "source": [
    "gbt_results = cvModel_gbt.transform(test)"
   ]
  },
  {
   "cell_type": "code",
   "execution_count": null,
   "metadata": {
    "colab": {
     "base_uri": "https://localhost:8080/"
    },
    "id": "JLCmaWJwPcao",
    "outputId": "3d31dc20-0ea4-4c57-fe9e-ad03532962bb"
   },
   "outputs": [
    {
     "name": "stdout",
     "output_type": "stream",
     "text": [
      "GBT Model --- Accuracy is: \n",
      "0.7407407407407407\n"
     ]
    }
   ],
   "source": [
    "evaluator = MulticlassClassificationEvaluator(predictionCol=\"prediction\")\n",
    "print(\"GBT Model --- Accuracy is: \")\n",
    "print(evaluator.evaluate(gbt_results, {evaluator.metricName: \"accuracy\"}))"
   ]
  },
  {
   "cell_type": "code",
   "execution_count": null,
   "metadata": {
    "colab": {
     "base_uri": "https://localhost:8080/"
    },
    "id": "F-NQmiKvPcXy",
    "outputId": "929a79c2-b5d7-4165-98fb-e9944b573ef3"
   },
   "outputs": [
    {
     "name": "stdout",
     "output_type": "stream",
     "text": [
      "GBT Model --- F1-Score is: \n",
      "0.6968913945658133\n"
     ]
    }
   ],
   "source": [
    "print(\"GBT Model --- F1-Score is: \")\n",
    "print(evaluator.evaluate(gbt_results, {evaluator.metricName: \"f1\"}))"
   ]
  },
  {
   "cell_type": "code",
   "execution_count": null,
   "metadata": {
    "colab": {
     "base_uri": "https://localhost:8080/",
     "height": 1000
    },
    "id": "WufgF_euPcVX",
    "outputId": "0d5725d7-c2d0-46a8-e3b3-da95b14ef7c7"
   },
   "outputs": [
    {
     "data": {
      "text/html": [
       "<div>\n",
       "<style scoped>\n",
       "    .dataframe tbody tr th:only-of-type {\n",
       "        vertical-align: middle;\n",
       "    }\n",
       "\n",
       "    .dataframe tbody tr th {\n",
       "        vertical-align: top;\n",
       "    }\n",
       "\n",
       "    .dataframe thead th {\n",
       "        text-align: right;\n",
       "    }\n",
       "</style>\n",
       "<table border=\"1\" class=\"dataframe\">\n",
       "  <thead>\n",
       "    <tr style=\"text-align: right;\">\n",
       "      <th></th>\n",
       "      <th>f1</th>\n",
       "      <th>minInstancesPerNode</th>\n",
       "      <th>maxDepth</th>\n",
       "      <th>subsamplingRate</th>\n",
       "    </tr>\n",
       "  </thead>\n",
       "  <tbody>\n",
       "    <tr>\n",
       "      <th>0</th>\n",
       "      <td>0.731607</td>\n",
       "      <td>1</td>\n",
       "      <td>5</td>\n",
       "      <td>0.50</td>\n",
       "    </tr>\n",
       "    <tr>\n",
       "      <th>1</th>\n",
       "      <td>0.796980</td>\n",
       "      <td>1</td>\n",
       "      <td>5</td>\n",
       "      <td>0.75</td>\n",
       "    </tr>\n",
       "    <tr>\n",
       "      <th>2</th>\n",
       "      <td>0.815278</td>\n",
       "      <td>1</td>\n",
       "      <td>5</td>\n",
       "      <td>1.00</td>\n",
       "    </tr>\n",
       "    <tr>\n",
       "      <th>3</th>\n",
       "      <td>0.745165</td>\n",
       "      <td>1</td>\n",
       "      <td>7</td>\n",
       "      <td>0.50</td>\n",
       "    </tr>\n",
       "    <tr>\n",
       "      <th>4</th>\n",
       "      <td>0.793815</td>\n",
       "      <td>1</td>\n",
       "      <td>7</td>\n",
       "      <td>0.75</td>\n",
       "    </tr>\n",
       "    <tr>\n",
       "      <th>5</th>\n",
       "      <td>0.804464</td>\n",
       "      <td>1</td>\n",
       "      <td>7</td>\n",
       "      <td>1.00</td>\n",
       "    </tr>\n",
       "    <tr>\n",
       "      <th>6</th>\n",
       "      <td>0.737742</td>\n",
       "      <td>1</td>\n",
       "      <td>9</td>\n",
       "      <td>0.50</td>\n",
       "    </tr>\n",
       "    <tr>\n",
       "      <th>7</th>\n",
       "      <td>0.793582</td>\n",
       "      <td>1</td>\n",
       "      <td>9</td>\n",
       "      <td>0.75</td>\n",
       "    </tr>\n",
       "    <tr>\n",
       "      <th>8</th>\n",
       "      <td>0.804464</td>\n",
       "      <td>1</td>\n",
       "      <td>9</td>\n",
       "      <td>1.00</td>\n",
       "    </tr>\n",
       "    <tr>\n",
       "      <th>9</th>\n",
       "      <td>0.811325</td>\n",
       "      <td>5</td>\n",
       "      <td>5</td>\n",
       "      <td>0.50</td>\n",
       "    </tr>\n",
       "    <tr>\n",
       "      <th>10</th>\n",
       "      <td>0.783987</td>\n",
       "      <td>5</td>\n",
       "      <td>5</td>\n",
       "      <td>0.75</td>\n",
       "    </tr>\n",
       "    <tr>\n",
       "      <th>11</th>\n",
       "      <td>0.783300</td>\n",
       "      <td>5</td>\n",
       "      <td>5</td>\n",
       "      <td>1.00</td>\n",
       "    </tr>\n",
       "    <tr>\n",
       "      <th>12</th>\n",
       "      <td>0.789191</td>\n",
       "      <td>5</td>\n",
       "      <td>7</td>\n",
       "      <td>0.50</td>\n",
       "    </tr>\n",
       "    <tr>\n",
       "      <th>13</th>\n",
       "      <td>0.783048</td>\n",
       "      <td>5</td>\n",
       "      <td>7</td>\n",
       "      <td>0.75</td>\n",
       "    </tr>\n",
       "    <tr>\n",
       "      <th>14</th>\n",
       "      <td>0.784772</td>\n",
       "      <td>5</td>\n",
       "      <td>7</td>\n",
       "      <td>1.00</td>\n",
       "    </tr>\n",
       "    <tr>\n",
       "      <th>15</th>\n",
       "      <td>0.779471</td>\n",
       "      <td>5</td>\n",
       "      <td>9</td>\n",
       "      <td>0.50</td>\n",
       "    </tr>\n",
       "    <tr>\n",
       "      <th>16</th>\n",
       "      <td>0.773497</td>\n",
       "      <td>5</td>\n",
       "      <td>9</td>\n",
       "      <td>0.75</td>\n",
       "    </tr>\n",
       "    <tr>\n",
       "      <th>17</th>\n",
       "      <td>0.774627</td>\n",
       "      <td>5</td>\n",
       "      <td>9</td>\n",
       "      <td>1.00</td>\n",
       "    </tr>\n",
       "    <tr>\n",
       "      <th>18</th>\n",
       "      <td>0.778194</td>\n",
       "      <td>10</td>\n",
       "      <td>5</td>\n",
       "      <td>0.50</td>\n",
       "    </tr>\n",
       "    <tr>\n",
       "      <th>19</th>\n",
       "      <td>0.774767</td>\n",
       "      <td>10</td>\n",
       "      <td>5</td>\n",
       "      <td>0.75</td>\n",
       "    </tr>\n",
       "    <tr>\n",
       "      <th>20</th>\n",
       "      <td>0.783336</td>\n",
       "      <td>10</td>\n",
       "      <td>5</td>\n",
       "      <td>1.00</td>\n",
       "    </tr>\n",
       "    <tr>\n",
       "      <th>21</th>\n",
       "      <td>0.778194</td>\n",
       "      <td>10</td>\n",
       "      <td>7</td>\n",
       "      <td>0.50</td>\n",
       "    </tr>\n",
       "    <tr>\n",
       "      <th>22</th>\n",
       "      <td>0.788233</td>\n",
       "      <td>10</td>\n",
       "      <td>7</td>\n",
       "      <td>0.75</td>\n",
       "    </tr>\n",
       "    <tr>\n",
       "      <th>23</th>\n",
       "      <td>0.766896</td>\n",
       "      <td>10</td>\n",
       "      <td>7</td>\n",
       "      <td>1.00</td>\n",
       "    </tr>\n",
       "    <tr>\n",
       "      <th>24</th>\n",
       "      <td>0.778194</td>\n",
       "      <td>10</td>\n",
       "      <td>9</td>\n",
       "      <td>0.50</td>\n",
       "    </tr>\n",
       "    <tr>\n",
       "      <th>25</th>\n",
       "      <td>0.788233</td>\n",
       "      <td>10</td>\n",
       "      <td>9</td>\n",
       "      <td>0.75</td>\n",
       "    </tr>\n",
       "    <tr>\n",
       "      <th>26</th>\n",
       "      <td>0.766896</td>\n",
       "      <td>10</td>\n",
       "      <td>9</td>\n",
       "      <td>1.00</td>\n",
       "    </tr>\n",
       "    <tr>\n",
       "      <th>27</th>\n",
       "      <td>0.744257</td>\n",
       "      <td>20</td>\n",
       "      <td>5</td>\n",
       "      <td>0.50</td>\n",
       "    </tr>\n",
       "    <tr>\n",
       "      <th>28</th>\n",
       "      <td>0.755864</td>\n",
       "      <td>20</td>\n",
       "      <td>5</td>\n",
       "      <td>0.75</td>\n",
       "    </tr>\n",
       "    <tr>\n",
       "      <th>29</th>\n",
       "      <td>0.768194</td>\n",
       "      <td>20</td>\n",
       "      <td>5</td>\n",
       "      <td>1.00</td>\n",
       "    </tr>\n",
       "    <tr>\n",
       "      <th>30</th>\n",
       "      <td>0.744257</td>\n",
       "      <td>20</td>\n",
       "      <td>7</td>\n",
       "      <td>0.50</td>\n",
       "    </tr>\n",
       "    <tr>\n",
       "      <th>31</th>\n",
       "      <td>0.755864</td>\n",
       "      <td>20</td>\n",
       "      <td>7</td>\n",
       "      <td>0.75</td>\n",
       "    </tr>\n",
       "    <tr>\n",
       "      <th>32</th>\n",
       "      <td>0.768194</td>\n",
       "      <td>20</td>\n",
       "      <td>7</td>\n",
       "      <td>1.00</td>\n",
       "    </tr>\n",
       "    <tr>\n",
       "      <th>33</th>\n",
       "      <td>0.744257</td>\n",
       "      <td>20</td>\n",
       "      <td>9</td>\n",
       "      <td>0.50</td>\n",
       "    </tr>\n",
       "    <tr>\n",
       "      <th>34</th>\n",
       "      <td>0.755864</td>\n",
       "      <td>20</td>\n",
       "      <td>9</td>\n",
       "      <td>0.75</td>\n",
       "    </tr>\n",
       "    <tr>\n",
       "      <th>35</th>\n",
       "      <td>0.768194</td>\n",
       "      <td>20</td>\n",
       "      <td>9</td>\n",
       "      <td>1.00</td>\n",
       "    </tr>\n",
       "    <tr>\n",
       "      <th>36</th>\n",
       "      <td>0.698811</td>\n",
       "      <td>50</td>\n",
       "      <td>5</td>\n",
       "      <td>0.50</td>\n",
       "    </tr>\n",
       "    <tr>\n",
       "      <th>37</th>\n",
       "      <td>0.732256</td>\n",
       "      <td>50</td>\n",
       "      <td>5</td>\n",
       "      <td>0.75</td>\n",
       "    </tr>\n",
       "    <tr>\n",
       "      <th>38</th>\n",
       "      <td>0.746385</td>\n",
       "      <td>50</td>\n",
       "      <td>5</td>\n",
       "      <td>1.00</td>\n",
       "    </tr>\n",
       "    <tr>\n",
       "      <th>39</th>\n",
       "      <td>0.698811</td>\n",
       "      <td>50</td>\n",
       "      <td>7</td>\n",
       "      <td>0.50</td>\n",
       "    </tr>\n",
       "    <tr>\n",
       "      <th>40</th>\n",
       "      <td>0.732256</td>\n",
       "      <td>50</td>\n",
       "      <td>7</td>\n",
       "      <td>0.75</td>\n",
       "    </tr>\n",
       "    <tr>\n",
       "      <th>41</th>\n",
       "      <td>0.746385</td>\n",
       "      <td>50</td>\n",
       "      <td>7</td>\n",
       "      <td>1.00</td>\n",
       "    </tr>\n",
       "    <tr>\n",
       "      <th>42</th>\n",
       "      <td>0.698811</td>\n",
       "      <td>50</td>\n",
       "      <td>9</td>\n",
       "      <td>0.50</td>\n",
       "    </tr>\n",
       "    <tr>\n",
       "      <th>43</th>\n",
       "      <td>0.732256</td>\n",
       "      <td>50</td>\n",
       "      <td>9</td>\n",
       "      <td>0.75</td>\n",
       "    </tr>\n",
       "    <tr>\n",
       "      <th>44</th>\n",
       "      <td>0.746385</td>\n",
       "      <td>50</td>\n",
       "      <td>9</td>\n",
       "      <td>1.00</td>\n",
       "    </tr>\n",
       "  </tbody>\n",
       "</table>\n",
       "</div>"
      ],
      "text/plain": [
       "          f1  minInstancesPerNode  maxDepth  subsamplingRate\n",
       "0   0.731607                    1         5             0.50\n",
       "1   0.796980                    1         5             0.75\n",
       "2   0.815278                    1         5             1.00\n",
       "3   0.745165                    1         7             0.50\n",
       "4   0.793815                    1         7             0.75\n",
       "5   0.804464                    1         7             1.00\n",
       "6   0.737742                    1         9             0.50\n",
       "7   0.793582                    1         9             0.75\n",
       "8   0.804464                    1         9             1.00\n",
       "9   0.811325                    5         5             0.50\n",
       "10  0.783987                    5         5             0.75\n",
       "11  0.783300                    5         5             1.00\n",
       "12  0.789191                    5         7             0.50\n",
       "13  0.783048                    5         7             0.75\n",
       "14  0.784772                    5         7             1.00\n",
       "15  0.779471                    5         9             0.50\n",
       "16  0.773497                    5         9             0.75\n",
       "17  0.774627                    5         9             1.00\n",
       "18  0.778194                   10         5             0.50\n",
       "19  0.774767                   10         5             0.75\n",
       "20  0.783336                   10         5             1.00\n",
       "21  0.778194                   10         7             0.50\n",
       "22  0.788233                   10         7             0.75\n",
       "23  0.766896                   10         7             1.00\n",
       "24  0.778194                   10         9             0.50\n",
       "25  0.788233                   10         9             0.75\n",
       "26  0.766896                   10         9             1.00\n",
       "27  0.744257                   20         5             0.50\n",
       "28  0.755864                   20         5             0.75\n",
       "29  0.768194                   20         5             1.00\n",
       "30  0.744257                   20         7             0.50\n",
       "31  0.755864                   20         7             0.75\n",
       "32  0.768194                   20         7             1.00\n",
       "33  0.744257                   20         9             0.50\n",
       "34  0.755864                   20         9             0.75\n",
       "35  0.768194                   20         9             1.00\n",
       "36  0.698811                   50         5             0.50\n",
       "37  0.732256                   50         5             0.75\n",
       "38  0.746385                   50         5             1.00\n",
       "39  0.698811                   50         7             0.50\n",
       "40  0.732256                   50         7             0.75\n",
       "41  0.746385                   50         7             1.00\n",
       "42  0.698811                   50         9             0.50\n",
       "43  0.732256                   50         9             0.75\n",
       "44  0.746385                   50         9             1.00"
      ]
     },
     "execution_count": 158,
     "metadata": {
      "tags": []
     },
     "output_type": "execute_result"
    }
   ],
   "source": [
    "# from https://stackoverflow.com/questions/51230726/extract-results-from-crossvalidator-with-paramgrid-in-pyspark\n",
    "\n",
    "params = [{p.name: v for p, v in m.items()} for m in cvModel_gbt.getEstimatorParamMaps()]\n",
    "\n",
    "pd.DataFrame.from_dict([\n",
    "    {cvModel_gbt.getEvaluator().getMetricName(): metric, **ps} \n",
    "    for ps, metric in zip(params, cvModel_gbt.avgMetrics)\n",
    "])"
   ]
  },
  {
   "cell_type": "code",
   "execution_count": null,
   "metadata": {
    "colab": {
     "base_uri": "https://localhost:8080/"
    },
    "id": "df65zO1ZPcST",
    "outputId": "b48f26e8-4a21-45f1-feab-4347215463d3"
   },
   "outputs": [
    {
     "data": {
      "text/plain": [
       "[VectorAssembler_4b47e8300c7a,\n",
       " StandardScalerModel: uid=StandardScaler_b248631ff310, numFeatures=27, withMean=true, withStd=true,\n",
       " GBTClassificationModel: uid = GBTClassifier_f83845f26375, numTrees=20, numClasses=2, numFeatures=27]"
      ]
     },
     "execution_count": 159,
     "metadata": {
      "tags": []
     },
     "output_type": "execute_result"
    }
   ],
   "source": [
    "# from https://blog.epigno.systems/2018/02/24/machine-learning-with-pyspark-feature-ranking/\n",
    "cvModel_gbt.bestModel.stages"
   ]
  },
  {
   "cell_type": "code",
   "execution_count": null,
   "metadata": {
    "colab": {
     "base_uri": "https://localhost:8080/"
    },
    "id": "v2oT0Lm2PcJF",
    "outputId": "839a1581-ad70-4bc1-eee4-31732ee6c0ba"
   },
   "outputs": [
    {
     "data": {
      "text/plain": [
       "SparseVector(27, {0: 0.1739, 4: 0.0566, 5: 0.1236, 6: 0.0192, 7: 0.0267, 8: 0.0289, 9: 0.0273, 11: 0.0092, 12: 0.0898, 13: 0.0162, 14: 0.071, 15: 0.0446, 16: 0.1908, 17: 0.0436, 18: 0.0028, 19: 0.0165, 20: 0.0065, 21: 0.0199, 23: 0.0107, 26: 0.0223})"
      ]
     },
     "execution_count": 160,
     "metadata": {
      "tags": []
     },
     "output_type": "execute_result"
    }
   ],
   "source": [
    "cvModel_gbt.bestModel.stages[-1].featureImportances"
   ]
  },
  {
   "cell_type": "code",
   "execution_count": null,
   "metadata": {
    "colab": {
     "base_uri": "https://localhost:8080/"
    },
    "id": "VQnb1APSPcFu",
    "outputId": "aa7c986d-dd5d-4c2b-adb3-4398c7cecfc0"
   },
   "outputs": [
    {
     "data": {
      "text/plain": [
       "array([0.17390549, 0.        , 0.        , 0.        , 0.05657933,\n",
       "       0.12364736, 0.01917121, 0.02669068, 0.02886006, 0.02731507,\n",
       "       0.        , 0.0091522 , 0.08979003, 0.01623645, 0.07099203,\n",
       "       0.04460241, 0.19078232, 0.04358869, 0.00281517, 0.01648737,\n",
       "       0.00652339, 0.01987034, 0.        , 0.01067876, 0.        ,\n",
       "       0.        , 0.02231163])"
      ]
     },
     "execution_count": 161,
     "metadata": {
      "tags": []
     },
     "output_type": "execute_result"
    }
   ],
   "source": [
    "cvModel_gbt.bestModel.stages[-1].featureImportances.toArray()"
   ]
  },
  {
   "cell_type": "code",
   "execution_count": null,
   "metadata": {
    "colab": {
     "base_uri": "https://localhost:8080/",
     "height": 513
    },
    "id": "5vIRPkNkQd42",
    "outputId": "31c2b0e6-38b1-478b-9e18-1be8b439b577"
   },
   "outputs": [
    {
     "data": {
      "image/png": "[encoded data removed]",
      "text/plain": [
       "<Figure size 720x576 with 1 Axes>"
      ]
     },
     "metadata": {
      "needs_background": "light",
      "tags": []
     },
     "output_type": "display_data"
    }
   ],
   "source": [
    "\n",
    "# plot feature importances\n",
    "importances = cvModel_gbt.bestModel.stages[-1].featureImportances.toArray()\n",
    "features = ['userId_n', 'month_num', 'numRegister_lastMonth', 'numCancelVisits_lastMonth',\\\n",
    "            'numUpgradeVisits_lastMonth', 'numDowngradeVisits_lastMonth',\\\n",
    "            'numHomeVisits_lastMonth', 'numAboutVisits_lastMonth',\\\n",
    "            'numSettingsVisits_lastMonth', 'numSaveSettings_lastMonth',\\\n",
    "            'numLogins_lastMonth', 'numLogouts_lastMonth', \\\n",
    "            'numAddPlaylists_lastMonth', 'numFriends_lastMonth',\\\n",
    "            'numThumbsUp_lastMonth', 'numThumbsDown_lastMonth',\\\n",
    "            'numAdverts_lastMonth', 'numSongsPlayed_lastMonth',\\\n",
    "            'totalListenTime_lastMonth', 'avgSongsPerSession_lastMonth',\\\n",
    "            'numSingersPlayed_lastMonth', 'avgSingersPerSession_lastMonth',\\\n",
    "            'avgSessionMins_lastMonth', 'numSessions_lastMonth',\\\n",
    "            'level_lastMonth_n', 'gender_n', 'daysSinceReg']\n",
    "\n",
    "y_pos = np.arange(len(features))\n",
    "    \n",
    "fig, ax = plt.subplots(figsize=(10,8))\n",
    "ax.barh(y_pos, importances);\n",
    "plt.yticks(y_pos, features);\n",
    "plt.xlabel('Importance Score');\n",
    "plt.title('GBT Feature Importances');"
   ]
  }
 ],
 "metadata": {
  "colab": {
   "collapsed_sections": [],
   "name": "DBFramework.ipynb",
   "provenance": []
  },
  "kernelspec": {
   "display_name": "Python 3",
   "language": "python",
   "name": "python3"
  },
  "language_info": {
   "codemirror_mode": {
    "name": "ipython",
    "version": 3
   },
   "file_extension": ".py",
   "mimetype": "text/x-python",
   "name": "python",
   "nbconvert_exporter": "python",
   "pygments_lexer": "ipython3",
   "version": "3.7.4"
  }
 },
 "nbformat": 4,
 "nbformat_minor": 1
}
